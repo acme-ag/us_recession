{
 "cells": [
  {
   "cell_type": "code",
   "execution_count": 1,
   "id": "738f12bc-6ca5-4a03-aa00-d295d2e147a1",
   "metadata": {
    "tags": []
   },
   "outputs": [],
   "source": [
    "from IPython.core.interactiveshell import InteractiveShell\n",
    "InteractiveShell.ast_node_interactivity = \"all\"\n",
    "\n",
    "import warnings\n",
    "warnings.filterwarnings('ignore')"
   ]
  },
  {
   "cell_type": "markdown",
   "id": "1146b8c2-fab8-4358-b55a-a61887a59560",
   "metadata": {},
   "source": [
    "# Recession"
   ]
  },
  {
   "cell_type": "markdown",
   "id": "6910634b-f679-4f0e-98e0-3986d72d327f",
   "metadata": {},
   "source": [
    "Main purpose is to practice data cleanings and combining datasets from different sources. So we want to create a dataframe with a number of different variables and see which of them is a better predictor of recession (if there's any). We're going to take 1950-01-01 as a starting point (it's harder to find a reliable enough data for some variables prior to that date) and fill the dataset with data for every month starting from that. For some variables there's no monthly data, only quarterly, so we'll fill that with artificial data elements."
   ]
  },
  {
   "cell_type": "code",
   "execution_count": 2,
   "id": "1ddbbf72-9e67-416f-b783-2e66653d28ba",
   "metadata": {
    "tags": []
   },
   "outputs": [],
   "source": [
    "import numpy as np\n",
    "import pandas as pd\n",
    "import re"
   ]
  },
  {
   "cell_type": "markdown",
   "id": "9a6d2ad2-6798-4db2-84d4-e59541a8d5ec",
   "metadata": {},
   "source": [
    "First we want to create the dataset. Start with GDP table, then add GDP rates, then go on with the next tables.\n",
    "\n",
    "A note on dates:\n",
    "\n",
    "Despite that the dates are given in the format `yyyy-mm-dd`, where `dd` is 01, in fact the data is given for _that entire month_. For example, `1948-03-01` means that the data is for March 1948, **not** for Feb 1948. Maybe i'll will fix that later."
   ]
  },
  {
   "cell_type": "markdown",
   "id": "599b52c9-988f-46f3-a39c-fa70ee1d8ea3",
   "metadata": {},
   "source": [
    "### GDP"
   ]
  },
  {
   "cell_type": "code",
   "execution_count": 3,
   "id": "a9608c01-328a-4d19-8c21-607bfc08de98",
   "metadata": {
    "tags": []
   },
   "outputs": [
    {
     "data": {
      "text/html": [
       "<div>\n",
       "<style scoped>\n",
       "    .dataframe tbody tr th:only-of-type {\n",
       "        vertical-align: middle;\n",
       "    }\n",
       "\n",
       "    .dataframe tbody tr th {\n",
       "        vertical-align: top;\n",
       "    }\n",
       "\n",
       "    .dataframe thead th {\n",
       "        text-align: right;\n",
       "    }\n",
       "</style>\n",
       "<table border=\"1\" class=\"dataframe\">\n",
       "  <thead>\n",
       "    <tr style=\"text-align: right;\">\n",
       "      <th></th>\n",
       "      <th>DATE</th>\n",
       "      <th>GDPC1</th>\n",
       "    </tr>\n",
       "  </thead>\n",
       "  <tbody>\n",
       "    <tr>\n",
       "      <th>0</th>\n",
       "      <td>1947-01-01</td>\n",
       "      <td>2182.681</td>\n",
       "    </tr>\n",
       "    <tr>\n",
       "      <th>1</th>\n",
       "      <td>1947-04-01</td>\n",
       "      <td>2176.892</td>\n",
       "    </tr>\n",
       "    <tr>\n",
       "      <th>2</th>\n",
       "      <td>1947-07-01</td>\n",
       "      <td>2172.432</td>\n",
       "    </tr>\n",
       "    <tr>\n",
       "      <th>3</th>\n",
       "      <td>1947-10-01</td>\n",
       "      <td>2206.452</td>\n",
       "    </tr>\n",
       "    <tr>\n",
       "      <th>4</th>\n",
       "      <td>1948-01-01</td>\n",
       "      <td>2239.682</td>\n",
       "    </tr>\n",
       "  </tbody>\n",
       "</table>\n",
       "</div>"
      ],
      "text/plain": [
       "         DATE     GDPC1\n",
       "0  1947-01-01  2182.681\n",
       "1  1947-04-01  2176.892\n",
       "2  1947-07-01  2172.432\n",
       "3  1947-10-01  2206.452\n",
       "4  1948-01-01  2239.682"
      ]
     },
     "execution_count": 3,
     "metadata": {},
     "output_type": "execute_result"
    },
    {
     "data": {
      "text/plain": [
       "(309, 2)"
      ]
     },
     "execution_count": 3,
     "metadata": {},
     "output_type": "execute_result"
    }
   ],
   "source": [
    "df = pd.read_csv('Real_GDP_USA.csv')\n",
    "df.head()\n",
    "df.shape"
   ]
  },
  {
   "cell_type": "markdown",
   "id": "6855db01-c8c9-4224-bfe8-d3e522e80b46",
   "metadata": {},
   "source": [
    "Here we want to convert the variable into date-time object"
   ]
  },
  {
   "cell_type": "code",
   "execution_count": 4,
   "id": "92dc0a4b-0f26-4392-961c-e35a0c4e9ed6",
   "metadata": {
    "tags": []
   },
   "outputs": [],
   "source": [
    "df['DATE'] = pd.to_datetime(df['DATE'])"
   ]
  },
  {
   "cell_type": "code",
   "execution_count": 5,
   "id": "db674f68-8f50-4c20-9e24-579cdedf093a",
   "metadata": {
    "tags": []
   },
   "outputs": [
    {
     "data": {
      "text/html": [
       "<div>\n",
       "<style scoped>\n",
       "    .dataframe tbody tr th:only-of-type {\n",
       "        vertical-align: middle;\n",
       "    }\n",
       "\n",
       "    .dataframe tbody tr th {\n",
       "        vertical-align: top;\n",
       "    }\n",
       "\n",
       "    .dataframe thead th {\n",
       "        text-align: right;\n",
       "    }\n",
       "</style>\n",
       "<table border=\"1\" class=\"dataframe\">\n",
       "  <thead>\n",
       "    <tr style=\"text-align: right;\">\n",
       "      <th></th>\n",
       "      <th>DATE</th>\n",
       "      <th>A191RL1Q225SBEA</th>\n",
       "    </tr>\n",
       "  </thead>\n",
       "  <tbody>\n",
       "    <tr>\n",
       "      <th>0</th>\n",
       "      <td>1947-04-01</td>\n",
       "      <td>-1.0</td>\n",
       "    </tr>\n",
       "    <tr>\n",
       "      <th>1</th>\n",
       "      <td>1947-07-01</td>\n",
       "      <td>-0.8</td>\n",
       "    </tr>\n",
       "    <tr>\n",
       "      <th>2</th>\n",
       "      <td>1947-10-01</td>\n",
       "      <td>6.4</td>\n",
       "    </tr>\n",
       "    <tr>\n",
       "      <th>3</th>\n",
       "      <td>1948-01-01</td>\n",
       "      <td>6.2</td>\n",
       "    </tr>\n",
       "    <tr>\n",
       "      <th>4</th>\n",
       "      <td>1948-04-01</td>\n",
       "      <td>6.8</td>\n",
       "    </tr>\n",
       "  </tbody>\n",
       "</table>\n",
       "</div>"
      ],
      "text/plain": [
       "         DATE  A191RL1Q225SBEA\n",
       "0  1947-04-01             -1.0\n",
       "1  1947-07-01             -0.8\n",
       "2  1947-10-01              6.4\n",
       "3  1948-01-01              6.2\n",
       "4  1948-04-01              6.8"
      ]
     },
     "execution_count": 5,
     "metadata": {},
     "output_type": "execute_result"
    },
    {
     "data": {
      "text/plain": [
       "(308, 2)"
      ]
     },
     "execution_count": 5,
     "metadata": {},
     "output_type": "execute_result"
    }
   ],
   "source": [
    "df_to_append = pd.read_csv('Real_GDP_Rate_USA.csv')\n",
    "df_to_append.head()\n",
    "df_to_append.shape"
   ]
  },
  {
   "cell_type": "markdown",
   "id": "b6fadf88-e21d-4336-a94e-58c00e0ea7a5",
   "metadata": {},
   "source": [
    "There's a discrepancy in data, so we convert variable into date-time object and just add an initial datapoint with value 0, that's the starting point of the rate changes."
   ]
  },
  {
   "cell_type": "code",
   "execution_count": 6,
   "id": "e8a62a75-d979-4304-8318-fb2e26821d72",
   "metadata": {
    "tags": []
   },
   "outputs": [],
   "source": [
    "df_to_append['DATE'] = pd.to_datetime(df_to_append['DATE'])"
   ]
  },
  {
   "cell_type": "code",
   "execution_count": 7,
   "id": "f3532cfd-7a03-4589-9b89-74ddf57544d5",
   "metadata": {
    "tags": []
   },
   "outputs": [],
   "source": [
    "df_to_append = pd.concat([pd.DataFrame({'DATE':[pd.to_datetime('1947-01-01')], 'A191RL1Q225SBEA': 0}), df_to_append]).reset_index(drop=True)"
   ]
  },
  {
   "cell_type": "code",
   "execution_count": 8,
   "id": "223b0aa2-a543-47dd-b581-b6482dfa8469",
   "metadata": {
    "tags": []
   },
   "outputs": [
    {
     "data": {
      "text/html": [
       "<div>\n",
       "<style scoped>\n",
       "    .dataframe tbody tr th:only-of-type {\n",
       "        vertical-align: middle;\n",
       "    }\n",
       "\n",
       "    .dataframe tbody tr th {\n",
       "        vertical-align: top;\n",
       "    }\n",
       "\n",
       "    .dataframe thead th {\n",
       "        text-align: right;\n",
       "    }\n",
       "</style>\n",
       "<table border=\"1\" class=\"dataframe\">\n",
       "  <thead>\n",
       "    <tr style=\"text-align: right;\">\n",
       "      <th></th>\n",
       "      <th>DATE</th>\n",
       "      <th>A191RL1Q225SBEA</th>\n",
       "    </tr>\n",
       "  </thead>\n",
       "  <tbody>\n",
       "    <tr>\n",
       "      <th>0</th>\n",
       "      <td>1947-01-01</td>\n",
       "      <td>0.0</td>\n",
       "    </tr>\n",
       "    <tr>\n",
       "      <th>1</th>\n",
       "      <td>1947-04-01</td>\n",
       "      <td>-1.0</td>\n",
       "    </tr>\n",
       "    <tr>\n",
       "      <th>2</th>\n",
       "      <td>1947-07-01</td>\n",
       "      <td>-0.8</td>\n",
       "    </tr>\n",
       "    <tr>\n",
       "      <th>3</th>\n",
       "      <td>1947-10-01</td>\n",
       "      <td>6.4</td>\n",
       "    </tr>\n",
       "    <tr>\n",
       "      <th>4</th>\n",
       "      <td>1948-01-01</td>\n",
       "      <td>6.2</td>\n",
       "    </tr>\n",
       "  </tbody>\n",
       "</table>\n",
       "</div>"
      ],
      "text/plain": [
       "        DATE  A191RL1Q225SBEA\n",
       "0 1947-01-01              0.0\n",
       "1 1947-04-01             -1.0\n",
       "2 1947-07-01             -0.8\n",
       "3 1947-10-01              6.4\n",
       "4 1948-01-01              6.2"
      ]
     },
     "execution_count": 8,
     "metadata": {},
     "output_type": "execute_result"
    }
   ],
   "source": [
    "df_to_append.head()"
   ]
  },
  {
   "cell_type": "code",
   "execution_count": 9,
   "id": "0c6da643-96e7-46c5-90ff-67b00ce18cfa",
   "metadata": {
    "tags": []
   },
   "outputs": [
    {
     "data": {
      "text/html": [
       "<div>\n",
       "<style scoped>\n",
       "    .dataframe tbody tr th:only-of-type {\n",
       "        vertical-align: middle;\n",
       "    }\n",
       "\n",
       "    .dataframe tbody tr th {\n",
       "        vertical-align: top;\n",
       "    }\n",
       "\n",
       "    .dataframe thead th {\n",
       "        text-align: right;\n",
       "    }\n",
       "</style>\n",
       "<table border=\"1\" class=\"dataframe\">\n",
       "  <thead>\n",
       "    <tr style=\"text-align: right;\">\n",
       "      <th></th>\n",
       "      <th>DATE</th>\n",
       "      <th>GDPC1</th>\n",
       "      <th>GDP rate</th>\n",
       "    </tr>\n",
       "  </thead>\n",
       "  <tbody>\n",
       "    <tr>\n",
       "      <th>0</th>\n",
       "      <td>1947-01-01</td>\n",
       "      <td>2182.681</td>\n",
       "      <td>0.0</td>\n",
       "    </tr>\n",
       "    <tr>\n",
       "      <th>1</th>\n",
       "      <td>1947-04-01</td>\n",
       "      <td>2176.892</td>\n",
       "      <td>-1.0</td>\n",
       "    </tr>\n",
       "    <tr>\n",
       "      <th>2</th>\n",
       "      <td>1947-07-01</td>\n",
       "      <td>2172.432</td>\n",
       "      <td>-0.8</td>\n",
       "    </tr>\n",
       "    <tr>\n",
       "      <th>3</th>\n",
       "      <td>1947-10-01</td>\n",
       "      <td>2206.452</td>\n",
       "      <td>6.4</td>\n",
       "    </tr>\n",
       "    <tr>\n",
       "      <th>4</th>\n",
       "      <td>1948-01-01</td>\n",
       "      <td>2239.682</td>\n",
       "      <td>6.2</td>\n",
       "    </tr>\n",
       "  </tbody>\n",
       "</table>\n",
       "</div>"
      ],
      "text/plain": [
       "        DATE     GDPC1  GDP rate\n",
       "0 1947-01-01  2182.681       0.0\n",
       "1 1947-04-01  2176.892      -1.0\n",
       "2 1947-07-01  2172.432      -0.8\n",
       "3 1947-10-01  2206.452       6.4\n",
       "4 1948-01-01  2239.682       6.2"
      ]
     },
     "execution_count": 9,
     "metadata": {},
     "output_type": "execute_result"
    }
   ],
   "source": [
    "df['GDP rate'] = df_to_append['A191RL1Q225SBEA']\n",
    "df.head()"
   ]
  },
  {
   "cell_type": "code",
   "execution_count": 10,
   "id": "50183199-935b-4a96-8c40-cc01b4287260",
   "metadata": {
    "tags": []
   },
   "outputs": [
    {
     "data": {
      "text/html": [
       "<div>\n",
       "<style scoped>\n",
       "    .dataframe tbody tr th:only-of-type {\n",
       "        vertical-align: middle;\n",
       "    }\n",
       "\n",
       "    .dataframe tbody tr th {\n",
       "        vertical-align: top;\n",
       "    }\n",
       "\n",
       "    .dataframe thead th {\n",
       "        text-align: right;\n",
       "    }\n",
       "</style>\n",
       "<table border=\"1\" class=\"dataframe\">\n",
       "  <thead>\n",
       "    <tr style=\"text-align: right;\">\n",
       "      <th></th>\n",
       "      <th>Date</th>\n",
       "      <th>GDP</th>\n",
       "      <th>GDP rate</th>\n",
       "    </tr>\n",
       "  </thead>\n",
       "  <tbody>\n",
       "    <tr>\n",
       "      <th>0</th>\n",
       "      <td>1947-01-01</td>\n",
       "      <td>2182.681</td>\n",
       "      <td>0.0</td>\n",
       "    </tr>\n",
       "  </tbody>\n",
       "</table>\n",
       "</div>"
      ],
      "text/plain": [
       "        Date       GDP  GDP rate\n",
       "0 1947-01-01  2182.681       0.0"
      ]
     },
     "execution_count": 10,
     "metadata": {},
     "output_type": "execute_result"
    }
   ],
   "source": [
    "df.rename(columns={'GDPC1':'GDP', 'DATE': 'Date'}, inplace=True)\n",
    "df.head(1)"
   ]
  },
  {
   "cell_type": "code",
   "execution_count": 11,
   "id": "34af38b1-3312-46d7-8b58-9585264803ce",
   "metadata": {
    "tags": []
   },
   "outputs": [
    {
     "data": {
      "text/plain": [
       "Index(['Date', 'GDP', 'GDP rate'], dtype='object')"
      ]
     },
     "execution_count": 11,
     "metadata": {},
     "output_type": "execute_result"
    },
    {
     "name": "stdout",
     "output_type": "stream",
     "text": [
      "<class 'pandas.core.frame.DataFrame'>\n",
      "RangeIndex: 309 entries, 0 to 308\n",
      "Data columns (total 3 columns):\n",
      " #   Column    Non-Null Count  Dtype         \n",
      "---  ------    --------------  -----         \n",
      " 0   Date      309 non-null    datetime64[ns]\n",
      " 1   GDP       309 non-null    float64       \n",
      " 2   GDP rate  309 non-null    float64       \n",
      "dtypes: datetime64[ns](1), float64(2)\n",
      "memory usage: 7.4 KB\n"
     ]
    }
   ],
   "source": [
    "# df.reset_index()\n",
    "df.columns\n",
    "df.info()"
   ]
  },
  {
   "cell_type": "markdown",
   "id": "b2215e58-ae97-410a-bd7f-ff3792f9042e",
   "metadata": {},
   "source": [
    "To merge with the other tables we need to make it for every month, not quarter. So we'll expand the table with monthly data for every quarter filling the GDP and rate values with values for the relevant quarter."
   ]
  },
  {
   "cell_type": "code",
   "execution_count": 12,
   "id": "bd9125d6-ecd1-4653-be6a-718fb3ceccbe",
   "metadata": {
    "tags": []
   },
   "outputs": [
    {
     "data": {
      "text/html": [
       "<div>\n",
       "<style scoped>\n",
       "    .dataframe tbody tr th:only-of-type {\n",
       "        vertical-align: middle;\n",
       "    }\n",
       "\n",
       "    .dataframe tbody tr th {\n",
       "        vertical-align: top;\n",
       "    }\n",
       "\n",
       "    .dataframe thead th {\n",
       "        text-align: right;\n",
       "    }\n",
       "</style>\n",
       "<table border=\"1\" class=\"dataframe\">\n",
       "  <thead>\n",
       "    <tr style=\"text-align: right;\">\n",
       "      <th></th>\n",
       "      <th>Date</th>\n",
       "      <th>GDP</th>\n",
       "      <th>GDP rate</th>\n",
       "    </tr>\n",
       "  </thead>\n",
       "  <tbody>\n",
       "    <tr>\n",
       "      <th>0</th>\n",
       "      <td>1947-01-01</td>\n",
       "      <td>2182.681</td>\n",
       "      <td>0.0</td>\n",
       "    </tr>\n",
       "    <tr>\n",
       "      <th>1</th>\n",
       "      <td>1947-02-01</td>\n",
       "      <td>2182.681</td>\n",
       "      <td>0.0</td>\n",
       "    </tr>\n",
       "    <tr>\n",
       "      <th>2</th>\n",
       "      <td>1947-03-01</td>\n",
       "      <td>2182.681</td>\n",
       "      <td>0.0</td>\n",
       "    </tr>\n",
       "    <tr>\n",
       "      <th>3</th>\n",
       "      <td>1947-04-01</td>\n",
       "      <td>2176.892</td>\n",
       "      <td>-1.0</td>\n",
       "    </tr>\n",
       "    <tr>\n",
       "      <th>4</th>\n",
       "      <td>1947-05-01</td>\n",
       "      <td>2176.892</td>\n",
       "      <td>-1.0</td>\n",
       "    </tr>\n",
       "    <tr>\n",
       "      <th>5</th>\n",
       "      <td>1947-06-01</td>\n",
       "      <td>2176.892</td>\n",
       "      <td>-1.0</td>\n",
       "    </tr>\n",
       "    <tr>\n",
       "      <th>6</th>\n",
       "      <td>1947-07-01</td>\n",
       "      <td>2172.432</td>\n",
       "      <td>-0.8</td>\n",
       "    </tr>\n",
       "    <tr>\n",
       "      <th>7</th>\n",
       "      <td>1947-08-01</td>\n",
       "      <td>2172.432</td>\n",
       "      <td>-0.8</td>\n",
       "    </tr>\n",
       "    <tr>\n",
       "      <th>8</th>\n",
       "      <td>1947-09-01</td>\n",
       "      <td>2172.432</td>\n",
       "      <td>-0.8</td>\n",
       "    </tr>\n",
       "    <tr>\n",
       "      <th>9</th>\n",
       "      <td>1947-10-01</td>\n",
       "      <td>2206.452</td>\n",
       "      <td>6.4</td>\n",
       "    </tr>\n",
       "    <tr>\n",
       "      <th>10</th>\n",
       "      <td>1947-11-01</td>\n",
       "      <td>2206.452</td>\n",
       "      <td>6.4</td>\n",
       "    </tr>\n",
       "    <tr>\n",
       "      <th>11</th>\n",
       "      <td>1947-12-01</td>\n",
       "      <td>2206.452</td>\n",
       "      <td>6.4</td>\n",
       "    </tr>\n",
       "    <tr>\n",
       "      <th>12</th>\n",
       "      <td>1948-01-01</td>\n",
       "      <td>2239.682</td>\n",
       "      <td>6.2</td>\n",
       "    </tr>\n",
       "    <tr>\n",
       "      <th>13</th>\n",
       "      <td>1948-02-01</td>\n",
       "      <td>2239.682</td>\n",
       "      <td>6.2</td>\n",
       "    </tr>\n",
       "    <tr>\n",
       "      <th>14</th>\n",
       "      <td>1948-03-01</td>\n",
       "      <td>2239.682</td>\n",
       "      <td>6.2</td>\n",
       "    </tr>\n",
       "  </tbody>\n",
       "</table>\n",
       "</div>"
      ],
      "text/plain": [
       "         Date       GDP  GDP rate\n",
       "0  1947-01-01  2182.681       0.0\n",
       "1  1947-02-01  2182.681       0.0\n",
       "2  1947-03-01  2182.681       0.0\n",
       "3  1947-04-01  2176.892      -1.0\n",
       "4  1947-05-01  2176.892      -1.0\n",
       "5  1947-06-01  2176.892      -1.0\n",
       "6  1947-07-01  2172.432      -0.8\n",
       "7  1947-08-01  2172.432      -0.8\n",
       "8  1947-09-01  2172.432      -0.8\n",
       "9  1947-10-01  2206.452       6.4\n",
       "10 1947-11-01  2206.452       6.4\n",
       "11 1947-12-01  2206.452       6.4\n",
       "12 1948-01-01  2239.682       6.2\n",
       "13 1948-02-01  2239.682       6.2\n",
       "14 1948-03-01  2239.682       6.2"
      ]
     },
     "execution_count": 12,
     "metadata": {},
     "output_type": "execute_result"
    }
   ],
   "source": [
    "new_rows = []\n",
    "\n",
    "for _, row in df.iterrows():\n",
    "    for month in range(3):\n",
    "        new_date = row['Date'] + pd.DateOffset(months=month)\n",
    "        new_rows.append({\n",
    "            'Date': new_date,\n",
    "            'GDP': row['GDP'],\n",
    "            'GDP rate': row['GDP rate']\n",
    "        })\n",
    "\n",
    "new_df = pd.DataFrame(new_rows)\n",
    "\n",
    "new_df = new_df.reset_index(drop=True)\n",
    "\n",
    "new_df.head(15)"
   ]
  },
  {
   "cell_type": "code",
   "execution_count": 13,
   "id": "317e4623-2050-4cf4-b417-7d12d6e605e5",
   "metadata": {
    "tags": []
   },
   "outputs": [
    {
     "name": "stdout",
     "output_type": "stream",
     "text": [
      "<class 'pandas.core.frame.DataFrame'>\n",
      "RangeIndex: 927 entries, 0 to 926\n",
      "Data columns (total 3 columns):\n",
      " #   Column    Non-Null Count  Dtype         \n",
      "---  ------    --------------  -----         \n",
      " 0   Date      927 non-null    datetime64[ns]\n",
      " 1   GDP       927 non-null    float64       \n",
      " 2   GDP rate  927 non-null    float64       \n",
      "dtypes: datetime64[ns](1), float64(2)\n",
      "memory usage: 21.9 KB\n"
     ]
    },
    {
     "data": {
      "text/html": [
       "<div>\n",
       "<style scoped>\n",
       "    .dataframe tbody tr th:only-of-type {\n",
       "        vertical-align: middle;\n",
       "    }\n",
       "\n",
       "    .dataframe tbody tr th {\n",
       "        vertical-align: top;\n",
       "    }\n",
       "\n",
       "    .dataframe thead th {\n",
       "        text-align: right;\n",
       "    }\n",
       "</style>\n",
       "<table border=\"1\" class=\"dataframe\">\n",
       "  <thead>\n",
       "    <tr style=\"text-align: right;\">\n",
       "      <th></th>\n",
       "      <th>Date</th>\n",
       "      <th>GDP</th>\n",
       "      <th>GDP rate</th>\n",
       "    </tr>\n",
       "  </thead>\n",
       "  <tbody>\n",
       "    <tr>\n",
       "      <th>926</th>\n",
       "      <td>2024-03-01</td>\n",
       "      <td>22758.752</td>\n",
       "      <td>1.4</td>\n",
       "    </tr>\n",
       "  </tbody>\n",
       "</table>\n",
       "</div>"
      ],
      "text/plain": [
       "          Date        GDP  GDP rate\n",
       "926 2024-03-01  22758.752       1.4"
      ]
     },
     "execution_count": 13,
     "metadata": {},
     "output_type": "execute_result"
    }
   ],
   "source": [
    "df = new_df\n",
    "df.info()\n",
    "df.tail(1)"
   ]
  },
  {
   "cell_type": "markdown",
   "id": "940d5fd0-eea1-4ea6-a663-9fa527fd18ef",
   "metadata": {},
   "source": [
    "### Recession dates"
   ]
  },
  {
   "cell_type": "code",
   "execution_count": 14,
   "id": "fe813789-dfa6-4f4b-b0da-1af4abcdff20",
   "metadata": {
    "tags": []
   },
   "outputs": [
    {
     "data": {
      "text/html": [
       "<div>\n",
       "<style scoped>\n",
       "    .dataframe tbody tr th:only-of-type {\n",
       "        vertical-align: middle;\n",
       "    }\n",
       "\n",
       "    .dataframe tbody tr th {\n",
       "        vertical-align: top;\n",
       "    }\n",
       "\n",
       "    .dataframe thead th {\n",
       "        text-align: right;\n",
       "    }\n",
       "</style>\n",
       "<table border=\"1\" class=\"dataframe\">\n",
       "  <thead>\n",
       "    <tr style=\"text-align: right;\">\n",
       "      <th></th>\n",
       "      <th>DATE</th>\n",
       "      <th>USREC</th>\n",
       "    </tr>\n",
       "  </thead>\n",
       "  <tbody>\n",
       "    <tr>\n",
       "      <th>0</th>\n",
       "      <td>1854-12-01</td>\n",
       "      <td>1</td>\n",
       "    </tr>\n",
       "    <tr>\n",
       "      <th>1</th>\n",
       "      <td>1855-01-01</td>\n",
       "      <td>0</td>\n",
       "    </tr>\n",
       "    <tr>\n",
       "      <th>2</th>\n",
       "      <td>1855-02-01</td>\n",
       "      <td>0</td>\n",
       "    </tr>\n",
       "    <tr>\n",
       "      <th>3</th>\n",
       "      <td>1855-03-01</td>\n",
       "      <td>0</td>\n",
       "    </tr>\n",
       "    <tr>\n",
       "      <th>4</th>\n",
       "      <td>1855-04-01</td>\n",
       "      <td>0</td>\n",
       "    </tr>\n",
       "  </tbody>\n",
       "</table>\n",
       "</div>"
      ],
      "text/plain": [
       "         DATE  USREC\n",
       "0  1854-12-01      1\n",
       "1  1855-01-01      0\n",
       "2  1855-02-01      0\n",
       "3  1855-03-01      0\n",
       "4  1855-04-01      0"
      ]
     },
     "execution_count": 14,
     "metadata": {},
     "output_type": "execute_result"
    },
    {
     "data": {
      "text/html": [
       "<div>\n",
       "<style scoped>\n",
       "    .dataframe tbody tr th:only-of-type {\n",
       "        vertical-align: middle;\n",
       "    }\n",
       "\n",
       "    .dataframe tbody tr th {\n",
       "        vertical-align: top;\n",
       "    }\n",
       "\n",
       "    .dataframe thead th {\n",
       "        text-align: right;\n",
       "    }\n",
       "</style>\n",
       "<table border=\"1\" class=\"dataframe\">\n",
       "  <thead>\n",
       "    <tr style=\"text-align: right;\">\n",
       "      <th></th>\n",
       "      <th>DATE</th>\n",
       "      <th>USREC</th>\n",
       "    </tr>\n",
       "  </thead>\n",
       "  <tbody>\n",
       "    <tr>\n",
       "      <th>2030</th>\n",
       "      <td>2/1/24</td>\n",
       "      <td>0</td>\n",
       "    </tr>\n",
       "    <tr>\n",
       "      <th>2031</th>\n",
       "      <td>3/1/24</td>\n",
       "      <td>0</td>\n",
       "    </tr>\n",
       "    <tr>\n",
       "      <th>2032</th>\n",
       "      <td>4/1/24</td>\n",
       "      <td>0</td>\n",
       "    </tr>\n",
       "    <tr>\n",
       "      <th>2033</th>\n",
       "      <td>5/1/24</td>\n",
       "      <td>0</td>\n",
       "    </tr>\n",
       "    <tr>\n",
       "      <th>2034</th>\n",
       "      <td>6/1/24</td>\n",
       "      <td>0</td>\n",
       "    </tr>\n",
       "  </tbody>\n",
       "</table>\n",
       "</div>"
      ],
      "text/plain": [
       "        DATE  USREC\n",
       "2030  2/1/24      0\n",
       "2031  3/1/24      0\n",
       "2032  4/1/24      0\n",
       "2033  5/1/24      0\n",
       "2034  6/1/24      0"
      ]
     },
     "execution_count": 14,
     "metadata": {},
     "output_type": "execute_result"
    }
   ],
   "source": [
    "df_rec = pd.read_csv('US_Rcession_dates_.csv')\n",
    "df_rec.head()\n",
    "df_rec.tail()"
   ]
  },
  {
   "cell_type": "code",
   "execution_count": 15,
   "id": "76ef1d90-cf47-4871-934e-7c9e873e043a",
   "metadata": {
    "tags": []
   },
   "outputs": [],
   "source": [
    "# part of dates is in incorrrect date format. we need to deal with that first.\n",
    "# df_rec['DATE'] = pd.to_datetime(df_rec['DATE'])"
   ]
  },
  {
   "cell_type": "code",
   "execution_count": 16,
   "id": "40b5b306-39f1-4049-86dd-5991c2386f14",
   "metadata": {
    "tags": []
   },
   "outputs": [],
   "source": [
    "# try to convert to datetime object\n",
    "df_rec['Date_converted'] = pd.to_datetime(df_rec['DATE'], errors='coerce')"
   ]
  },
  {
   "cell_type": "code",
   "execution_count": 17,
   "id": "a31c1a1d-92fd-47da-941c-34276a43b20e",
   "metadata": {
    "tags": []
   },
   "outputs": [
    {
     "data": {
      "text/html": [
       "<div>\n",
       "<style scoped>\n",
       "    .dataframe tbody tr th:only-of-type {\n",
       "        vertical-align: middle;\n",
       "    }\n",
       "\n",
       "    .dataframe tbody tr th {\n",
       "        vertical-align: top;\n",
       "    }\n",
       "\n",
       "    .dataframe thead th {\n",
       "        text-align: right;\n",
       "    }\n",
       "</style>\n",
       "<table border=\"1\" class=\"dataframe\">\n",
       "  <thead>\n",
       "    <tr style=\"text-align: right;\">\n",
       "      <th></th>\n",
       "      <th>DATE</th>\n",
       "      <th>USREC</th>\n",
       "      <th>Date_converted</th>\n",
       "    </tr>\n",
       "  </thead>\n",
       "  <tbody>\n",
       "    <tr>\n",
       "      <th>541</th>\n",
       "      <td>1/1/00</td>\n",
       "      <td>1</td>\n",
       "      <td>NaT</td>\n",
       "    </tr>\n",
       "    <tr>\n",
       "      <th>542</th>\n",
       "      <td>2/1/00</td>\n",
       "      <td>1</td>\n",
       "      <td>NaT</td>\n",
       "    </tr>\n",
       "    <tr>\n",
       "      <th>543</th>\n",
       "      <td>3/1/00</td>\n",
       "      <td>1</td>\n",
       "      <td>NaT</td>\n",
       "    </tr>\n",
       "    <tr>\n",
       "      <th>544</th>\n",
       "      <td>4/1/00</td>\n",
       "      <td>1</td>\n",
       "      <td>NaT</td>\n",
       "    </tr>\n",
       "    <tr>\n",
       "      <th>545</th>\n",
       "      <td>5/1/00</td>\n",
       "      <td>1</td>\n",
       "      <td>NaT</td>\n",
       "    </tr>\n",
       "    <tr>\n",
       "      <th>...</th>\n",
       "      <td>...</td>\n",
       "      <td>...</td>\n",
       "      <td>...</td>\n",
       "    </tr>\n",
       "    <tr>\n",
       "      <th>2030</th>\n",
       "      <td>2/1/24</td>\n",
       "      <td>0</td>\n",
       "      <td>NaT</td>\n",
       "    </tr>\n",
       "    <tr>\n",
       "      <th>2031</th>\n",
       "      <td>3/1/24</td>\n",
       "      <td>0</td>\n",
       "      <td>NaT</td>\n",
       "    </tr>\n",
       "    <tr>\n",
       "      <th>2032</th>\n",
       "      <td>4/1/24</td>\n",
       "      <td>0</td>\n",
       "      <td>NaT</td>\n",
       "    </tr>\n",
       "    <tr>\n",
       "      <th>2033</th>\n",
       "      <td>5/1/24</td>\n",
       "      <td>0</td>\n",
       "      <td>NaT</td>\n",
       "    </tr>\n",
       "    <tr>\n",
       "      <th>2034</th>\n",
       "      <td>6/1/24</td>\n",
       "      <td>0</td>\n",
       "      <td>NaT</td>\n",
       "    </tr>\n",
       "  </tbody>\n",
       "</table>\n",
       "<p>1494 rows × 3 columns</p>\n",
       "</div>"
      ],
      "text/plain": [
       "        DATE  USREC Date_converted\n",
       "541   1/1/00      1            NaT\n",
       "542   2/1/00      1            NaT\n",
       "543   3/1/00      1            NaT\n",
       "544   4/1/00      1            NaT\n",
       "545   5/1/00      1            NaT\n",
       "...      ...    ...            ...\n",
       "2030  2/1/24      0            NaT\n",
       "2031  3/1/24      0            NaT\n",
       "2032  4/1/24      0            NaT\n",
       "2033  5/1/24      0            NaT\n",
       "2034  6/1/24      0            NaT\n",
       "\n",
       "[1494 rows x 3 columns]"
      ]
     },
     "execution_count": 17,
     "metadata": {},
     "output_type": "execute_result"
    }
   ],
   "source": [
    "df_rec[df_rec['Date_converted'].isna()]"
   ]
  },
  {
   "cell_type": "markdown",
   "id": "e302946d-2120-45ef-95a0-c17085fc0897",
   "metadata": {},
   "source": [
    "So sstarting from 1900 the date format goes like that: m/d/yy, we need yyyy-mm-dd. And the dates look same for 19xx and 2xxx, so just converting them would cause errors like after 1999-12-01 will come 1900-01-01. So we need to differentiate them."
   ]
  },
  {
   "cell_type": "code",
   "execution_count": 18,
   "id": "56b17310-970e-47bc-b48c-92ef33437d6d",
   "metadata": {
    "tags": []
   },
   "outputs": [
    {
     "data": {
      "text/html": [
       "<div>\n",
       "<style scoped>\n",
       "    .dataframe tbody tr th:only-of-type {\n",
       "        vertical-align: middle;\n",
       "    }\n",
       "\n",
       "    .dataframe tbody tr th {\n",
       "        vertical-align: top;\n",
       "    }\n",
       "\n",
       "    .dataframe thead th {\n",
       "        text-align: right;\n",
       "    }\n",
       "</style>\n",
       "<table border=\"1\" class=\"dataframe\">\n",
       "  <thead>\n",
       "    <tr style=\"text-align: right;\">\n",
       "      <th></th>\n",
       "      <th>DATE</th>\n",
       "      <th>USREC</th>\n",
       "      <th>Date_converted</th>\n",
       "    </tr>\n",
       "  </thead>\n",
       "  <tbody>\n",
       "    <tr>\n",
       "      <th>541</th>\n",
       "      <td>1/1/00</td>\n",
       "      <td>1</td>\n",
       "      <td>NaT</td>\n",
       "    </tr>\n",
       "    <tr>\n",
       "      <th>1741</th>\n",
       "      <td>1/1/00</td>\n",
       "      <td>0</td>\n",
       "      <td>NaT</td>\n",
       "    </tr>\n",
       "  </tbody>\n",
       "</table>\n",
       "</div>"
      ],
      "text/plain": [
       "        DATE  USREC Date_converted\n",
       "541   1/1/00      1            NaT\n",
       "1741  1/1/00      0            NaT"
      ]
     },
     "execution_count": 18,
     "metadata": {},
     "output_type": "execute_result"
    },
    {
     "data": {
      "text/html": [
       "<div>\n",
       "<style scoped>\n",
       "    .dataframe tbody tr th:only-of-type {\n",
       "        vertical-align: middle;\n",
       "    }\n",
       "\n",
       "    .dataframe tbody tr th {\n",
       "        vertical-align: top;\n",
       "    }\n",
       "\n",
       "    .dataframe thead th {\n",
       "        text-align: right;\n",
       "    }\n",
       "</style>\n",
       "<table border=\"1\" class=\"dataframe\">\n",
       "  <thead>\n",
       "    <tr style=\"text-align: right;\">\n",
       "      <th></th>\n",
       "      <th>DATE</th>\n",
       "      <th>USREC</th>\n",
       "      <th>Date_converted</th>\n",
       "    </tr>\n",
       "  </thead>\n",
       "  <tbody>\n",
       "    <tr>\n",
       "      <th>1739</th>\n",
       "      <td>11/1/99</td>\n",
       "      <td>0</td>\n",
       "      <td>NaT</td>\n",
       "    </tr>\n",
       "    <tr>\n",
       "      <th>1740</th>\n",
       "      <td>12/1/99</td>\n",
       "      <td>0</td>\n",
       "      <td>NaT</td>\n",
       "    </tr>\n",
       "    <tr>\n",
       "      <th>1741</th>\n",
       "      <td>1/1/00</td>\n",
       "      <td>0</td>\n",
       "      <td>NaT</td>\n",
       "    </tr>\n",
       "    <tr>\n",
       "      <th>1742</th>\n",
       "      <td>2/1/00</td>\n",
       "      <td>0</td>\n",
       "      <td>NaT</td>\n",
       "    </tr>\n",
       "  </tbody>\n",
       "</table>\n",
       "</div>"
      ],
      "text/plain": [
       "         DATE  USREC Date_converted\n",
       "1739  11/1/99      0            NaT\n",
       "1740  12/1/99      0            NaT\n",
       "1741   1/1/00      0            NaT\n",
       "1742   2/1/00      0            NaT"
      ]
     },
     "execution_count": 18,
     "metadata": {},
     "output_type": "execute_result"
    }
   ],
   "source": [
    "df_rec.loc[df_rec['DATE'] == '1/1/00']\n",
    "\n",
    "df_rec.iloc[1739:1743]"
   ]
  },
  {
   "cell_type": "code",
   "execution_count": 19,
   "id": "3866d301-f4b9-4fab-99a9-4163dc09100d",
   "metadata": {
    "tags": []
   },
   "outputs": [],
   "source": [
    "def correct_format(date_string, index):\n",
    "    try:\n",
    "        parts = date_string.split('/')\n",
    "        if len(parts) == 3:\n",
    "            month = parts[0].zfill(2)\n",
    "            day = parts[1].zfill(2)\n",
    "            year = parts[2].zfill(2)\n",
    "            if index < 1741: # easiest way is just to make index number asa condition\n",
    "                year = '19' + year\n",
    "            else:\n",
    "                year = '20' + year\n",
    "            return f\"{year}-{month}-{day}\"\n",
    "        return date_string\n",
    "    except Exception as e:\n",
    "        return date_string"
   ]
  },
  {
   "cell_type": "code",
   "execution_count": 20,
   "id": "5477485c-f091-458e-b8e1-5c0e52196747",
   "metadata": {
    "tags": []
   },
   "outputs": [],
   "source": [
    "df_rec['Date'] = [correct_format(date, idx) for idx, date in df_rec['DATE'].items()]"
   ]
  },
  {
   "cell_type": "code",
   "execution_count": 21,
   "id": "fe312410-7bde-4c5e-bc9b-65e6dcb47106",
   "metadata": {
    "tags": []
   },
   "outputs": [
    {
     "data": {
      "text/html": [
       "<div>\n",
       "<style scoped>\n",
       "    .dataframe tbody tr th:only-of-type {\n",
       "        vertical-align: middle;\n",
       "    }\n",
       "\n",
       "    .dataframe tbody tr th {\n",
       "        vertical-align: top;\n",
       "    }\n",
       "\n",
       "    .dataframe thead th {\n",
       "        text-align: right;\n",
       "    }\n",
       "</style>\n",
       "<table border=\"1\" class=\"dataframe\">\n",
       "  <thead>\n",
       "    <tr style=\"text-align: right;\">\n",
       "      <th></th>\n",
       "      <th>DATE</th>\n",
       "      <th>USREC</th>\n",
       "      <th>Date_converted</th>\n",
       "      <th>Date</th>\n",
       "    </tr>\n",
       "  </thead>\n",
       "  <tbody>\n",
       "    <tr>\n",
       "      <th>1738</th>\n",
       "      <td>10/1/99</td>\n",
       "      <td>0</td>\n",
       "      <td>NaT</td>\n",
       "      <td>1999-10-01</td>\n",
       "    </tr>\n",
       "    <tr>\n",
       "      <th>1739</th>\n",
       "      <td>11/1/99</td>\n",
       "      <td>0</td>\n",
       "      <td>NaT</td>\n",
       "      <td>1999-11-01</td>\n",
       "    </tr>\n",
       "    <tr>\n",
       "      <th>1740</th>\n",
       "      <td>12/1/99</td>\n",
       "      <td>0</td>\n",
       "      <td>NaT</td>\n",
       "      <td>1999-12-01</td>\n",
       "    </tr>\n",
       "    <tr>\n",
       "      <th>1741</th>\n",
       "      <td>1/1/00</td>\n",
       "      <td>0</td>\n",
       "      <td>NaT</td>\n",
       "      <td>2000-01-01</td>\n",
       "    </tr>\n",
       "    <tr>\n",
       "      <th>1742</th>\n",
       "      <td>2/1/00</td>\n",
       "      <td>0</td>\n",
       "      <td>NaT</td>\n",
       "      <td>2000-02-01</td>\n",
       "    </tr>\n",
       "    <tr>\n",
       "      <th>1743</th>\n",
       "      <td>3/1/00</td>\n",
       "      <td>0</td>\n",
       "      <td>NaT</td>\n",
       "      <td>2000-03-01</td>\n",
       "    </tr>\n",
       "    <tr>\n",
       "      <th>1744</th>\n",
       "      <td>4/1/00</td>\n",
       "      <td>0</td>\n",
       "      <td>NaT</td>\n",
       "      <td>2000-04-01</td>\n",
       "    </tr>\n",
       "    <tr>\n",
       "      <th>1745</th>\n",
       "      <td>5/1/00</td>\n",
       "      <td>0</td>\n",
       "      <td>NaT</td>\n",
       "      <td>2000-05-01</td>\n",
       "    </tr>\n",
       "    <tr>\n",
       "      <th>1746</th>\n",
       "      <td>6/1/00</td>\n",
       "      <td>0</td>\n",
       "      <td>NaT</td>\n",
       "      <td>2000-06-01</td>\n",
       "    </tr>\n",
       "    <tr>\n",
       "      <th>1747</th>\n",
       "      <td>7/1/00</td>\n",
       "      <td>0</td>\n",
       "      <td>NaT</td>\n",
       "      <td>2000-07-01</td>\n",
       "    </tr>\n",
       "    <tr>\n",
       "      <th>1748</th>\n",
       "      <td>8/1/00</td>\n",
       "      <td>0</td>\n",
       "      <td>NaT</td>\n",
       "      <td>2000-08-01</td>\n",
       "    </tr>\n",
       "    <tr>\n",
       "      <th>1749</th>\n",
       "      <td>9/1/00</td>\n",
       "      <td>0</td>\n",
       "      <td>NaT</td>\n",
       "      <td>2000-09-01</td>\n",
       "    </tr>\n",
       "  </tbody>\n",
       "</table>\n",
       "</div>"
      ],
      "text/plain": [
       "         DATE  USREC Date_converted        Date\n",
       "1738  10/1/99      0            NaT  1999-10-01\n",
       "1739  11/1/99      0            NaT  1999-11-01\n",
       "1740  12/1/99      0            NaT  1999-12-01\n",
       "1741   1/1/00      0            NaT  2000-01-01\n",
       "1742   2/1/00      0            NaT  2000-02-01\n",
       "1743   3/1/00      0            NaT  2000-03-01\n",
       "1744   4/1/00      0            NaT  2000-04-01\n",
       "1745   5/1/00      0            NaT  2000-05-01\n",
       "1746   6/1/00      0            NaT  2000-06-01\n",
       "1747   7/1/00      0            NaT  2000-07-01\n",
       "1748   8/1/00      0            NaT  2000-08-01\n",
       "1749   9/1/00      0            NaT  2000-09-01"
      ]
     },
     "execution_count": 21,
     "metadata": {},
     "output_type": "execute_result"
    }
   ],
   "source": [
    "df_rec.iloc[1738:1750]"
   ]
  },
  {
   "cell_type": "code",
   "execution_count": 22,
   "id": "6c42c440-7991-483d-97c4-c0c5a5c8eed1",
   "metadata": {
    "tags": []
   },
   "outputs": [],
   "source": [
    "df_rec.drop(columns=['DATE', 'Date_converted'], inplace=True)"
   ]
  },
  {
   "cell_type": "code",
   "execution_count": 23,
   "id": "af455796-5463-44d2-bfd6-d745b5e2a0c3",
   "metadata": {
    "tags": []
   },
   "outputs": [
    {
     "data": {
      "text/html": [
       "<div>\n",
       "<style scoped>\n",
       "    .dataframe tbody tr th:only-of-type {\n",
       "        vertical-align: middle;\n",
       "    }\n",
       "\n",
       "    .dataframe tbody tr th {\n",
       "        vertical-align: top;\n",
       "    }\n",
       "\n",
       "    .dataframe thead th {\n",
       "        text-align: right;\n",
       "    }\n",
       "</style>\n",
       "<table border=\"1\" class=\"dataframe\">\n",
       "  <thead>\n",
       "    <tr style=\"text-align: right;\">\n",
       "      <th></th>\n",
       "      <th>Recession</th>\n",
       "      <th>Date</th>\n",
       "    </tr>\n",
       "  </thead>\n",
       "  <tbody>\n",
       "    <tr>\n",
       "      <th>0</th>\n",
       "      <td>1</td>\n",
       "      <td>1854-12-01</td>\n",
       "    </tr>\n",
       "    <tr>\n",
       "      <th>1</th>\n",
       "      <td>0</td>\n",
       "      <td>1855-01-01</td>\n",
       "    </tr>\n",
       "    <tr>\n",
       "      <th>2</th>\n",
       "      <td>0</td>\n",
       "      <td>1855-02-01</td>\n",
       "    </tr>\n",
       "    <tr>\n",
       "      <th>3</th>\n",
       "      <td>0</td>\n",
       "      <td>1855-03-01</td>\n",
       "    </tr>\n",
       "    <tr>\n",
       "      <th>4</th>\n",
       "      <td>0</td>\n",
       "      <td>1855-04-01</td>\n",
       "    </tr>\n",
       "  </tbody>\n",
       "</table>\n",
       "</div>"
      ],
      "text/plain": [
       "   Recession        Date\n",
       "0          1  1854-12-01\n",
       "1          0  1855-01-01\n",
       "2          0  1855-02-01\n",
       "3          0  1855-03-01\n",
       "4          0  1855-04-01"
      ]
     },
     "execution_count": 23,
     "metadata": {},
     "output_type": "execute_result"
    }
   ],
   "source": [
    "df_rec.rename({'USREC':'Recession'}, axis='columns', inplace=True)\n",
    "df_rec.head()"
   ]
  },
  {
   "cell_type": "code",
   "execution_count": 24,
   "id": "eb409b18-1eee-4ec4-9eb9-01afc38557ed",
   "metadata": {
    "tags": []
   },
   "outputs": [],
   "source": [
    "df_rec['Date'] = pd.to_datetime(df_rec['Date'])"
   ]
  },
  {
   "cell_type": "markdown",
   "id": "124c1058-af60-4836-ab38-60577f7bb534",
   "metadata": {},
   "source": [
    "### Unemployment"
   ]
  },
  {
   "cell_type": "code",
   "execution_count": 25,
   "id": "11b68600-5a66-4f60-b9b8-44ca905e9291",
   "metadata": {
    "tags": []
   },
   "outputs": [
    {
     "data": {
      "text/html": [
       "<div>\n",
       "<style scoped>\n",
       "    .dataframe tbody tr th:only-of-type {\n",
       "        vertical-align: middle;\n",
       "    }\n",
       "\n",
       "    .dataframe tbody tr th {\n",
       "        vertical-align: top;\n",
       "    }\n",
       "\n",
       "    .dataframe thead th {\n",
       "        text-align: right;\n",
       "    }\n",
       "</style>\n",
       "<table border=\"1\" class=\"dataframe\">\n",
       "  <thead>\n",
       "    <tr style=\"text-align: right;\">\n",
       "      <th></th>\n",
       "      <th>Year</th>\n",
       "      <th>Jan</th>\n",
       "      <th>Feb</th>\n",
       "      <th>Mar</th>\n",
       "      <th>Apr</th>\n",
       "      <th>May</th>\n",
       "      <th>Jun</th>\n",
       "      <th>Jul</th>\n",
       "      <th>Aug</th>\n",
       "      <th>Sep</th>\n",
       "      <th>Oct</th>\n",
       "      <th>Nov</th>\n",
       "      <th>Dec</th>\n",
       "    </tr>\n",
       "  </thead>\n",
       "  <tbody>\n",
       "    <tr>\n",
       "      <th>0</th>\n",
       "      <td>1948</td>\n",
       "      <td>3.4</td>\n",
       "      <td>3.8</td>\n",
       "      <td>4.0</td>\n",
       "      <td>3.9</td>\n",
       "      <td>3.5</td>\n",
       "      <td>3.6</td>\n",
       "      <td>3.6</td>\n",
       "      <td>3.9</td>\n",
       "      <td>3.8</td>\n",
       "      <td>3.7</td>\n",
       "      <td>3.8</td>\n",
       "      <td>4.0</td>\n",
       "    </tr>\n",
       "    <tr>\n",
       "      <th>1</th>\n",
       "      <td>1949</td>\n",
       "      <td>4.3</td>\n",
       "      <td>4.7</td>\n",
       "      <td>5.0</td>\n",
       "      <td>5.3</td>\n",
       "      <td>6.1</td>\n",
       "      <td>6.2</td>\n",
       "      <td>6.7</td>\n",
       "      <td>6.8</td>\n",
       "      <td>6.6</td>\n",
       "      <td>7.9</td>\n",
       "      <td>6.4</td>\n",
       "      <td>6.6</td>\n",
       "    </tr>\n",
       "    <tr>\n",
       "      <th>2</th>\n",
       "      <td>1950</td>\n",
       "      <td>6.5</td>\n",
       "      <td>6.4</td>\n",
       "      <td>6.3</td>\n",
       "      <td>5.8</td>\n",
       "      <td>5.5</td>\n",
       "      <td>5.4</td>\n",
       "      <td>5.0</td>\n",
       "      <td>4.5</td>\n",
       "      <td>4.4</td>\n",
       "      <td>4.2</td>\n",
       "      <td>4.2</td>\n",
       "      <td>4.3</td>\n",
       "    </tr>\n",
       "    <tr>\n",
       "      <th>3</th>\n",
       "      <td>1951</td>\n",
       "      <td>3.7</td>\n",
       "      <td>3.4</td>\n",
       "      <td>3.4</td>\n",
       "      <td>3.1</td>\n",
       "      <td>3.0</td>\n",
       "      <td>3.2</td>\n",
       "      <td>3.1</td>\n",
       "      <td>3.1</td>\n",
       "      <td>3.3</td>\n",
       "      <td>3.5</td>\n",
       "      <td>3.5</td>\n",
       "      <td>3.1</td>\n",
       "    </tr>\n",
       "    <tr>\n",
       "      <th>4</th>\n",
       "      <td>1952</td>\n",
       "      <td>3.2</td>\n",
       "      <td>3.1</td>\n",
       "      <td>2.9</td>\n",
       "      <td>2.9</td>\n",
       "      <td>3.0</td>\n",
       "      <td>3.0</td>\n",
       "      <td>3.2</td>\n",
       "      <td>3.4</td>\n",
       "      <td>3.1</td>\n",
       "      <td>3.0</td>\n",
       "      <td>2.8</td>\n",
       "      <td>2.7</td>\n",
       "    </tr>\n",
       "  </tbody>\n",
       "</table>\n",
       "</div>"
      ],
      "text/plain": [
       "   Year  Jan  Feb  Mar  Apr  May  Jun  Jul  Aug  Sep  Oct  Nov  Dec\n",
       "0  1948  3.4  3.8  4.0  3.9  3.5  3.6  3.6  3.9  3.8  3.7  3.8  4.0\n",
       "1  1949  4.3  4.7  5.0  5.3  6.1  6.2  6.7  6.8  6.6  7.9  6.4  6.6\n",
       "2  1950  6.5  6.4  6.3  5.8  5.5  5.4  5.0  4.5  4.4  4.2  4.2  4.3\n",
       "3  1951  3.7  3.4  3.4  3.1  3.0  3.2  3.1  3.1  3.3  3.5  3.5  3.1\n",
       "4  1952  3.2  3.1  2.9  2.9  3.0  3.0  3.2  3.4  3.1  3.0  2.8  2.7"
      ]
     },
     "execution_count": 25,
     "metadata": {},
     "output_type": "execute_result"
    },
    {
     "name": "stdout",
     "output_type": "stream",
     "text": [
      "<class 'pandas.core.frame.DataFrame'>\n",
      "RangeIndex: 77 entries, 0 to 76\n",
      "Data columns (total 13 columns):\n",
      " #   Column  Non-Null Count  Dtype  \n",
      "---  ------  --------------  -----  \n",
      " 0   Year    77 non-null     int64  \n",
      " 1   Jan     77 non-null     float64\n",
      " 2   Feb     77 non-null     float64\n",
      " 3   Mar     77 non-null     float64\n",
      " 4   Apr     77 non-null     float64\n",
      " 5   May     77 non-null     float64\n",
      " 6   Jun     77 non-null     float64\n",
      " 7   Jul     76 non-null     float64\n",
      " 8   Aug     76 non-null     float64\n",
      " 9   Sep     76 non-null     float64\n",
      " 10  Oct     76 non-null     float64\n",
      " 11  Nov     76 non-null     float64\n",
      " 12  Dec     76 non-null     float64\n",
      "dtypes: float64(12), int64(1)\n",
      "memory usage: 7.9 KB\n"
     ]
    }
   ],
   "source": [
    "df_unempl = pd.read_excel('Monthly_Unemployment_Rate.xlsx', header=11)\n",
    "df_unempl.head()\n",
    "df_unempl.info()"
   ]
  },
  {
   "cell_type": "markdown",
   "id": "c1baf6c1-4f8b-4a53-ad1e-1a471dd8af4b",
   "metadata": {},
   "source": [
    "To work with this table we need to use Year column as is and the rest columns have transposed, so that in the end we get data in the following format: `yyyy-mm-dd xx`"
   ]
  },
  {
   "cell_type": "code",
   "execution_count": 26,
   "id": "b81d3f69-1567-4c64-b1ed-99acd5375bf5",
   "metadata": {
    "tags": []
   },
   "outputs": [
    {
     "data": {
      "text/plain": [
       "1948"
      ]
     },
     "execution_count": 26,
     "metadata": {},
     "output_type": "execute_result"
    },
    {
     "data": {
      "text/plain": [
       "2024"
      ]
     },
     "execution_count": 26,
     "metadata": {},
     "output_type": "execute_result"
    }
   ],
   "source": [
    "df_unempl['Year'].min()\n",
    "df_unempl['Year'].max()"
   ]
  },
  {
   "cell_type": "code",
   "execution_count": 27,
   "id": "1d968424-a7c8-43cf-9ad4-5e29b3426b0f",
   "metadata": {
    "tags": []
   },
   "outputs": [
    {
     "data": {
      "text/html": [
       "<div>\n",
       "<style scoped>\n",
       "    .dataframe tbody tr th:only-of-type {\n",
       "        vertical-align: middle;\n",
       "    }\n",
       "\n",
       "    .dataframe tbody tr th {\n",
       "        vertical-align: top;\n",
       "    }\n",
       "\n",
       "    .dataframe thead th {\n",
       "        text-align: right;\n",
       "    }\n",
       "</style>\n",
       "<table border=\"1\" class=\"dataframe\">\n",
       "  <thead>\n",
       "    <tr style=\"text-align: right;\">\n",
       "      <th></th>\n",
       "      <th>Year</th>\n",
       "      <th>Jan</th>\n",
       "      <th>Feb</th>\n",
       "      <th>Mar</th>\n",
       "      <th>Apr</th>\n",
       "      <th>May</th>\n",
       "      <th>Jun</th>\n",
       "      <th>Jul</th>\n",
       "      <th>Aug</th>\n",
       "      <th>Sep</th>\n",
       "      <th>Oct</th>\n",
       "      <th>Nov</th>\n",
       "      <th>Dec</th>\n",
       "    </tr>\n",
       "  </thead>\n",
       "  <tbody>\n",
       "    <tr>\n",
       "      <th>0</th>\n",
       "      <td>1948</td>\n",
       "      <td>3.4</td>\n",
       "      <td>3.8</td>\n",
       "      <td>4.0</td>\n",
       "      <td>3.9</td>\n",
       "      <td>3.5</td>\n",
       "      <td>3.6</td>\n",
       "      <td>3.6</td>\n",
       "      <td>3.9</td>\n",
       "      <td>3.8</td>\n",
       "      <td>3.7</td>\n",
       "      <td>3.8</td>\n",
       "      <td>4.0</td>\n",
       "    </tr>\n",
       "    <tr>\n",
       "      <th>1</th>\n",
       "      <td>1949</td>\n",
       "      <td>4.3</td>\n",
       "      <td>4.7</td>\n",
       "      <td>5.0</td>\n",
       "      <td>5.3</td>\n",
       "      <td>6.1</td>\n",
       "      <td>6.2</td>\n",
       "      <td>6.7</td>\n",
       "      <td>6.8</td>\n",
       "      <td>6.6</td>\n",
       "      <td>7.9</td>\n",
       "      <td>6.4</td>\n",
       "      <td>6.6</td>\n",
       "    </tr>\n",
       "    <tr>\n",
       "      <th>2</th>\n",
       "      <td>1950</td>\n",
       "      <td>6.5</td>\n",
       "      <td>6.4</td>\n",
       "      <td>6.3</td>\n",
       "      <td>5.8</td>\n",
       "      <td>5.5</td>\n",
       "      <td>5.4</td>\n",
       "      <td>5.0</td>\n",
       "      <td>4.5</td>\n",
       "      <td>4.4</td>\n",
       "      <td>4.2</td>\n",
       "      <td>4.2</td>\n",
       "      <td>4.3</td>\n",
       "    </tr>\n",
       "    <tr>\n",
       "      <th>3</th>\n",
       "      <td>1951</td>\n",
       "      <td>3.7</td>\n",
       "      <td>3.4</td>\n",
       "      <td>3.4</td>\n",
       "      <td>3.1</td>\n",
       "      <td>3.0</td>\n",
       "      <td>3.2</td>\n",
       "      <td>3.1</td>\n",
       "      <td>3.1</td>\n",
       "      <td>3.3</td>\n",
       "      <td>3.5</td>\n",
       "      <td>3.5</td>\n",
       "      <td>3.1</td>\n",
       "    </tr>\n",
       "    <tr>\n",
       "      <th>4</th>\n",
       "      <td>1952</td>\n",
       "      <td>3.2</td>\n",
       "      <td>3.1</td>\n",
       "      <td>2.9</td>\n",
       "      <td>2.9</td>\n",
       "      <td>3.0</td>\n",
       "      <td>3.0</td>\n",
       "      <td>3.2</td>\n",
       "      <td>3.4</td>\n",
       "      <td>3.1</td>\n",
       "      <td>3.0</td>\n",
       "      <td>2.8</td>\n",
       "      <td>2.7</td>\n",
       "    </tr>\n",
       "  </tbody>\n",
       "</table>\n",
       "</div>"
      ],
      "text/plain": [
       "   Year  Jan  Feb  Mar  Apr  May  Jun  Jul  Aug  Sep  Oct  Nov  Dec\n",
       "0  1948  3.4  3.8  4.0  3.9  3.5  3.6  3.6  3.9  3.8  3.7  3.8  4.0\n",
       "1  1949  4.3  4.7  5.0  5.3  6.1  6.2  6.7  6.8  6.6  7.9  6.4  6.6\n",
       "2  1950  6.5  6.4  6.3  5.8  5.5  5.4  5.0  4.5  4.4  4.2  4.2  4.3\n",
       "3  1951  3.7  3.4  3.4  3.1  3.0  3.2  3.1  3.1  3.3  3.5  3.5  3.1\n",
       "4  1952  3.2  3.1  2.9  2.9  3.0  3.0  3.2  3.4  3.1  3.0  2.8  2.7"
      ]
     },
     "execution_count": 27,
     "metadata": {},
     "output_type": "execute_result"
    }
   ],
   "source": [
    "# df_unempl.drop(columns='Year', inplace=True)\n",
    "df_test = df_unempl.iloc[:5]\n",
    "df_test"
   ]
  },
  {
   "cell_type": "code",
   "execution_count": 28,
   "id": "93be8136-fe01-4768-be0e-a2f2d44f8315",
   "metadata": {
    "tags": []
   },
   "outputs": [],
   "source": [
    "df_unempl = pd.melt(df_unempl, id_vars=['Year'], var_name=\"Month\", value_name=\"Percentage\")"
   ]
  },
  {
   "cell_type": "code",
   "execution_count": 29,
   "id": "28ed8d61-7af1-4e3b-9ef7-fab62c19969d",
   "metadata": {
    "tags": []
   },
   "outputs": [],
   "source": [
    "# new_df.sort_values(by=['Year','Month'])\n",
    "df_unempl['Date'] = df_unempl['Year'].astype('str') + '-' + df_unempl['Month'] + \"-01\"\n",
    "# new_df['Date'] = str(new_df.Year)+'-'+str(new_df.Month)+'-01'\n",
    "df_unempl['Date'] = pd.to_datetime(df_unempl['Date'])\n",
    "df_unempl.drop(columns=['Year', 'Month'], inplace=True)"
   ]
  },
  {
   "cell_type": "code",
   "execution_count": 30,
   "id": "aa58a2f9-424f-4244-b7c3-0a964623fa7b",
   "metadata": {
    "tags": []
   },
   "outputs": [],
   "source": [
    "df_unempl = df_unempl.sort_values(by = ['Date'])\n",
    "df_unempl.reset_index(drop=True, inplace=True)"
   ]
  },
  {
   "cell_type": "code",
   "execution_count": 31,
   "id": "5e82771a-ba57-42a2-bf47-7f801340d603",
   "metadata": {
    "tags": []
   },
   "outputs": [
    {
     "data": {
      "text/html": [
       "<div>\n",
       "<style scoped>\n",
       "    .dataframe tbody tr th:only-of-type {\n",
       "        vertical-align: middle;\n",
       "    }\n",
       "\n",
       "    .dataframe tbody tr th {\n",
       "        vertical-align: top;\n",
       "    }\n",
       "\n",
       "    .dataframe thead th {\n",
       "        text-align: right;\n",
       "    }\n",
       "</style>\n",
       "<table border=\"1\" class=\"dataframe\">\n",
       "  <thead>\n",
       "    <tr style=\"text-align: right;\">\n",
       "      <th></th>\n",
       "      <th>Percentage</th>\n",
       "      <th>Date</th>\n",
       "    </tr>\n",
       "  </thead>\n",
       "  <tbody>\n",
       "    <tr>\n",
       "      <th>914</th>\n",
       "      <td>3.8</td>\n",
       "      <td>2024-03-01</td>\n",
       "    </tr>\n",
       "    <tr>\n",
       "      <th>915</th>\n",
       "      <td>3.9</td>\n",
       "      <td>2024-04-01</td>\n",
       "    </tr>\n",
       "    <tr>\n",
       "      <th>916</th>\n",
       "      <td>4.0</td>\n",
       "      <td>2024-05-01</td>\n",
       "    </tr>\n",
       "    <tr>\n",
       "      <th>917</th>\n",
       "      <td>4.1</td>\n",
       "      <td>2024-06-01</td>\n",
       "    </tr>\n",
       "    <tr>\n",
       "      <th>918</th>\n",
       "      <td>NaN</td>\n",
       "      <td>2024-07-01</td>\n",
       "    </tr>\n",
       "    <tr>\n",
       "      <th>919</th>\n",
       "      <td>NaN</td>\n",
       "      <td>2024-08-01</td>\n",
       "    </tr>\n",
       "    <tr>\n",
       "      <th>920</th>\n",
       "      <td>NaN</td>\n",
       "      <td>2024-09-01</td>\n",
       "    </tr>\n",
       "    <tr>\n",
       "      <th>921</th>\n",
       "      <td>NaN</td>\n",
       "      <td>2024-10-01</td>\n",
       "    </tr>\n",
       "    <tr>\n",
       "      <th>922</th>\n",
       "      <td>NaN</td>\n",
       "      <td>2024-11-01</td>\n",
       "    </tr>\n",
       "    <tr>\n",
       "      <th>923</th>\n",
       "      <td>NaN</td>\n",
       "      <td>2024-12-01</td>\n",
       "    </tr>\n",
       "  </tbody>\n",
       "</table>\n",
       "</div>"
      ],
      "text/plain": [
       "     Percentage       Date\n",
       "914         3.8 2024-03-01\n",
       "915         3.9 2024-04-01\n",
       "916         4.0 2024-05-01\n",
       "917         4.1 2024-06-01\n",
       "918         NaN 2024-07-01\n",
       "919         NaN 2024-08-01\n",
       "920         NaN 2024-09-01\n",
       "921         NaN 2024-10-01\n",
       "922         NaN 2024-11-01\n",
       "923         NaN 2024-12-01"
      ]
     },
     "execution_count": 31,
     "metadata": {},
     "output_type": "execute_result"
    }
   ],
   "source": [
    "df_unempl.tail(10)"
   ]
  },
  {
   "cell_type": "code",
   "execution_count": 32,
   "id": "466329c0-6633-4eef-9f05-75fbdf6d986f",
   "metadata": {
    "tags": []
   },
   "outputs": [],
   "source": [
    "df_unempl = df_unempl.iloc[:915]"
   ]
  },
  {
   "cell_type": "code",
   "execution_count": 33,
   "id": "698620fe-ed60-4a2e-8727-d1cc33585804",
   "metadata": {
    "tags": []
   },
   "outputs": [],
   "source": [
    "df_unempl = df_unempl.reset_index(drop=True)"
   ]
  },
  {
   "cell_type": "code",
   "execution_count": 34,
   "id": "c6210f76-7739-44dd-b144-595b2c2aeae8",
   "metadata": {
    "tags": []
   },
   "outputs": [
    {
     "data": {
      "text/html": [
       "<div>\n",
       "<style scoped>\n",
       "    .dataframe tbody tr th:only-of-type {\n",
       "        vertical-align: middle;\n",
       "    }\n",
       "\n",
       "    .dataframe tbody tr th {\n",
       "        vertical-align: top;\n",
       "    }\n",
       "\n",
       "    .dataframe thead th {\n",
       "        text-align: right;\n",
       "    }\n",
       "</style>\n",
       "<table border=\"1\" class=\"dataframe\">\n",
       "  <thead>\n",
       "    <tr style=\"text-align: right;\">\n",
       "      <th></th>\n",
       "      <th>Percentage</th>\n",
       "      <th>Date</th>\n",
       "    </tr>\n",
       "  </thead>\n",
       "  <tbody>\n",
       "    <tr>\n",
       "      <th>0</th>\n",
       "      <td>3.4</td>\n",
       "      <td>1948-01-01</td>\n",
       "    </tr>\n",
       "  </tbody>\n",
       "</table>\n",
       "</div>"
      ],
      "text/plain": [
       "   Percentage       Date\n",
       "0         3.4 1948-01-01"
      ]
     },
     "execution_count": 34,
     "metadata": {},
     "output_type": "execute_result"
    },
    {
     "data": {
      "text/html": [
       "<div>\n",
       "<style scoped>\n",
       "    .dataframe tbody tr th:only-of-type {\n",
       "        vertical-align: middle;\n",
       "    }\n",
       "\n",
       "    .dataframe tbody tr th {\n",
       "        vertical-align: top;\n",
       "    }\n",
       "\n",
       "    .dataframe thead th {\n",
       "        text-align: right;\n",
       "    }\n",
       "</style>\n",
       "<table border=\"1\" class=\"dataframe\">\n",
       "  <thead>\n",
       "    <tr style=\"text-align: right;\">\n",
       "      <th></th>\n",
       "      <th>Percentage</th>\n",
       "      <th>Date</th>\n",
       "    </tr>\n",
       "  </thead>\n",
       "  <tbody>\n",
       "    <tr>\n",
       "      <th>914</th>\n",
       "      <td>3.8</td>\n",
       "      <td>2024-03-01</td>\n",
       "    </tr>\n",
       "  </tbody>\n",
       "</table>\n",
       "</div>"
      ],
      "text/plain": [
       "     Percentage       Date\n",
       "914         3.8 2024-03-01"
      ]
     },
     "execution_count": 34,
     "metadata": {},
     "output_type": "execute_result"
    },
    {
     "data": {
      "text/plain": [
       "(915, 2)"
      ]
     },
     "execution_count": 34,
     "metadata": {},
     "output_type": "execute_result"
    }
   ],
   "source": [
    "df_unempl.head(1)\n",
    "df_unempl.tail(1)\n",
    "df_unempl.shape"
   ]
  },
  {
   "cell_type": "markdown",
   "id": "996e4efa-f78a-4a5b-8d72-40d9fb0c3d9c",
   "metadata": {},
   "source": [
    "### Industrial production"
   ]
  },
  {
   "cell_type": "code",
   "execution_count": 35,
   "id": "393f8838-9dd6-4d26-8f66-db1fd227e93f",
   "metadata": {
    "tags": []
   },
   "outputs": [
    {
     "data": {
      "text/html": [
       "<div>\n",
       "<style scoped>\n",
       "    .dataframe tbody tr th:only-of-type {\n",
       "        vertical-align: middle;\n",
       "    }\n",
       "\n",
       "    .dataframe tbody tr th {\n",
       "        vertical-align: top;\n",
       "    }\n",
       "\n",
       "    .dataframe thead th {\n",
       "        text-align: right;\n",
       "    }\n",
       "</style>\n",
       "<table border=\"1\" class=\"dataframe\">\n",
       "  <thead>\n",
       "    <tr style=\"text-align: right;\">\n",
       "      <th></th>\n",
       "      <th>Year</th>\n",
       "      <th>Jan</th>\n",
       "      <th>Feb</th>\n",
       "      <th>Mar</th>\n",
       "      <th>Apr</th>\n",
       "      <th>May</th>\n",
       "      <th>Jun</th>\n",
       "      <th>Jul</th>\n",
       "      <th>Aug</th>\n",
       "      <th>Sep</th>\n",
       "      <th>Oct</th>\n",
       "      <th>Nov</th>\n",
       "      <th>Dec</th>\n",
       "    </tr>\n",
       "  </thead>\n",
       "  <tbody>\n",
       "    <tr>\n",
       "      <th>0</th>\n",
       "      <td>1919</td>\n",
       "      <td>4.8654</td>\n",
       "      <td>4.6504</td>\n",
       "      <td>4.5160</td>\n",
       "      <td>4.5966</td>\n",
       "      <td>4.6235</td>\n",
       "      <td>4.9192</td>\n",
       "      <td>5.2149</td>\n",
       "      <td>5.2955</td>\n",
       "      <td>5.1880</td>\n",
       "      <td>5.1342</td>\n",
       "      <td>5.0536</td>\n",
       "      <td>5.1342</td>\n",
       "    </tr>\n",
       "    <tr>\n",
       "      <th>1</th>\n",
       "      <td>1920</td>\n",
       "      <td>5.6181</td>\n",
       "      <td>5.6181</td>\n",
       "      <td>5.5106</td>\n",
       "      <td>5.2149</td>\n",
       "      <td>5.3493</td>\n",
       "      <td>5.4030</td>\n",
       "      <td>5.2686</td>\n",
       "      <td>5.2955</td>\n",
       "      <td>5.1073</td>\n",
       "      <td>4.8923</td>\n",
       "      <td>4.4891</td>\n",
       "      <td>4.2203</td>\n",
       "    </tr>\n",
       "    <tr>\n",
       "      <th>2</th>\n",
       "      <td>1921</td>\n",
       "      <td>3.9784</td>\n",
       "      <td>3.8977</td>\n",
       "      <td>3.7902</td>\n",
       "      <td>3.7902</td>\n",
       "      <td>3.8977</td>\n",
       "      <td>3.8708</td>\n",
       "      <td>3.8439</td>\n",
       "      <td>3.9784</td>\n",
       "      <td>4.0052</td>\n",
       "      <td>4.2472</td>\n",
       "      <td>4.1934</td>\n",
       "      <td>4.1665</td>\n",
       "    </tr>\n",
       "    <tr>\n",
       "      <th>3</th>\n",
       "      <td>1922</td>\n",
       "      <td>4.3278</td>\n",
       "      <td>4.5160</td>\n",
       "      <td>4.7579</td>\n",
       "      <td>4.5966</td>\n",
       "      <td>4.8385</td>\n",
       "      <td>5.0805</td>\n",
       "      <td>5.0805</td>\n",
       "      <td>4.9729</td>\n",
       "      <td>5.2417</td>\n",
       "      <td>5.5374</td>\n",
       "      <td>5.7794</td>\n",
       "      <td>5.9406</td>\n",
       "    </tr>\n",
       "    <tr>\n",
       "      <th>4</th>\n",
       "      <td>1923</td>\n",
       "      <td>5.8062</td>\n",
       "      <td>5.8869</td>\n",
       "      <td>6.0751</td>\n",
       "      <td>6.2095</td>\n",
       "      <td>6.2901</td>\n",
       "      <td>6.2363</td>\n",
       "      <td>6.1826</td>\n",
       "      <td>6.0751</td>\n",
       "      <td>5.9406</td>\n",
       "      <td>5.9138</td>\n",
       "      <td>5.9138</td>\n",
       "      <td>5.7794</td>\n",
       "    </tr>\n",
       "  </tbody>\n",
       "</table>\n",
       "</div>"
      ],
      "text/plain": [
       "   Year     Jan     Feb     Mar     Apr     May     Jun     Jul     Aug  \\\n",
       "0  1919  4.8654  4.6504  4.5160  4.5966  4.6235  4.9192  5.2149  5.2955   \n",
       "1  1920  5.6181  5.6181  5.5106  5.2149  5.3493  5.4030  5.2686  5.2955   \n",
       "2  1921  3.9784  3.8977  3.7902  3.7902  3.8977  3.8708  3.8439  3.9784   \n",
       "3  1922  4.3278  4.5160  4.7579  4.5966  4.8385  5.0805  5.0805  4.9729   \n",
       "4  1923  5.8062  5.8869  6.0751  6.2095  6.2901  6.2363  6.1826  6.0751   \n",
       "\n",
       "      Sep     Oct     Nov     Dec  \n",
       "0  5.1880  5.1342  5.0536  5.1342  \n",
       "1  5.1073  4.8923  4.4891  4.2203  \n",
       "2  4.0052  4.2472  4.1934  4.1665  \n",
       "3  5.2417  5.5374  5.7794  5.9406  \n",
       "4  5.9406  5.9138  5.9138  5.7794  "
      ]
     },
     "execution_count": 35,
     "metadata": {},
     "output_type": "execute_result"
    },
    {
     "data": {
      "text/html": [
       "<div>\n",
       "<style scoped>\n",
       "    .dataframe tbody tr th:only-of-type {\n",
       "        vertical-align: middle;\n",
       "    }\n",
       "\n",
       "    .dataframe tbody tr th {\n",
       "        vertical-align: top;\n",
       "    }\n",
       "\n",
       "    .dataframe thead th {\n",
       "        text-align: right;\n",
       "    }\n",
       "</style>\n",
       "<table border=\"1\" class=\"dataframe\">\n",
       "  <thead>\n",
       "    <tr style=\"text-align: right;\">\n",
       "      <th></th>\n",
       "      <th>Year</th>\n",
       "      <th>Jan</th>\n",
       "      <th>Feb</th>\n",
       "      <th>Mar</th>\n",
       "      <th>Apr</th>\n",
       "      <th>May</th>\n",
       "      <th>Jun</th>\n",
       "      <th>Jul</th>\n",
       "      <th>Aug</th>\n",
       "      <th>Sep</th>\n",
       "      <th>Oct</th>\n",
       "      <th>Nov</th>\n",
       "      <th>Dec</th>\n",
       "    </tr>\n",
       "  </thead>\n",
       "  <tbody>\n",
       "    <tr>\n",
       "      <th>101</th>\n",
       "      <td>2020</td>\n",
       "      <td>101.3372</td>\n",
       "      <td>101.6718</td>\n",
       "      <td>97.6060</td>\n",
       "      <td>84.6812</td>\n",
       "      <td>86.0108</td>\n",
       "      <td>91.6745</td>\n",
       "      <td>95.0037</td>\n",
       "      <td>95.9294</td>\n",
       "      <td>95.8914</td>\n",
       "      <td>96.5256</td>\n",
       "      <td>96.9529</td>\n",
       "      <td>98.2039</td>\n",
       "    </tr>\n",
       "    <tr>\n",
       "      <th>102</th>\n",
       "      <td>2021</td>\n",
       "      <td>98.8135</td>\n",
       "      <td>95.5072</td>\n",
       "      <td>98.1929</td>\n",
       "      <td>98.3317</td>\n",
       "      <td>99.1867</td>\n",
       "      <td>99.6483</td>\n",
       "      <td>100.0668</td>\n",
       "      <td>100.0412</td>\n",
       "      <td>98.9955</td>\n",
       "      <td>100.3542</td>\n",
       "      <td>101.2684</td>\n",
       "      <td>101.1948</td>\n",
       "    </tr>\n",
       "    <tr>\n",
       "      <th>103</th>\n",
       "      <td>2022</td>\n",
       "      <td>101.2146</td>\n",
       "      <td>101.8458</td>\n",
       "      <td>102.6732</td>\n",
       "      <td>102.9024</td>\n",
       "      <td>102.9659</td>\n",
       "      <td>102.8224</td>\n",
       "      <td>103.0505</td>\n",
       "      <td>103.1703</td>\n",
       "      <td>103.5326</td>\n",
       "      <td>103.4442</td>\n",
       "      <td>103.1058</td>\n",
       "      <td>101.8266</td>\n",
       "    </tr>\n",
       "    <tr>\n",
       "      <th>104</th>\n",
       "      <td>2023</td>\n",
       "      <td>102.7476</td>\n",
       "      <td>102.8003</td>\n",
       "      <td>102.8143</td>\n",
       "      <td>103.2241</td>\n",
       "      <td>102.9809</td>\n",
       "      <td>102.3809</td>\n",
       "      <td>103.0722</td>\n",
       "      <td>103.0951</td>\n",
       "      <td>103.3081</td>\n",
       "      <td>102.5781</td>\n",
       "      <td>102.8868</td>\n",
       "      <td>102.6309</td>\n",
       "    </tr>\n",
       "    <tr>\n",
       "      <th>105</th>\n",
       "      <td>2024</td>\n",
       "      <td>101.4830</td>\n",
       "      <td>102.6045</td>\n",
       "      <td>102.4062</td>\n",
       "      <td>102.4329</td>\n",
       "      <td>103.3282</td>\n",
       "      <td>103.9941</td>\n",
       "      <td>NaN</td>\n",
       "      <td>NaN</td>\n",
       "      <td>NaN</td>\n",
       "      <td>NaN</td>\n",
       "      <td>NaN</td>\n",
       "      <td>NaN</td>\n",
       "    </tr>\n",
       "  </tbody>\n",
       "</table>\n",
       "</div>"
      ],
      "text/plain": [
       "     Year       Jan       Feb       Mar       Apr       May       Jun  \\\n",
       "101  2020  101.3372  101.6718   97.6060   84.6812   86.0108   91.6745   \n",
       "102  2021   98.8135   95.5072   98.1929   98.3317   99.1867   99.6483   \n",
       "103  2022  101.2146  101.8458  102.6732  102.9024  102.9659  102.8224   \n",
       "104  2023  102.7476  102.8003  102.8143  103.2241  102.9809  102.3809   \n",
       "105  2024  101.4830  102.6045  102.4062  102.4329  103.3282  103.9941   \n",
       "\n",
       "          Jul       Aug       Sep       Oct       Nov       Dec  \n",
       "101   95.0037   95.9294   95.8914   96.5256   96.9529   98.2039  \n",
       "102  100.0668  100.0412   98.9955  100.3542  101.2684  101.1948  \n",
       "103  103.0505  103.1703  103.5326  103.4442  103.1058  101.8266  \n",
       "104  103.0722  103.0951  103.3081  102.5781  102.8868  102.6309  \n",
       "105       NaN       NaN       NaN       NaN       NaN       NaN  "
      ]
     },
     "execution_count": 35,
     "metadata": {},
     "output_type": "execute_result"
    },
    {
     "name": "stdout",
     "output_type": "stream",
     "text": [
      "<class 'pandas.core.frame.DataFrame'>\n",
      "RangeIndex: 106 entries, 0 to 105\n",
      "Data columns (total 13 columns):\n",
      " #   Column  Non-Null Count  Dtype  \n",
      "---  ------  --------------  -----  \n",
      " 0   Year    106 non-null    int64  \n",
      " 1   Jan     106 non-null    float64\n",
      " 2   Feb     106 non-null    float64\n",
      " 3   Mar     106 non-null    float64\n",
      " 4   Apr     106 non-null    float64\n",
      " 5   May     106 non-null    float64\n",
      " 6   Jun     106 non-null    float64\n",
      " 7   Jul     105 non-null    float64\n",
      " 8   Aug     105 non-null    float64\n",
      " 9   Sep     105 non-null    float64\n",
      " 10  Oct     105 non-null    float64\n",
      " 11  Nov     105 non-null    float64\n",
      " 12  Dec     105 non-null    float64\n",
      "dtypes: float64(12), int64(1)\n",
      "memory usage: 10.9 KB\n"
     ]
    }
   ],
   "source": [
    "df_ind = pd.read_excel('ind_prod_index.xlsx')\n",
    "df_ind.head()\n",
    "df_ind.tail()\n",
    "df_ind.info()"
   ]
  },
  {
   "cell_type": "code",
   "execution_count": 36,
   "id": "95c89651-9598-4011-b4cd-9adee3f9ff7f",
   "metadata": {
    "tags": []
   },
   "outputs": [],
   "source": [
    "df_ind_2 = pd.melt(df_ind, id_vars='Year', var_name='Month', value_name='IP Index')"
   ]
  },
  {
   "cell_type": "code",
   "execution_count": 37,
   "id": "8c030e13-57ae-4b9c-a8d9-a582e41d599e",
   "metadata": {
    "tags": []
   },
   "outputs": [],
   "source": [
    "df_ind_2['Date'] = df_ind_2['Year'].astype('str') + '-' + df_ind_2['Month'] + \"-01\"\n",
    "df_ind_2['Date'] = pd.to_datetime(df_ind_2['Date'])\n",
    "df_ind_2.drop(columns=['Year', 'Month'], inplace=True)"
   ]
  },
  {
   "cell_type": "code",
   "execution_count": 38,
   "id": "581bcfce-d1f6-45a6-b376-b8437d9a75a7",
   "metadata": {
    "tags": []
   },
   "outputs": [],
   "source": [
    "df_ind_2 = df_ind_2.sort_values('Date')\n",
    "df_ind_2.reset_index(drop=True, inplace=True)"
   ]
  },
  {
   "cell_type": "code",
   "execution_count": 39,
   "id": "5f0363a9-45a4-439e-9735-2bad0311d669",
   "metadata": {
    "tags": []
   },
   "outputs": [
    {
     "data": {
      "text/html": [
       "<div>\n",
       "<style scoped>\n",
       "    .dataframe tbody tr th:only-of-type {\n",
       "        vertical-align: middle;\n",
       "    }\n",
       "\n",
       "    .dataframe tbody tr th {\n",
       "        vertical-align: top;\n",
       "    }\n",
       "\n",
       "    .dataframe thead th {\n",
       "        text-align: right;\n",
       "    }\n",
       "</style>\n",
       "<table border=\"1\" class=\"dataframe\">\n",
       "  <thead>\n",
       "    <tr style=\"text-align: right;\">\n",
       "      <th></th>\n",
       "      <th>IP Index</th>\n",
       "      <th>Date</th>\n",
       "    </tr>\n",
       "  </thead>\n",
       "  <tbody>\n",
       "    <tr>\n",
       "      <th>0</th>\n",
       "      <td>4.8654</td>\n",
       "      <td>1919-01-01</td>\n",
       "    </tr>\n",
       "    <tr>\n",
       "      <th>1</th>\n",
       "      <td>4.6504</td>\n",
       "      <td>1919-02-01</td>\n",
       "    </tr>\n",
       "    <tr>\n",
       "      <th>2</th>\n",
       "      <td>4.5160</td>\n",
       "      <td>1919-03-01</td>\n",
       "    </tr>\n",
       "    <tr>\n",
       "      <th>3</th>\n",
       "      <td>4.5966</td>\n",
       "      <td>1919-04-01</td>\n",
       "    </tr>\n",
       "    <tr>\n",
       "      <th>4</th>\n",
       "      <td>4.6235</td>\n",
       "      <td>1919-05-01</td>\n",
       "    </tr>\n",
       "    <tr>\n",
       "      <th>5</th>\n",
       "      <td>4.9192</td>\n",
       "      <td>1919-06-01</td>\n",
       "    </tr>\n",
       "    <tr>\n",
       "      <th>6</th>\n",
       "      <td>5.2149</td>\n",
       "      <td>1919-07-01</td>\n",
       "    </tr>\n",
       "    <tr>\n",
       "      <th>7</th>\n",
       "      <td>5.2955</td>\n",
       "      <td>1919-08-01</td>\n",
       "    </tr>\n",
       "    <tr>\n",
       "      <th>8</th>\n",
       "      <td>5.1880</td>\n",
       "      <td>1919-09-01</td>\n",
       "    </tr>\n",
       "    <tr>\n",
       "      <th>9</th>\n",
       "      <td>5.1342</td>\n",
       "      <td>1919-10-01</td>\n",
       "    </tr>\n",
       "    <tr>\n",
       "      <th>10</th>\n",
       "      <td>5.0536</td>\n",
       "      <td>1919-11-01</td>\n",
       "    </tr>\n",
       "    <tr>\n",
       "      <th>11</th>\n",
       "      <td>5.1342</td>\n",
       "      <td>1919-12-01</td>\n",
       "    </tr>\n",
       "    <tr>\n",
       "      <th>12</th>\n",
       "      <td>5.6181</td>\n",
       "      <td>1920-01-01</td>\n",
       "    </tr>\n",
       "    <tr>\n",
       "      <th>13</th>\n",
       "      <td>5.6181</td>\n",
       "      <td>1920-02-01</td>\n",
       "    </tr>\n",
       "    <tr>\n",
       "      <th>14</th>\n",
       "      <td>5.5106</td>\n",
       "      <td>1920-03-01</td>\n",
       "    </tr>\n",
       "    <tr>\n",
       "      <th>15</th>\n",
       "      <td>5.2149</td>\n",
       "      <td>1920-04-01</td>\n",
       "    </tr>\n",
       "    <tr>\n",
       "      <th>16</th>\n",
       "      <td>5.3493</td>\n",
       "      <td>1920-05-01</td>\n",
       "    </tr>\n",
       "    <tr>\n",
       "      <th>17</th>\n",
       "      <td>5.4030</td>\n",
       "      <td>1920-06-01</td>\n",
       "    </tr>\n",
       "    <tr>\n",
       "      <th>18</th>\n",
       "      <td>5.2686</td>\n",
       "      <td>1920-07-01</td>\n",
       "    </tr>\n",
       "    <tr>\n",
       "      <th>19</th>\n",
       "      <td>5.2955</td>\n",
       "      <td>1920-08-01</td>\n",
       "    </tr>\n",
       "  </tbody>\n",
       "</table>\n",
       "</div>"
      ],
      "text/plain": [
       "    IP Index       Date\n",
       "0     4.8654 1919-01-01\n",
       "1     4.6504 1919-02-01\n",
       "2     4.5160 1919-03-01\n",
       "3     4.5966 1919-04-01\n",
       "4     4.6235 1919-05-01\n",
       "5     4.9192 1919-06-01\n",
       "6     5.2149 1919-07-01\n",
       "7     5.2955 1919-08-01\n",
       "8     5.1880 1919-09-01\n",
       "9     5.1342 1919-10-01\n",
       "10    5.0536 1919-11-01\n",
       "11    5.1342 1919-12-01\n",
       "12    5.6181 1920-01-01\n",
       "13    5.6181 1920-02-01\n",
       "14    5.5106 1920-03-01\n",
       "15    5.2149 1920-04-01\n",
       "16    5.3493 1920-05-01\n",
       "17    5.4030 1920-06-01\n",
       "18    5.2686 1920-07-01\n",
       "19    5.2955 1920-08-01"
      ]
     },
     "execution_count": 39,
     "metadata": {},
     "output_type": "execute_result"
    }
   ],
   "source": [
    "df_ind_2.dropna(inplace=True)\n",
    "df_ind_2.head(20)"
   ]
  },
  {
   "cell_type": "markdown",
   "id": "8a8f3121-f95e-4d35-afcc-1d4ce792a725",
   "metadata": {},
   "source": [
    "### Dow Jones"
   ]
  },
  {
   "cell_type": "code",
   "execution_count": 40,
   "id": "ee9f27f7-9715-4430-a8da-10134a52e379",
   "metadata": {
    "tags": []
   },
   "outputs": [
    {
     "data": {
      "text/html": [
       "<div>\n",
       "<style scoped>\n",
       "    .dataframe tbody tr th:only-of-type {\n",
       "        vertical-align: middle;\n",
       "    }\n",
       "\n",
       "    .dataframe tbody tr th {\n",
       "        vertical-align: top;\n",
       "    }\n",
       "\n",
       "    .dataframe thead th {\n",
       "        text-align: right;\n",
       "    }\n",
       "</style>\n",
       "<table border=\"1\" class=\"dataframe\">\n",
       "  <thead>\n",
       "    <tr style=\"text-align: right;\">\n",
       "      <th></th>\n",
       "      <th>Index Name</th>\n",
       "      <th>Effective Date</th>\n",
       "      <th>Close Value</th>\n",
       "      <th>TR Close Value</th>\n",
       "      <th>Net Change</th>\n",
       "      <th>Daily Volume</th>\n",
       "      <th>Open Value</th>\n",
       "      <th>Intraday High</th>\n",
       "      <th>Intraday Low</th>\n",
       "      <th>Theoretical Open</th>\n",
       "      <th>Theoretical High</th>\n",
       "      <th>Theoretical Low</th>\n",
       "    </tr>\n",
       "  </thead>\n",
       "  <tbody>\n",
       "    <tr>\n",
       "      <th>0</th>\n",
       "      <td>Dow Jones Industrial Average</td>\n",
       "      <td>05/26/1896</td>\n",
       "      <td>40.94</td>\n",
       "      <td>NaN</td>\n",
       "      <td>NaN</td>\n",
       "      <td>NaN</td>\n",
       "      <td>NaN</td>\n",
       "      <td>NaN</td>\n",
       "      <td>NaN</td>\n",
       "      <td>NaN</td>\n",
       "      <td>NaN</td>\n",
       "      <td>NaN</td>\n",
       "    </tr>\n",
       "    <tr>\n",
       "      <th>1</th>\n",
       "      <td>Dow Jones Industrial Average</td>\n",
       "      <td>05/27/1896</td>\n",
       "      <td>40.58</td>\n",
       "      <td>NaN</td>\n",
       "      <td>NaN</td>\n",
       "      <td>NaN</td>\n",
       "      <td>NaN</td>\n",
       "      <td>NaN</td>\n",
       "      <td>NaN</td>\n",
       "      <td>NaN</td>\n",
       "      <td>NaN</td>\n",
       "      <td>NaN</td>\n",
       "    </tr>\n",
       "    <tr>\n",
       "      <th>2</th>\n",
       "      <td>Dow Jones Industrial Average</td>\n",
       "      <td>05/28/1896</td>\n",
       "      <td>40.20</td>\n",
       "      <td>NaN</td>\n",
       "      <td>NaN</td>\n",
       "      <td>NaN</td>\n",
       "      <td>NaN</td>\n",
       "      <td>NaN</td>\n",
       "      <td>NaN</td>\n",
       "      <td>NaN</td>\n",
       "      <td>NaN</td>\n",
       "      <td>NaN</td>\n",
       "    </tr>\n",
       "    <tr>\n",
       "      <th>3</th>\n",
       "      <td>Dow Jones Industrial Average</td>\n",
       "      <td>05/29/1896</td>\n",
       "      <td>40.63</td>\n",
       "      <td>NaN</td>\n",
       "      <td>NaN</td>\n",
       "      <td>NaN</td>\n",
       "      <td>NaN</td>\n",
       "      <td>NaN</td>\n",
       "      <td>NaN</td>\n",
       "      <td>NaN</td>\n",
       "      <td>NaN</td>\n",
       "      <td>NaN</td>\n",
       "    </tr>\n",
       "    <tr>\n",
       "      <th>4</th>\n",
       "      <td>Dow Jones Industrial Average</td>\n",
       "      <td>06/01/1896</td>\n",
       "      <td>40.60</td>\n",
       "      <td>NaN</td>\n",
       "      <td>NaN</td>\n",
       "      <td>NaN</td>\n",
       "      <td>NaN</td>\n",
       "      <td>NaN</td>\n",
       "      <td>NaN</td>\n",
       "      <td>NaN</td>\n",
       "      <td>NaN</td>\n",
       "      <td>NaN</td>\n",
       "    </tr>\n",
       "  </tbody>\n",
       "</table>\n",
       "</div>"
      ],
      "text/plain": [
       "                     Index Name Effective Date  Close Value  TR Close Value  \\\n",
       "0  Dow Jones Industrial Average     05/26/1896        40.94             NaN   \n",
       "1  Dow Jones Industrial Average     05/27/1896        40.58             NaN   \n",
       "2  Dow Jones Industrial Average     05/28/1896        40.20             NaN   \n",
       "3  Dow Jones Industrial Average     05/29/1896        40.63             NaN   \n",
       "4  Dow Jones Industrial Average     06/01/1896        40.60             NaN   \n",
       "\n",
       "   Net Change  Daily Volume  Open Value  Intraday High  Intraday Low  \\\n",
       "0         NaN           NaN         NaN            NaN           NaN   \n",
       "1         NaN           NaN         NaN            NaN           NaN   \n",
       "2         NaN           NaN         NaN            NaN           NaN   \n",
       "3         NaN           NaN         NaN            NaN           NaN   \n",
       "4         NaN           NaN         NaN            NaN           NaN   \n",
       "\n",
       "   Theoretical Open  Theoretical High  Theoretical Low  \n",
       "0               NaN               NaN              NaN  \n",
       "1               NaN               NaN              NaN  \n",
       "2               NaN               NaN              NaN  \n",
       "3               NaN               NaN              NaN  \n",
       "4               NaN               NaN              NaN  "
      ]
     },
     "execution_count": 40,
     "metadata": {},
     "output_type": "execute_result"
    },
    {
     "data": {
      "text/html": [
       "<div>\n",
       "<style scoped>\n",
       "    .dataframe tbody tr th:only-of-type {\n",
       "        vertical-align: middle;\n",
       "    }\n",
       "\n",
       "    .dataframe tbody tr th {\n",
       "        vertical-align: top;\n",
       "    }\n",
       "\n",
       "    .dataframe thead th {\n",
       "        text-align: right;\n",
       "    }\n",
       "</style>\n",
       "<table border=\"1\" class=\"dataframe\">\n",
       "  <thead>\n",
       "    <tr style=\"text-align: right;\">\n",
       "      <th></th>\n",
       "      <th>Index Name</th>\n",
       "      <th>Effective Date</th>\n",
       "      <th>Close Value</th>\n",
       "      <th>TR Close Value</th>\n",
       "      <th>Net Change</th>\n",
       "      <th>Daily Volume</th>\n",
       "      <th>Open Value</th>\n",
       "      <th>Intraday High</th>\n",
       "      <th>Intraday Low</th>\n",
       "      <th>Theoretical Open</th>\n",
       "      <th>Theoretical High</th>\n",
       "      <th>Theoretical Low</th>\n",
       "    </tr>\n",
       "  </thead>\n",
       "  <tbody>\n",
       "    <tr>\n",
       "      <th>36655</th>\n",
       "      <td>NaN</td>\n",
       "      <td>NaN</td>\n",
       "      <td>NaN</td>\n",
       "      <td>NaN</td>\n",
       "      <td>NaN</td>\n",
       "      <td>NaN</td>\n",
       "      <td>NaN</td>\n",
       "      <td>NaN</td>\n",
       "      <td>NaN</td>\n",
       "      <td>NaN</td>\n",
       "      <td>NaN</td>\n",
       "      <td>NaN</td>\n",
       "    </tr>\n",
       "    <tr>\n",
       "      <th>36656</th>\n",
       "      <td>NaN</td>\n",
       "      <td>NaN</td>\n",
       "      <td>NaN</td>\n",
       "      <td>NaN</td>\n",
       "      <td>NaN</td>\n",
       "      <td>NaN</td>\n",
       "      <td>NaN</td>\n",
       "      <td>NaN</td>\n",
       "      <td>NaN</td>\n",
       "      <td>NaN</td>\n",
       "      <td>NaN</td>\n",
       "      <td>NaN</td>\n",
       "    </tr>\n",
       "    <tr>\n",
       "      <th>36657</th>\n",
       "      <td>NaN</td>\n",
       "      <td>NaN</td>\n",
       "      <td>NaN</td>\n",
       "      <td>NaN</td>\n",
       "      <td>NaN</td>\n",
       "      <td>NaN</td>\n",
       "      <td>NaN</td>\n",
       "      <td>NaN</td>\n",
       "      <td>NaN</td>\n",
       "      <td>NaN</td>\n",
       "      <td>NaN</td>\n",
       "      <td>NaN</td>\n",
       "    </tr>\n",
       "    <tr>\n",
       "      <th>36658</th>\n",
       "      <td>NaN</td>\n",
       "      <td>NaN</td>\n",
       "      <td>NaN</td>\n",
       "      <td>NaN</td>\n",
       "      <td>NaN</td>\n",
       "      <td>NaN</td>\n",
       "      <td>NaN</td>\n",
       "      <td>NaN</td>\n",
       "      <td>NaN</td>\n",
       "      <td>NaN</td>\n",
       "      <td>NaN</td>\n",
       "      <td>NaN</td>\n",
       "    </tr>\n",
       "    <tr>\n",
       "      <th>36659</th>\n",
       "      <td>Source: S&amp;P Dow Jones Indices LLC.\\n\\nYou may ...</td>\n",
       "      <td>NaN</td>\n",
       "      <td>NaN</td>\n",
       "      <td>NaN</td>\n",
       "      <td>NaN</td>\n",
       "      <td>NaN</td>\n",
       "      <td>NaN</td>\n",
       "      <td>NaN</td>\n",
       "      <td>NaN</td>\n",
       "      <td>NaN</td>\n",
       "      <td>NaN</td>\n",
       "      <td>NaN</td>\n",
       "    </tr>\n",
       "  </tbody>\n",
       "</table>\n",
       "</div>"
      ],
      "text/plain": [
       "                                              Index Name Effective Date  \\\n",
       "36655                                                NaN            NaN   \n",
       "36656                                                NaN            NaN   \n",
       "36657                                                NaN            NaN   \n",
       "36658                                                NaN            NaN   \n",
       "36659  Source: S&P Dow Jones Indices LLC.\\n\\nYou may ...            NaN   \n",
       "\n",
       "       Close Value  TR Close Value  Net Change  Daily Volume  Open Value  \\\n",
       "36655          NaN             NaN         NaN           NaN         NaN   \n",
       "36656          NaN             NaN         NaN           NaN         NaN   \n",
       "36657          NaN             NaN         NaN           NaN         NaN   \n",
       "36658          NaN             NaN         NaN           NaN         NaN   \n",
       "36659          NaN             NaN         NaN           NaN         NaN   \n",
       "\n",
       "       Intraday High  Intraday Low  Theoretical Open  Theoretical High  \\\n",
       "36655            NaN           NaN               NaN               NaN   \n",
       "36656            NaN           NaN               NaN               NaN   \n",
       "36657            NaN           NaN               NaN               NaN   \n",
       "36658            NaN           NaN               NaN               NaN   \n",
       "36659            NaN           NaN               NaN               NaN   \n",
       "\n",
       "       Theoretical Low  \n",
       "36655              NaN  \n",
       "36656              NaN  \n",
       "36657              NaN  \n",
       "36658              NaN  \n",
       "36659              NaN  "
      ]
     },
     "execution_count": 40,
     "metadata": {},
     "output_type": "execute_result"
    },
    {
     "name": "stdout",
     "output_type": "stream",
     "text": [
      "<class 'pandas.core.frame.DataFrame'>\n",
      "RangeIndex: 36660 entries, 0 to 36659\n",
      "Data columns (total 12 columns):\n",
      " #   Column            Non-Null Count  Dtype  \n",
      "---  ------            --------------  -----  \n",
      " 0   Index Name        36656 non-null  object \n",
      " 1   Effective Date    36655 non-null  object \n",
      " 2   Close Value       36655 non-null  float64\n",
      " 3   TR Close Value    11246 non-null  float64\n",
      " 4   Net Change        35576 non-null  float64\n",
      " 5   Daily Volume      3018 non-null   float64\n",
      " 6   Open Value        3018 non-null   float64\n",
      " 7   Intraday High     3018 non-null   float64\n",
      " 8   Intraday Low      3018 non-null   float64\n",
      " 9   Theoretical Open  2969 non-null   float64\n",
      " 10  Theoretical High  2902 non-null   float64\n",
      " 11  Theoretical Low   2902 non-null   float64\n",
      "dtypes: float64(10), object(2)\n",
      "memory usage: 3.4+ MB\n"
     ]
    }
   ],
   "source": [
    "df_dj = pd.read_excel('dja-performance-report-daily.xls', header=5)\n",
    "df_dj.head()\n",
    "df_dj.tail()\n",
    "df_dj.info()"
   ]
  },
  {
   "cell_type": "code",
   "execution_count": 41,
   "id": "7e772b14-4b43-4573-9090-2b6a44f5ab3c",
   "metadata": {
    "tags": []
   },
   "outputs": [],
   "source": [
    "df_dj_ = df_dj[['Effective Date', 'Close Value']]"
   ]
  },
  {
   "cell_type": "code",
   "execution_count": 42,
   "id": "42ce71a3-9b41-4d9e-8068-00f4b8664ce1",
   "metadata": {
    "tags": []
   },
   "outputs": [
    {
     "data": {
      "text/html": [
       "<div>\n",
       "<style scoped>\n",
       "    .dataframe tbody tr th:only-of-type {\n",
       "        vertical-align: middle;\n",
       "    }\n",
       "\n",
       "    .dataframe tbody tr th {\n",
       "        vertical-align: top;\n",
       "    }\n",
       "\n",
       "    .dataframe thead th {\n",
       "        text-align: right;\n",
       "    }\n",
       "</style>\n",
       "<table border=\"1\" class=\"dataframe\">\n",
       "  <thead>\n",
       "    <tr style=\"text-align: right;\">\n",
       "      <th></th>\n",
       "      <th>Effective Date</th>\n",
       "      <th>Close Value</th>\n",
       "    </tr>\n",
       "  </thead>\n",
       "  <tbody>\n",
       "    <tr>\n",
       "      <th>0</th>\n",
       "      <td>05/26/1896</td>\n",
       "      <td>40.94</td>\n",
       "    </tr>\n",
       "    <tr>\n",
       "      <th>1</th>\n",
       "      <td>05/27/1896</td>\n",
       "      <td>40.58</td>\n",
       "    </tr>\n",
       "    <tr>\n",
       "      <th>2</th>\n",
       "      <td>05/28/1896</td>\n",
       "      <td>40.20</td>\n",
       "    </tr>\n",
       "    <tr>\n",
       "      <th>3</th>\n",
       "      <td>05/29/1896</td>\n",
       "      <td>40.63</td>\n",
       "    </tr>\n",
       "    <tr>\n",
       "      <th>4</th>\n",
       "      <td>06/01/1896</td>\n",
       "      <td>40.60</td>\n",
       "    </tr>\n",
       "  </tbody>\n",
       "</table>\n",
       "</div>"
      ],
      "text/plain": [
       "  Effective Date  Close Value\n",
       "0     05/26/1896        40.94\n",
       "1     05/27/1896        40.58\n",
       "2     05/28/1896        40.20\n",
       "3     05/29/1896        40.63\n",
       "4     06/01/1896        40.60"
      ]
     },
     "execution_count": 42,
     "metadata": {},
     "output_type": "execute_result"
    }
   ],
   "source": [
    "df_dj_.head()"
   ]
  },
  {
   "cell_type": "code",
   "execution_count": 43,
   "id": "c0d8d21a-050d-4a47-97cd-5e025fa81b3d",
   "metadata": {
    "tags": []
   },
   "outputs": [
    {
     "data": {
      "text/plain": [
       "36655"
      ]
     },
     "execution_count": 43,
     "metadata": {},
     "output_type": "execute_result"
    }
   ],
   "source": [
    "df_dj_['Effective Date'].isnull().idxmax()"
   ]
  },
  {
   "cell_type": "code",
   "execution_count": 44,
   "id": "018bd515-c7dd-47c3-81b2-8389357bb845",
   "metadata": {
    "tags": []
   },
   "outputs": [
    {
     "data": {
      "text/html": [
       "<div>\n",
       "<style scoped>\n",
       "    .dataframe tbody tr th:only-of-type {\n",
       "        vertical-align: middle;\n",
       "    }\n",
       "\n",
       "    .dataframe tbody tr th {\n",
       "        vertical-align: top;\n",
       "    }\n",
       "\n",
       "    .dataframe thead th {\n",
       "        text-align: right;\n",
       "    }\n",
       "</style>\n",
       "<table border=\"1\" class=\"dataframe\">\n",
       "  <thead>\n",
       "    <tr style=\"text-align: right;\">\n",
       "      <th></th>\n",
       "      <th>Effective Date</th>\n",
       "      <th>Close Value</th>\n",
       "    </tr>\n",
       "  </thead>\n",
       "  <tbody>\n",
       "    <tr>\n",
       "      <th>36653</th>\n",
       "      <td>07/29/2024</td>\n",
       "      <td>40539.93</td>\n",
       "    </tr>\n",
       "    <tr>\n",
       "      <th>36654</th>\n",
       "      <td>07/30/2024</td>\n",
       "      <td>40743.33</td>\n",
       "    </tr>\n",
       "    <tr>\n",
       "      <th>36655</th>\n",
       "      <td>NaN</td>\n",
       "      <td>NaN</td>\n",
       "    </tr>\n",
       "    <tr>\n",
       "      <th>36656</th>\n",
       "      <td>NaN</td>\n",
       "      <td>NaN</td>\n",
       "    </tr>\n",
       "    <tr>\n",
       "      <th>36657</th>\n",
       "      <td>NaN</td>\n",
       "      <td>NaN</td>\n",
       "    </tr>\n",
       "    <tr>\n",
       "      <th>36658</th>\n",
       "      <td>NaN</td>\n",
       "      <td>NaN</td>\n",
       "    </tr>\n",
       "    <tr>\n",
       "      <th>36659</th>\n",
       "      <td>NaN</td>\n",
       "      <td>NaN</td>\n",
       "    </tr>\n",
       "  </tbody>\n",
       "</table>\n",
       "</div>"
      ],
      "text/plain": [
       "      Effective Date  Close Value\n",
       "36653     07/29/2024     40539.93\n",
       "36654     07/30/2024     40743.33\n",
       "36655            NaN          NaN\n",
       "36656            NaN          NaN\n",
       "36657            NaN          NaN\n",
       "36658            NaN          NaN\n",
       "36659            NaN          NaN"
      ]
     },
     "execution_count": 44,
     "metadata": {},
     "output_type": "execute_result"
    }
   ],
   "source": [
    "df_dj_.iloc[36653:36660]"
   ]
  },
  {
   "cell_type": "code",
   "execution_count": 45,
   "id": "f7a65533-135e-487e-8d8b-5da5904cde4a",
   "metadata": {
    "tags": []
   },
   "outputs": [],
   "source": [
    "df_dj_.dropna(inplace=True)"
   ]
  },
  {
   "cell_type": "code",
   "execution_count": 46,
   "id": "1e31c02b-b476-4c62-9f4e-dd43c951046e",
   "metadata": {
    "tags": []
   },
   "outputs": [
    {
     "data": {
      "text/html": [
       "<div>\n",
       "<style scoped>\n",
       "    .dataframe tbody tr th:only-of-type {\n",
       "        vertical-align: middle;\n",
       "    }\n",
       "\n",
       "    .dataframe tbody tr th {\n",
       "        vertical-align: top;\n",
       "    }\n",
       "\n",
       "    .dataframe thead th {\n",
       "        text-align: right;\n",
       "    }\n",
       "</style>\n",
       "<table border=\"1\" class=\"dataframe\">\n",
       "  <thead>\n",
       "    <tr style=\"text-align: right;\">\n",
       "      <th></th>\n",
       "      <th>Close Value</th>\n",
       "      <th>Date</th>\n",
       "    </tr>\n",
       "  </thead>\n",
       "  <tbody>\n",
       "    <tr>\n",
       "      <th>0</th>\n",
       "      <td>40.94</td>\n",
       "      <td>1896-05-26</td>\n",
       "    </tr>\n",
       "    <tr>\n",
       "      <th>1</th>\n",
       "      <td>40.58</td>\n",
       "      <td>1896-05-27</td>\n",
       "    </tr>\n",
       "    <tr>\n",
       "      <th>2</th>\n",
       "      <td>40.20</td>\n",
       "      <td>1896-05-28</td>\n",
       "    </tr>\n",
       "    <tr>\n",
       "      <th>3</th>\n",
       "      <td>40.63</td>\n",
       "      <td>1896-05-29</td>\n",
       "    </tr>\n",
       "    <tr>\n",
       "      <th>4</th>\n",
       "      <td>40.60</td>\n",
       "      <td>1896-06-01</td>\n",
       "    </tr>\n",
       "  </tbody>\n",
       "</table>\n",
       "</div>"
      ],
      "text/plain": [
       "   Close Value       Date\n",
       "0        40.94 1896-05-26\n",
       "1        40.58 1896-05-27\n",
       "2        40.20 1896-05-28\n",
       "3        40.63 1896-05-29\n",
       "4        40.60 1896-06-01"
      ]
     },
     "execution_count": 46,
     "metadata": {},
     "output_type": "execute_result"
    }
   ],
   "source": [
    "df_dj_['Date'] = pd.to_datetime(df_dj_['Effective Date'])\n",
    "df_dj_.drop(columns='Effective Date', inplace=True)\n",
    "df_dj_.head()"
   ]
  },
  {
   "cell_type": "code",
   "execution_count": 47,
   "id": "e753b518-43fd-4027-985e-2923612ebbe8",
   "metadata": {
    "tags": []
   },
   "outputs": [],
   "source": [
    "df_dj_['DJI'] = df_dj_.groupby(df_dj_['Date'].dt.to_period('M'))['Close Value'].transform('mean')"
   ]
  },
  {
   "cell_type": "code",
   "execution_count": 48,
   "id": "25a65209-b0c0-411c-a4be-1f53ca7c6235",
   "metadata": {
    "tags": []
   },
   "outputs": [
    {
     "data": {
      "text/html": [
       "<div>\n",
       "<style scoped>\n",
       "    .dataframe tbody tr th:only-of-type {\n",
       "        vertical-align: middle;\n",
       "    }\n",
       "\n",
       "    .dataframe tbody tr th {\n",
       "        vertical-align: top;\n",
       "    }\n",
       "\n",
       "    .dataframe thead th {\n",
       "        text-align: right;\n",
       "    }\n",
       "</style>\n",
       "<table border=\"1\" class=\"dataframe\">\n",
       "  <thead>\n",
       "    <tr style=\"text-align: right;\">\n",
       "      <th></th>\n",
       "      <th>Close Value</th>\n",
       "      <th>Date</th>\n",
       "      <th>DJI</th>\n",
       "    </tr>\n",
       "  </thead>\n",
       "  <tbody>\n",
       "    <tr>\n",
       "      <th>0</th>\n",
       "      <td>40.94</td>\n",
       "      <td>1896-05-26</td>\n",
       "      <td>40.587500</td>\n",
       "    </tr>\n",
       "    <tr>\n",
       "      <th>1</th>\n",
       "      <td>40.58</td>\n",
       "      <td>1896-05-27</td>\n",
       "      <td>40.587500</td>\n",
       "    </tr>\n",
       "    <tr>\n",
       "      <th>2</th>\n",
       "      <td>40.20</td>\n",
       "      <td>1896-05-28</td>\n",
       "      <td>40.587500</td>\n",
       "    </tr>\n",
       "    <tr>\n",
       "      <th>3</th>\n",
       "      <td>40.63</td>\n",
       "      <td>1896-05-29</td>\n",
       "      <td>40.587500</td>\n",
       "    </tr>\n",
       "    <tr>\n",
       "      <th>4</th>\n",
       "      <td>40.60</td>\n",
       "      <td>1896-06-01</td>\n",
       "      <td>39.121154</td>\n",
       "    </tr>\n",
       "  </tbody>\n",
       "</table>\n",
       "</div>"
      ],
      "text/plain": [
       "   Close Value       Date        DJI\n",
       "0        40.94 1896-05-26  40.587500\n",
       "1        40.58 1896-05-27  40.587500\n",
       "2        40.20 1896-05-28  40.587500\n",
       "3        40.63 1896-05-29  40.587500\n",
       "4        40.60 1896-06-01  39.121154"
      ]
     },
     "execution_count": 48,
     "metadata": {},
     "output_type": "execute_result"
    }
   ],
   "source": [
    "df_dj_.head()"
   ]
  },
  {
   "cell_type": "code",
   "execution_count": 49,
   "id": "576e0bc8-b1eb-42fa-92f5-5c644cf21ec9",
   "metadata": {
    "tags": []
   },
   "outputs": [
    {
     "data": {
      "text/html": [
       "<div>\n",
       "<style scoped>\n",
       "    .dataframe tbody tr th:only-of-type {\n",
       "        vertical-align: middle;\n",
       "    }\n",
       "\n",
       "    .dataframe tbody tr th {\n",
       "        vertical-align: top;\n",
       "    }\n",
       "\n",
       "    .dataframe thead th {\n",
       "        text-align: right;\n",
       "    }\n",
       "</style>\n",
       "<table border=\"1\" class=\"dataframe\">\n",
       "  <thead>\n",
       "    <tr style=\"text-align: right;\">\n",
       "      <th></th>\n",
       "      <th>Close Value</th>\n",
       "      <th>Date</th>\n",
       "      <th>DJI</th>\n",
       "    </tr>\n",
       "  </thead>\n",
       "  <tbody>\n",
       "    <tr>\n",
       "      <th>15273</th>\n",
       "      <td>181.04</td>\n",
       "      <td>1948-01-02</td>\n",
       "      <td>176.2564</td>\n",
       "    </tr>\n",
       "  </tbody>\n",
       "</table>\n",
       "</div>"
      ],
      "text/plain": [
       "       Close Value       Date       DJI\n",
       "15273       181.04 1948-01-02  176.2564"
      ]
     },
     "execution_count": 49,
     "metadata": {},
     "output_type": "execute_result"
    }
   ],
   "source": [
    "df_dj_.loc[df_dj_['Date'] == '1948-01-02']"
   ]
  },
  {
   "cell_type": "code",
   "execution_count": 50,
   "id": "5a5d0a30-9cfe-4b5a-b8e2-9f3305fbde23",
   "metadata": {
    "tags": []
   },
   "outputs": [
    {
     "data": {
      "text/html": [
       "<div>\n",
       "<style scoped>\n",
       "    .dataframe tbody tr th:only-of-type {\n",
       "        vertical-align: middle;\n",
       "    }\n",
       "\n",
       "    .dataframe tbody tr th {\n",
       "        vertical-align: top;\n",
       "    }\n",
       "\n",
       "    .dataframe thead th {\n",
       "        text-align: right;\n",
       "    }\n",
       "</style>\n",
       "<table border=\"1\" class=\"dataframe\">\n",
       "  <thead>\n",
       "    <tr style=\"text-align: right;\">\n",
       "      <th></th>\n",
       "      <th>Close Value</th>\n",
       "      <th>Date</th>\n",
       "      <th>DJI</th>\n",
       "    </tr>\n",
       "  </thead>\n",
       "  <tbody>\n",
       "    <tr>\n",
       "      <th>0</th>\n",
       "      <td>181.04</td>\n",
       "      <td>1948-01-02</td>\n",
       "      <td>176.2564</td>\n",
       "    </tr>\n",
       "    <tr>\n",
       "      <th>1</th>\n",
       "      <td>179.53</td>\n",
       "      <td>1948-01-05</td>\n",
       "      <td>176.2564</td>\n",
       "    </tr>\n",
       "    <tr>\n",
       "      <th>2</th>\n",
       "      <td>179.12</td>\n",
       "      <td>1948-01-06</td>\n",
       "      <td>176.2564</td>\n",
       "    </tr>\n",
       "    <tr>\n",
       "      <th>3</th>\n",
       "      <td>179.83</td>\n",
       "      <td>1948-01-07</td>\n",
       "      <td>176.2564</td>\n",
       "    </tr>\n",
       "    <tr>\n",
       "      <th>4</th>\n",
       "      <td>180.60</td>\n",
       "      <td>1948-01-08</td>\n",
       "      <td>176.2564</td>\n",
       "    </tr>\n",
       "  </tbody>\n",
       "</table>\n",
       "</div>"
      ],
      "text/plain": [
       "   Close Value       Date       DJI\n",
       "0       181.04 1948-01-02  176.2564\n",
       "1       179.53 1948-01-05  176.2564\n",
       "2       179.12 1948-01-06  176.2564\n",
       "3       179.83 1948-01-07  176.2564\n",
       "4       180.60 1948-01-08  176.2564"
      ]
     },
     "execution_count": 50,
     "metadata": {},
     "output_type": "execute_result"
    }
   ],
   "source": [
    "df_dj = df_dj_.iloc[15273:]\n",
    "df_dj.reset_index(drop=True, inplace=True)\n",
    "df_dj.head()"
   ]
  },
  {
   "cell_type": "code",
   "execution_count": 51,
   "id": "9e42dbc7-5e20-4c14-87fb-c444c06e5716",
   "metadata": {
    "tags": []
   },
   "outputs": [
    {
     "name": "stdout",
     "output_type": "stream",
     "text": [
      "<class 'pandas.core.frame.DataFrame'>\n",
      "RangeIndex: 21382 entries, 0 to 21381\n",
      "Data columns (total 3 columns):\n",
      " #   Column       Non-Null Count  Dtype         \n",
      "---  ------       --------------  -----         \n",
      " 0   Close Value  21382 non-null  float64       \n",
      " 1   Date         21382 non-null  datetime64[ns]\n",
      " 2   DJI          21382 non-null  float64       \n",
      "dtypes: datetime64[ns](1), float64(2)\n",
      "memory usage: 501.3 KB\n"
     ]
    }
   ],
   "source": [
    "df_dj.info()"
   ]
  },
  {
   "cell_type": "markdown",
   "id": "22640f66-9c04-4554-a17b-bb0780ead134",
   "metadata": {},
   "source": [
    "Now we need to reduce the dataset to monthly data only."
   ]
  },
  {
   "cell_type": "code",
   "execution_count": 52,
   "id": "6aabe136-6ab2-4e81-81f0-9b586f641670",
   "metadata": {
    "tags": []
   },
   "outputs": [],
   "source": [
    "df_dj['Year'] = pd.DatetimeIndex(df_dj['Date']).year\n",
    "df_dj['Mont'] = pd.DatetimeIndex(df_dj['Date']).month"
   ]
  },
  {
   "cell_type": "code",
   "execution_count": 53,
   "id": "45c4b371-ac3d-4613-af40-22e7195eaae3",
   "metadata": {
    "tags": []
   },
   "outputs": [
    {
     "data": {
      "text/html": [
       "<div>\n",
       "<style scoped>\n",
       "    .dataframe tbody tr th:only-of-type {\n",
       "        vertical-align: middle;\n",
       "    }\n",
       "\n",
       "    .dataframe tbody tr th {\n",
       "        vertical-align: top;\n",
       "    }\n",
       "\n",
       "    .dataframe thead th {\n",
       "        text-align: right;\n",
       "    }\n",
       "</style>\n",
       "<table border=\"1\" class=\"dataframe\">\n",
       "  <thead>\n",
       "    <tr style=\"text-align: right;\">\n",
       "      <th></th>\n",
       "      <th>Close Value</th>\n",
       "      <th>Date</th>\n",
       "      <th>DJI</th>\n",
       "      <th>Year</th>\n",
       "      <th>Mont</th>\n",
       "    </tr>\n",
       "  </thead>\n",
       "  <tbody>\n",
       "    <tr>\n",
       "      <th>0</th>\n",
       "      <td>181.04</td>\n",
       "      <td>1948-01-02</td>\n",
       "      <td>176.2564</td>\n",
       "      <td>1948</td>\n",
       "      <td>1</td>\n",
       "    </tr>\n",
       "    <tr>\n",
       "      <th>1</th>\n",
       "      <td>179.53</td>\n",
       "      <td>1948-01-05</td>\n",
       "      <td>176.2564</td>\n",
       "      <td>1948</td>\n",
       "      <td>1</td>\n",
       "    </tr>\n",
       "    <tr>\n",
       "      <th>2</th>\n",
       "      <td>179.12</td>\n",
       "      <td>1948-01-06</td>\n",
       "      <td>176.2564</td>\n",
       "      <td>1948</td>\n",
       "      <td>1</td>\n",
       "    </tr>\n",
       "    <tr>\n",
       "      <th>3</th>\n",
       "      <td>179.83</td>\n",
       "      <td>1948-01-07</td>\n",
       "      <td>176.2564</td>\n",
       "      <td>1948</td>\n",
       "      <td>1</td>\n",
       "    </tr>\n",
       "    <tr>\n",
       "      <th>4</th>\n",
       "      <td>180.60</td>\n",
       "      <td>1948-01-08</td>\n",
       "      <td>176.2564</td>\n",
       "      <td>1948</td>\n",
       "      <td>1</td>\n",
       "    </tr>\n",
       "  </tbody>\n",
       "</table>\n",
       "</div>"
      ],
      "text/plain": [
       "   Close Value       Date       DJI  Year  Mont\n",
       "0       181.04 1948-01-02  176.2564  1948     1\n",
       "1       179.53 1948-01-05  176.2564  1948     1\n",
       "2       179.12 1948-01-06  176.2564  1948     1\n",
       "3       179.83 1948-01-07  176.2564  1948     1\n",
       "4       180.60 1948-01-08  176.2564  1948     1"
      ]
     },
     "execution_count": 53,
     "metadata": {},
     "output_type": "execute_result"
    }
   ],
   "source": [
    "df_dj.head()"
   ]
  },
  {
   "cell_type": "code",
   "execution_count": 54,
   "id": "d10dd30d-d749-45af-9ca8-368dbacaf622",
   "metadata": {
    "tags": []
   },
   "outputs": [
    {
     "data": {
      "text/html": [
       "<div>\n",
       "<style scoped>\n",
       "    .dataframe tbody tr th:only-of-type {\n",
       "        vertical-align: middle;\n",
       "    }\n",
       "\n",
       "    .dataframe tbody tr th {\n",
       "        vertical-align: top;\n",
       "    }\n",
       "\n",
       "    .dataframe thead th {\n",
       "        text-align: right;\n",
       "    }\n",
       "</style>\n",
       "<table border=\"1\" class=\"dataframe\">\n",
       "  <thead>\n",
       "    <tr style=\"text-align: right;\">\n",
       "      <th></th>\n",
       "      <th>DJI</th>\n",
       "      <th>Year</th>\n",
       "      <th>Mont</th>\n",
       "    </tr>\n",
       "  </thead>\n",
       "  <tbody>\n",
       "    <tr>\n",
       "      <th>0</th>\n",
       "      <td>176.256400</td>\n",
       "      <td>1948</td>\n",
       "      <td>1</td>\n",
       "    </tr>\n",
       "    <tr>\n",
       "      <th>25</th>\n",
       "      <td>168.465909</td>\n",
       "      <td>1948</td>\n",
       "      <td>2</td>\n",
       "    </tr>\n",
       "    <tr>\n",
       "      <th>47</th>\n",
       "      <td>169.942692</td>\n",
       "      <td>1948</td>\n",
       "      <td>3</td>\n",
       "    </tr>\n",
       "    <tr>\n",
       "      <th>73</th>\n",
       "      <td>180.050385</td>\n",
       "      <td>1948</td>\n",
       "      <td>4</td>\n",
       "    </tr>\n",
       "    <tr>\n",
       "      <th>99</th>\n",
       "      <td>186.380000</td>\n",
       "      <td>1948</td>\n",
       "      <td>5</td>\n",
       "    </tr>\n",
       "  </tbody>\n",
       "</table>\n",
       "</div>"
      ],
      "text/plain": [
       "           DJI  Year  Mont\n",
       "0   176.256400  1948     1\n",
       "25  168.465909  1948     2\n",
       "47  169.942692  1948     3\n",
       "73  180.050385  1948     4\n",
       "99  186.380000  1948     5"
      ]
     },
     "execution_count": 54,
     "metadata": {},
     "output_type": "execute_result"
    }
   ],
   "source": [
    "df_dj_combined = df_dj[['DJI', 'Year', 'Mont']]\n",
    "d = df_dj_combined.drop_duplicates()\n",
    "d.head()"
   ]
  },
  {
   "cell_type": "code",
   "execution_count": 55,
   "id": "18a8b77f-4de8-4a9a-a9c3-8eaef9e695c0",
   "metadata": {
    "tags": []
   },
   "outputs": [
    {
     "data": {
      "text/plain": [
       "(919, 3)"
      ]
     },
     "execution_count": 55,
     "metadata": {},
     "output_type": "execute_result"
    }
   ],
   "source": [
    "d.reset_index(drop=True, inplace=True)\n",
    "d.shape"
   ]
  },
  {
   "cell_type": "code",
   "execution_count": 56,
   "id": "bda9381b-cf94-489c-97d0-7c7b179c7e7e",
   "metadata": {
    "tags": []
   },
   "outputs": [
    {
     "data": {
      "text/html": [
       "<div>\n",
       "<style scoped>\n",
       "    .dataframe tbody tr th:only-of-type {\n",
       "        vertical-align: middle;\n",
       "    }\n",
       "\n",
       "    .dataframe tbody tr th {\n",
       "        vertical-align: top;\n",
       "    }\n",
       "\n",
       "    .dataframe thead th {\n",
       "        text-align: right;\n",
       "    }\n",
       "</style>\n",
       "<table border=\"1\" class=\"dataframe\">\n",
       "  <thead>\n",
       "    <tr style=\"text-align: right;\">\n",
       "      <th></th>\n",
       "      <th>DJI</th>\n",
       "      <th>Year</th>\n",
       "      <th>Mont</th>\n",
       "    </tr>\n",
       "  </thead>\n",
       "  <tbody>\n",
       "    <tr>\n",
       "      <th>910</th>\n",
       "      <td>34704.502381</td>\n",
       "      <td>2023</td>\n",
       "      <td>11</td>\n",
       "    </tr>\n",
       "    <tr>\n",
       "      <th>911</th>\n",
       "      <td>36947.927500</td>\n",
       "      <td>2023</td>\n",
       "      <td>12</td>\n",
       "    </tr>\n",
       "    <tr>\n",
       "      <th>912</th>\n",
       "      <td>37763.954762</td>\n",
       "      <td>2024</td>\n",
       "      <td>1</td>\n",
       "    </tr>\n",
       "    <tr>\n",
       "      <th>913</th>\n",
       "      <td>38720.518000</td>\n",
       "      <td>2024</td>\n",
       "      <td>2</td>\n",
       "    </tr>\n",
       "    <tr>\n",
       "      <th>914</th>\n",
       "      <td>39105.520000</td>\n",
       "      <td>2024</td>\n",
       "      <td>3</td>\n",
       "    </tr>\n",
       "  </tbody>\n",
       "</table>\n",
       "</div>"
      ],
      "text/plain": [
       "              DJI  Year  Mont\n",
       "910  34704.502381  2023    11\n",
       "911  36947.927500  2023    12\n",
       "912  37763.954762  2024     1\n",
       "913  38720.518000  2024     2\n",
       "914  39105.520000  2024     3"
      ]
     },
     "execution_count": 56,
     "metadata": {},
     "output_type": "execute_result"
    }
   ],
   "source": [
    "d = d.iloc[:915]\n",
    "d.tail()"
   ]
  },
  {
   "cell_type": "code",
   "execution_count": 57,
   "id": "197d6557-c5b1-414d-96c3-e250f6534778",
   "metadata": {
    "tags": []
   },
   "outputs": [
    {
     "data": {
      "text/html": [
       "<div>\n",
       "<style scoped>\n",
       "    .dataframe tbody tr th:only-of-type {\n",
       "        vertical-align: middle;\n",
       "    }\n",
       "\n",
       "    .dataframe tbody tr th {\n",
       "        vertical-align: top;\n",
       "    }\n",
       "\n",
       "    .dataframe thead th {\n",
       "        text-align: right;\n",
       "    }\n",
       "</style>\n",
       "<table border=\"1\" class=\"dataframe\">\n",
       "  <thead>\n",
       "    <tr style=\"text-align: right;\">\n",
       "      <th></th>\n",
       "      <th>DJI</th>\n",
       "      <th>Year</th>\n",
       "      <th>Mont</th>\n",
       "      <th>Date</th>\n",
       "    </tr>\n",
       "  </thead>\n",
       "  <tbody>\n",
       "    <tr>\n",
       "      <th>0</th>\n",
       "      <td>176.256400</td>\n",
       "      <td>1948</td>\n",
       "      <td>1</td>\n",
       "      <td>1948-1-01</td>\n",
       "    </tr>\n",
       "    <tr>\n",
       "      <th>1</th>\n",
       "      <td>168.465909</td>\n",
       "      <td>1948</td>\n",
       "      <td>2</td>\n",
       "      <td>1948-2-01</td>\n",
       "    </tr>\n",
       "    <tr>\n",
       "      <th>2</th>\n",
       "      <td>169.942692</td>\n",
       "      <td>1948</td>\n",
       "      <td>3</td>\n",
       "      <td>1948-3-01</td>\n",
       "    </tr>\n",
       "    <tr>\n",
       "      <th>3</th>\n",
       "      <td>180.050385</td>\n",
       "      <td>1948</td>\n",
       "      <td>4</td>\n",
       "      <td>1948-4-01</td>\n",
       "    </tr>\n",
       "    <tr>\n",
       "      <th>4</th>\n",
       "      <td>186.380000</td>\n",
       "      <td>1948</td>\n",
       "      <td>5</td>\n",
       "      <td>1948-5-01</td>\n",
       "    </tr>\n",
       "  </tbody>\n",
       "</table>\n",
       "</div>"
      ],
      "text/plain": [
       "          DJI  Year  Mont       Date\n",
       "0  176.256400  1948     1  1948-1-01\n",
       "1  168.465909  1948     2  1948-2-01\n",
       "2  169.942692  1948     3  1948-3-01\n",
       "3  180.050385  1948     4  1948-4-01\n",
       "4  186.380000  1948     5  1948-5-01"
      ]
     },
     "execution_count": 57,
     "metadata": {},
     "output_type": "execute_result"
    }
   ],
   "source": [
    "d['Date'] = d['Year'].astype('str') + '-' + d['Mont'].astype('str') + '-01'\n",
    "d.head()"
   ]
  },
  {
   "cell_type": "code",
   "execution_count": 58,
   "id": "f5007f47-f951-45cf-92fb-28beb215ed88",
   "metadata": {
    "tags": []
   },
   "outputs": [],
   "source": [
    "d.drop(columns=['Year', 'Mont'], inplace=True)"
   ]
  },
  {
   "cell_type": "code",
   "execution_count": 59,
   "id": "416b1c5b-b26e-40a7-9b9f-535864cdb583",
   "metadata": {
    "tags": []
   },
   "outputs": [
    {
     "data": {
      "text/plain": [
       "(915, 2)"
      ]
     },
     "execution_count": 59,
     "metadata": {},
     "output_type": "execute_result"
    },
    {
     "data": {
      "text/html": [
       "<div>\n",
       "<style scoped>\n",
       "    .dataframe tbody tr th:only-of-type {\n",
       "        vertical-align: middle;\n",
       "    }\n",
       "\n",
       "    .dataframe tbody tr th {\n",
       "        vertical-align: top;\n",
       "    }\n",
       "\n",
       "    .dataframe thead th {\n",
       "        text-align: right;\n",
       "    }\n",
       "</style>\n",
       "<table border=\"1\" class=\"dataframe\">\n",
       "  <thead>\n",
       "    <tr style=\"text-align: right;\">\n",
       "      <th></th>\n",
       "      <th>DJI</th>\n",
       "      <th>Date</th>\n",
       "    </tr>\n",
       "  </thead>\n",
       "  <tbody>\n",
       "    <tr>\n",
       "      <th>0</th>\n",
       "      <td>176.26</td>\n",
       "      <td>1948-1-01</td>\n",
       "    </tr>\n",
       "    <tr>\n",
       "      <th>1</th>\n",
       "      <td>168.47</td>\n",
       "      <td>1948-2-01</td>\n",
       "    </tr>\n",
       "    <tr>\n",
       "      <th>2</th>\n",
       "      <td>169.94</td>\n",
       "      <td>1948-3-01</td>\n",
       "    </tr>\n",
       "    <tr>\n",
       "      <th>3</th>\n",
       "      <td>180.05</td>\n",
       "      <td>1948-4-01</td>\n",
       "    </tr>\n",
       "    <tr>\n",
       "      <th>4</th>\n",
       "      <td>186.38</td>\n",
       "      <td>1948-5-01</td>\n",
       "    </tr>\n",
       "  </tbody>\n",
       "</table>\n",
       "</div>"
      ],
      "text/plain": [
       "      DJI       Date\n",
       "0  176.26  1948-1-01\n",
       "1  168.47  1948-2-01\n",
       "2  169.94  1948-3-01\n",
       "3  180.05  1948-4-01\n",
       "4  186.38  1948-5-01"
      ]
     },
     "execution_count": 59,
     "metadata": {},
     "output_type": "execute_result"
    }
   ],
   "source": [
    "d['DJI'] = d['DJI'].round(2)\n",
    "d.shape\n",
    "d.head()"
   ]
  },
  {
   "cell_type": "markdown",
   "id": "ed2a81b0-d77c-4589-8e92-c6f2465732a9",
   "metadata": {},
   "source": [
    "### Yield curve data"
   ]
  },
  {
   "cell_type": "code",
   "execution_count": 60,
   "id": "4ad67477-8517-42af-8b52-825ad4b1b4fb",
   "metadata": {
    "tags": []
   },
   "outputs": [
    {
     "data": {
      "text/html": [
       "<div>\n",
       "<style scoped>\n",
       "    .dataframe tbody tr th:only-of-type {\n",
       "        vertical-align: middle;\n",
       "    }\n",
       "\n",
       "    .dataframe tbody tr th {\n",
       "        vertical-align: top;\n",
       "    }\n",
       "\n",
       "    .dataframe thead th {\n",
       "        text-align: right;\n",
       "    }\n",
       "</style>\n",
       "<table border=\"1\" class=\"dataframe\">\n",
       "  <thead>\n",
       "    <tr style=\"text-align: right;\">\n",
       "      <th></th>\n",
       "      <th>DATE</th>\n",
       "      <th>TB3MS</th>\n",
       "    </tr>\n",
       "  </thead>\n",
       "  <tbody>\n",
       "    <tr>\n",
       "      <th>0</th>\n",
       "      <td>1934-01-01</td>\n",
       "      <td>0.72</td>\n",
       "    </tr>\n",
       "    <tr>\n",
       "      <th>1</th>\n",
       "      <td>1934-02-01</td>\n",
       "      <td>0.62</td>\n",
       "    </tr>\n",
       "    <tr>\n",
       "      <th>2</th>\n",
       "      <td>1934-03-01</td>\n",
       "      <td>0.24</td>\n",
       "    </tr>\n",
       "    <tr>\n",
       "      <th>3</th>\n",
       "      <td>1934-04-01</td>\n",
       "      <td>0.15</td>\n",
       "    </tr>\n",
       "    <tr>\n",
       "      <th>4</th>\n",
       "      <td>1934-05-01</td>\n",
       "      <td>0.16</td>\n",
       "    </tr>\n",
       "  </tbody>\n",
       "</table>\n",
       "</div>"
      ],
      "text/plain": [
       "         DATE  TB3MS\n",
       "0  1934-01-01   0.72\n",
       "1  1934-02-01   0.62\n",
       "2  1934-03-01   0.24\n",
       "3  1934-04-01   0.15\n",
       "4  1934-05-01   0.16"
      ]
     },
     "execution_count": 60,
     "metadata": {},
     "output_type": "execute_result"
    }
   ],
   "source": [
    "df_yield = pd.read_csv('T-Bills_3M_Yield.csv') # in fact the data is by months\n",
    "df_yield.head()"
   ]
  },
  {
   "cell_type": "code",
   "execution_count": 61,
   "id": "4a091031-19ed-466b-a233-905ddc9043ec",
   "metadata": {
    "tags": []
   },
   "outputs": [
    {
     "data": {
      "text/html": [
       "<div>\n",
       "<style scoped>\n",
       "    .dataframe tbody tr th:only-of-type {\n",
       "        vertical-align: middle;\n",
       "    }\n",
       "\n",
       "    .dataframe tbody tr th {\n",
       "        vertical-align: top;\n",
       "    }\n",
       "\n",
       "    .dataframe thead th {\n",
       "        text-align: right;\n",
       "    }\n",
       "</style>\n",
       "<table border=\"1\" class=\"dataframe\">\n",
       "  <thead>\n",
       "    <tr style=\"text-align: right;\">\n",
       "      <th></th>\n",
       "      <th>Date</th>\n",
       "      <th>GDP</th>\n",
       "      <th>GDP rate</th>\n",
       "    </tr>\n",
       "  </thead>\n",
       "  <tbody>\n",
       "    <tr>\n",
       "      <th>922</th>\n",
       "      <td>2023-11-01</td>\n",
       "      <td>22679.255</td>\n",
       "      <td>3.4</td>\n",
       "    </tr>\n",
       "    <tr>\n",
       "      <th>923</th>\n",
       "      <td>2023-12-01</td>\n",
       "      <td>22679.255</td>\n",
       "      <td>3.4</td>\n",
       "    </tr>\n",
       "    <tr>\n",
       "      <th>924</th>\n",
       "      <td>2024-01-01</td>\n",
       "      <td>22758.752</td>\n",
       "      <td>1.4</td>\n",
       "    </tr>\n",
       "    <tr>\n",
       "      <th>925</th>\n",
       "      <td>2024-02-01</td>\n",
       "      <td>22758.752</td>\n",
       "      <td>1.4</td>\n",
       "    </tr>\n",
       "    <tr>\n",
       "      <th>926</th>\n",
       "      <td>2024-03-01</td>\n",
       "      <td>22758.752</td>\n",
       "      <td>1.4</td>\n",
       "    </tr>\n",
       "  </tbody>\n",
       "</table>\n",
       "</div>"
      ],
      "text/plain": [
       "          Date        GDP  GDP rate\n",
       "922 2023-11-01  22679.255       3.4\n",
       "923 2023-12-01  22679.255       3.4\n",
       "924 2024-01-01  22758.752       1.4\n",
       "925 2024-02-01  22758.752       1.4\n",
       "926 2024-03-01  22758.752       1.4"
      ]
     },
     "execution_count": 61,
     "metadata": {},
     "output_type": "execute_result"
    },
    {
     "data": {
      "text/html": [
       "<div>\n",
       "<style scoped>\n",
       "    .dataframe tbody tr th:only-of-type {\n",
       "        vertical-align: middle;\n",
       "    }\n",
       "\n",
       "    .dataframe tbody tr th {\n",
       "        vertical-align: top;\n",
       "    }\n",
       "\n",
       "    .dataframe thead th {\n",
       "        text-align: right;\n",
       "    }\n",
       "</style>\n",
       "<table border=\"1\" class=\"dataframe\">\n",
       "  <thead>\n",
       "    <tr style=\"text-align: right;\">\n",
       "      <th></th>\n",
       "      <th>DATE</th>\n",
       "      <th>TB3MS</th>\n",
       "    </tr>\n",
       "  </thead>\n",
       "  <tbody>\n",
       "    <tr>\n",
       "      <th>168</th>\n",
       "      <td>1948-01-01</td>\n",
       "      <td>0.97</td>\n",
       "    </tr>\n",
       "  </tbody>\n",
       "</table>\n",
       "</div>"
      ],
      "text/plain": [
       "           DATE  TB3MS\n",
       "168  1948-01-01   0.97"
      ]
     },
     "execution_count": 61,
     "metadata": {},
     "output_type": "execute_result"
    }
   ],
   "source": [
    "df.tail()\n",
    "df_yield[df_yield['DATE'] == '1948-01-01']"
   ]
  },
  {
   "cell_type": "code",
   "execution_count": 62,
   "id": "b6b42ce8-913c-4103-8c9a-f9f32cf1951b",
   "metadata": {
    "tags": []
   },
   "outputs": [],
   "source": [
    "df_yield = df_yield.iloc[168:]\n",
    "df_yield.reset_index(drop=True, inplace=True)"
   ]
  },
  {
   "cell_type": "code",
   "execution_count": 63,
   "id": "24011ba1-13f1-429e-90d4-31121e3ceb40",
   "metadata": {
    "tags": []
   },
   "outputs": [
    {
     "data": {
      "text/html": [
       "<div>\n",
       "<style scoped>\n",
       "    .dataframe tbody tr th:only-of-type {\n",
       "        vertical-align: middle;\n",
       "    }\n",
       "\n",
       "    .dataframe tbody tr th {\n",
       "        vertical-align: top;\n",
       "    }\n",
       "\n",
       "    .dataframe thead th {\n",
       "        text-align: right;\n",
       "    }\n",
       "</style>\n",
       "<table border=\"1\" class=\"dataframe\">\n",
       "  <thead>\n",
       "    <tr style=\"text-align: right;\">\n",
       "      <th></th>\n",
       "      <th>DATE</th>\n",
       "      <th>TB3MS</th>\n",
       "    </tr>\n",
       "  </thead>\n",
       "  <tbody>\n",
       "    <tr>\n",
       "      <th>0</th>\n",
       "      <td>1948-01-01</td>\n",
       "      <td>0.97</td>\n",
       "    </tr>\n",
       "    <tr>\n",
       "      <th>1</th>\n",
       "      <td>1948-02-01</td>\n",
       "      <td>1.00</td>\n",
       "    </tr>\n",
       "    <tr>\n",
       "      <th>2</th>\n",
       "      <td>1948-03-01</td>\n",
       "      <td>1.00</td>\n",
       "    </tr>\n",
       "    <tr>\n",
       "      <th>3</th>\n",
       "      <td>1948-04-01</td>\n",
       "      <td>1.00</td>\n",
       "    </tr>\n",
       "    <tr>\n",
       "      <th>4</th>\n",
       "      <td>1948-05-01</td>\n",
       "      <td>1.00</td>\n",
       "    </tr>\n",
       "  </tbody>\n",
       "</table>\n",
       "</div>"
      ],
      "text/plain": [
       "         DATE  TB3MS\n",
       "0  1948-01-01   0.97\n",
       "1  1948-02-01   1.00\n",
       "2  1948-03-01   1.00\n",
       "3  1948-04-01   1.00\n",
       "4  1948-05-01   1.00"
      ]
     },
     "execution_count": 63,
     "metadata": {},
     "output_type": "execute_result"
    }
   ],
   "source": [
    "df_yield.head()"
   ]
  },
  {
   "cell_type": "markdown",
   "id": "0e8d00d0-55f1-4c1d-8a8c-06d3631dcfc3",
   "metadata": {},
   "source": [
    "### Housing started data"
   ]
  },
  {
   "cell_type": "code",
   "execution_count": 64,
   "id": "ed779cb2-2308-4eb1-a0e3-b58f0c561b90",
   "metadata": {
    "tags": []
   },
   "outputs": [
    {
     "data": {
      "text/html": [
       "<div>\n",
       "<style scoped>\n",
       "    .dataframe tbody tr th:only-of-type {\n",
       "        vertical-align: middle;\n",
       "    }\n",
       "\n",
       "    .dataframe tbody tr th {\n",
       "        vertical-align: top;\n",
       "    }\n",
       "\n",
       "    .dataframe thead th {\n",
       "        text-align: right;\n",
       "    }\n",
       "</style>\n",
       "<table border=\"1\" class=\"dataframe\">\n",
       "  <thead>\n",
       "    <tr style=\"text-align: right;\">\n",
       "      <th></th>\n",
       "      <th>Date</th>\n",
       "      <th>Total</th>\n",
       "    </tr>\n",
       "  </thead>\n",
       "  <tbody>\n",
       "    <tr>\n",
       "      <th>0</th>\n",
       "      <td>1959-01-01 00:00:00</td>\n",
       "      <td>1657.0</td>\n",
       "    </tr>\n",
       "    <tr>\n",
       "      <th>1</th>\n",
       "      <td>1959-02-01 00:00:00</td>\n",
       "      <td>1667.0</td>\n",
       "    </tr>\n",
       "    <tr>\n",
       "      <th>2</th>\n",
       "      <td>1959-03-01 00:00:00</td>\n",
       "      <td>1620.0</td>\n",
       "    </tr>\n",
       "    <tr>\n",
       "      <th>3</th>\n",
       "      <td>1959-04-01 00:00:00</td>\n",
       "      <td>1590.0</td>\n",
       "    </tr>\n",
       "    <tr>\n",
       "      <th>4</th>\n",
       "      <td>1959-05-01 00:00:00</td>\n",
       "      <td>1498.0</td>\n",
       "    </tr>\n",
       "  </tbody>\n",
       "</table>\n",
       "</div>"
      ],
      "text/plain": [
       "                  Date   Total\n",
       "0  1959-01-01 00:00:00  1657.0\n",
       "1  1959-02-01 00:00:00  1667.0\n",
       "2  1959-03-01 00:00:00  1620.0\n",
       "3  1959-04-01 00:00:00  1590.0\n",
       "4  1959-05-01 00:00:00  1498.0"
      ]
     },
     "execution_count": 64,
     "metadata": {},
     "output_type": "execute_result"
    }
   ],
   "source": [
    "df_hstart = pd.read_excel('starts_cust.xlsx', sheet_name='Seasonally Adjusted', header=5, usecols=['Unnamed: 0', 'Total'])\n",
    "df_hstart.rename(columns={'Unnamed: 0': 'Date'}, inplace=True)\n",
    "df_hstart.dropna(inplace=True)\n",
    "df_hstart.head()"
   ]
  },
  {
   "cell_type": "code",
   "execution_count": 65,
   "id": "94fa33d8-51ec-4bd8-8c18-ceb6845e3cef",
   "metadata": {
    "tags": []
   },
   "outputs": [
    {
     "data": {
      "text/plain": [
       "(786, 2)"
      ]
     },
     "execution_count": 65,
     "metadata": {},
     "output_type": "execute_result"
    }
   ],
   "source": [
    "df_hstart.shape\n",
    "\n",
    "df_hstart['Date'] = pd.to_datetime(df_hstart['Date'])"
   ]
  },
  {
   "cell_type": "markdown",
   "id": "65b543f1-d69d-49a8-8c9d-78208a1d8636",
   "metadata": {},
   "source": [
    "The dataframe starts from 1959, but we need it from Jan 1948. We don't have monthly data for that, only annual (from db-hstarts.pdf from Bureau of the Census). So we'll need to create artificial monthly data from annual. Each month from 1948 to Dec 1958 will have monthly value = to annual value."
   ]
  },
  {
   "cell_type": "code",
   "execution_count": 66,
   "id": "83a35205-b3bc-48fc-9205-58ece0adec11",
   "metadata": {
    "tags": []
   },
   "outputs": [
    {
     "data": {
      "text/html": [
       "<div>\n",
       "<style scoped>\n",
       "    .dataframe tbody tr th:only-of-type {\n",
       "        vertical-align: middle;\n",
       "    }\n",
       "\n",
       "    .dataframe tbody tr th {\n",
       "        vertical-align: top;\n",
       "    }\n",
       "\n",
       "    .dataframe thead th {\n",
       "        text-align: right;\n",
       "    }\n",
       "</style>\n",
       "<table border=\"1\" class=\"dataframe\">\n",
       "  <thead>\n",
       "    <tr style=\"text-align: right;\">\n",
       "      <th></th>\n",
       "      <th>Year</th>\n",
       "      <th>Total</th>\n",
       "    </tr>\n",
       "  </thead>\n",
       "  <tbody>\n",
       "    <tr>\n",
       "      <th>0</th>\n",
       "      <td>1948</td>\n",
       "      <td>1362</td>\n",
       "    </tr>\n",
       "    <tr>\n",
       "      <th>1</th>\n",
       "      <td>1949</td>\n",
       "      <td>1466</td>\n",
       "    </tr>\n",
       "    <tr>\n",
       "      <th>2</th>\n",
       "      <td>1950</td>\n",
       "      <td>1952</td>\n",
       "    </tr>\n",
       "    <tr>\n",
       "      <th>3</th>\n",
       "      <td>1951</td>\n",
       "      <td>1591</td>\n",
       "    </tr>\n",
       "    <tr>\n",
       "      <th>4</th>\n",
       "      <td>1952</td>\n",
       "      <td>1504</td>\n",
       "    </tr>\n",
       "    <tr>\n",
       "      <th>5</th>\n",
       "      <td>1953</td>\n",
       "      <td>1438</td>\n",
       "    </tr>\n",
       "    <tr>\n",
       "      <th>6</th>\n",
       "      <td>1954</td>\n",
       "      <td>1551</td>\n",
       "    </tr>\n",
       "    <tr>\n",
       "      <th>7</th>\n",
       "      <td>1955</td>\n",
       "      <td>1646</td>\n",
       "    </tr>\n",
       "    <tr>\n",
       "      <th>8</th>\n",
       "      <td>1956</td>\n",
       "      <td>1349</td>\n",
       "    </tr>\n",
       "    <tr>\n",
       "      <th>9</th>\n",
       "      <td>1957</td>\n",
       "      <td>1224</td>\n",
       "    </tr>\n",
       "    <tr>\n",
       "      <th>10</th>\n",
       "      <td>1958</td>\n",
       "      <td>1382</td>\n",
       "    </tr>\n",
       "  </tbody>\n",
       "</table>\n",
       "</div>"
      ],
      "text/plain": [
       "    Year  Total\n",
       "0   1948   1362\n",
       "1   1949   1466\n",
       "2   1950   1952\n",
       "3   1951   1591\n",
       "4   1952   1504\n",
       "5   1953   1438\n",
       "6   1954   1551\n",
       "7   1955   1646\n",
       "8   1956   1349\n",
       "9   1957   1224\n",
       "10  1958   1382"
      ]
     },
     "execution_count": 66,
     "metadata": {},
     "output_type": "execute_result"
    }
   ],
   "source": [
    "df_hstart_art = pd.read_excel('starts_cust.xlsx', sheet_name='Sheet1', names=['Year','Total'], header=None)\n",
    "df_hstart_art.head(15)"
   ]
  },
  {
   "cell_type": "markdown",
   "id": "68ac792b-4413-4ec0-8f16-d81d6fca1ca8",
   "metadata": {},
   "source": [
    "Create date range"
   ]
  },
  {
   "cell_type": "code",
   "execution_count": 67,
   "id": "148d391b-0a09-4b0b-970c-06430d1e06b7",
   "metadata": {
    "tags": []
   },
   "outputs": [],
   "source": [
    "df_r = pd.date_range(start='1948-01-01', end='1958-12-01', freq='MS')\n",
    "df_r = pd.DataFrame(df_r)"
   ]
  },
  {
   "cell_type": "code",
   "execution_count": 68,
   "id": "f54b16db-35f8-4c53-b9d5-b5f78cc89e87",
   "metadata": {
    "tags": []
   },
   "outputs": [
    {
     "data": {
      "text/html": [
       "<div>\n",
       "<style scoped>\n",
       "    .dataframe tbody tr th:only-of-type {\n",
       "        vertical-align: middle;\n",
       "    }\n",
       "\n",
       "    .dataframe tbody tr th {\n",
       "        vertical-align: top;\n",
       "    }\n",
       "\n",
       "    .dataframe thead th {\n",
       "        text-align: right;\n",
       "    }\n",
       "</style>\n",
       "<table border=\"1\" class=\"dataframe\">\n",
       "  <thead>\n",
       "    <tr style=\"text-align: right;\">\n",
       "      <th></th>\n",
       "      <th>Date</th>\n",
       "    </tr>\n",
       "  </thead>\n",
       "  <tbody>\n",
       "    <tr>\n",
       "      <th>0</th>\n",
       "      <td>1948-01-01</td>\n",
       "    </tr>\n",
       "    <tr>\n",
       "      <th>1</th>\n",
       "      <td>1948-02-01</td>\n",
       "    </tr>\n",
       "    <tr>\n",
       "      <th>2</th>\n",
       "      <td>1948-03-01</td>\n",
       "    </tr>\n",
       "    <tr>\n",
       "      <th>3</th>\n",
       "      <td>1948-04-01</td>\n",
       "    </tr>\n",
       "    <tr>\n",
       "      <th>4</th>\n",
       "      <td>1948-05-01</td>\n",
       "    </tr>\n",
       "  </tbody>\n",
       "</table>\n",
       "</div>"
      ],
      "text/plain": [
       "        Date\n",
       "0 1948-01-01\n",
       "1 1948-02-01\n",
       "2 1948-03-01\n",
       "3 1948-04-01\n",
       "4 1948-05-01"
      ]
     },
     "execution_count": 68,
     "metadata": {},
     "output_type": "execute_result"
    }
   ],
   "source": [
    "df_r.rename(columns={0:'Date'}, inplace=True)\n",
    "df_r.head()"
   ]
  },
  {
   "cell_type": "code",
   "execution_count": 69,
   "id": "c037a926-9915-473c-9533-578402ed6423",
   "metadata": {
    "tags": []
   },
   "outputs": [],
   "source": [
    "df_r['Year'] = df_r['Date'].dt.year\n",
    "df_hstart_art = df_hstart_art.merge(df_r, on='Year', how='left')"
   ]
  },
  {
   "cell_type": "code",
   "execution_count": 70,
   "id": "466014e6-da04-4bee-a453-de8c64cb22c3",
   "metadata": {
    "tags": []
   },
   "outputs": [
    {
     "data": {
      "text/html": [
       "<div>\n",
       "<style scoped>\n",
       "    .dataframe tbody tr th:only-of-type {\n",
       "        vertical-align: middle;\n",
       "    }\n",
       "\n",
       "    .dataframe tbody tr th {\n",
       "        vertical-align: top;\n",
       "    }\n",
       "\n",
       "    .dataframe thead th {\n",
       "        text-align: right;\n",
       "    }\n",
       "</style>\n",
       "<table border=\"1\" class=\"dataframe\">\n",
       "  <thead>\n",
       "    <tr style=\"text-align: right;\">\n",
       "      <th></th>\n",
       "      <th>Total</th>\n",
       "      <th>Date</th>\n",
       "    </tr>\n",
       "  </thead>\n",
       "  <tbody>\n",
       "    <tr>\n",
       "      <th>0</th>\n",
       "      <td>1362</td>\n",
       "      <td>1948-01-01</td>\n",
       "    </tr>\n",
       "    <tr>\n",
       "      <th>1</th>\n",
       "      <td>1362</td>\n",
       "      <td>1948-02-01</td>\n",
       "    </tr>\n",
       "    <tr>\n",
       "      <th>2</th>\n",
       "      <td>1362</td>\n",
       "      <td>1948-03-01</td>\n",
       "    </tr>\n",
       "    <tr>\n",
       "      <th>3</th>\n",
       "      <td>1362</td>\n",
       "      <td>1948-04-01</td>\n",
       "    </tr>\n",
       "    <tr>\n",
       "      <th>4</th>\n",
       "      <td>1362</td>\n",
       "      <td>1948-05-01</td>\n",
       "    </tr>\n",
       "  </tbody>\n",
       "</table>\n",
       "</div>"
      ],
      "text/plain": [
       "   Total       Date\n",
       "0   1362 1948-01-01\n",
       "1   1362 1948-02-01\n",
       "2   1362 1948-03-01\n",
       "3   1362 1948-04-01\n",
       "4   1362 1948-05-01"
      ]
     },
     "execution_count": 70,
     "metadata": {},
     "output_type": "execute_result"
    }
   ],
   "source": [
    "df_hstart_art.drop(columns='Year', inplace=True)\n",
    "df_hstart_art.head()"
   ]
  },
  {
   "cell_type": "code",
   "execution_count": 71,
   "id": "bc9cc569-79e2-41d5-8976-7678c9e1a040",
   "metadata": {
    "tags": []
   },
   "outputs": [],
   "source": [
    "df_hstart_combines = pd.concat([df_hstart_art, df_hstart]).sort_values(by='Date').reset_index(drop=True)"
   ]
  },
  {
   "cell_type": "code",
   "execution_count": 72,
   "id": "be77934c-c0b7-4528-9c44-17514e2165e3",
   "metadata": {
    "tags": []
   },
   "outputs": [],
   "source": [
    "df_hstart_combines = df_hstart_combines.iloc[:915]"
   ]
  },
  {
   "cell_type": "code",
   "execution_count": 73,
   "id": "ab0f3cb1-dca4-4ac2-8ea0-3c3435f5fb42",
   "metadata": {
    "tags": []
   },
   "outputs": [
    {
     "name": "stdout",
     "output_type": "stream",
     "text": [
      "<class 'pandas.core.frame.DataFrame'>\n",
      "RangeIndex: 915 entries, 0 to 914\n",
      "Data columns (total 2 columns):\n",
      " #   Column  Non-Null Count  Dtype         \n",
      "---  ------  --------------  -----         \n",
      " 0   Total   915 non-null    float64       \n",
      " 1   Date    915 non-null    datetime64[ns]\n",
      "dtypes: datetime64[ns](1), float64(1)\n",
      "memory usage: 14.4 KB\n"
     ]
    },
    {
     "data": {
      "text/html": [
       "<div>\n",
       "<style scoped>\n",
       "    .dataframe tbody tr th:only-of-type {\n",
       "        vertical-align: middle;\n",
       "    }\n",
       "\n",
       "    .dataframe tbody tr th {\n",
       "        vertical-align: top;\n",
       "    }\n",
       "\n",
       "    .dataframe thead th {\n",
       "        text-align: right;\n",
       "    }\n",
       "</style>\n",
       "<table border=\"1\" class=\"dataframe\">\n",
       "  <thead>\n",
       "    <tr style=\"text-align: right;\">\n",
       "      <th></th>\n",
       "      <th>Total</th>\n",
       "      <th>Date</th>\n",
       "    </tr>\n",
       "  </thead>\n",
       "  <tbody>\n",
       "    <tr>\n",
       "      <th>910</th>\n",
       "      <td>1510.0</td>\n",
       "      <td>2023-11-01</td>\n",
       "    </tr>\n",
       "    <tr>\n",
       "      <th>911</th>\n",
       "      <td>1568.0</td>\n",
       "      <td>2023-12-01</td>\n",
       "    </tr>\n",
       "    <tr>\n",
       "      <th>912</th>\n",
       "      <td>1376.0</td>\n",
       "      <td>2024-01-01</td>\n",
       "    </tr>\n",
       "    <tr>\n",
       "      <th>913</th>\n",
       "      <td>1546.0</td>\n",
       "      <td>2024-02-01</td>\n",
       "    </tr>\n",
       "    <tr>\n",
       "      <th>914</th>\n",
       "      <td>1299.0</td>\n",
       "      <td>2024-03-01</td>\n",
       "    </tr>\n",
       "  </tbody>\n",
       "</table>\n",
       "</div>"
      ],
      "text/plain": [
       "      Total       Date\n",
       "910  1510.0 2023-11-01\n",
       "911  1568.0 2023-12-01\n",
       "912  1376.0 2024-01-01\n",
       "913  1546.0 2024-02-01\n",
       "914  1299.0 2024-03-01"
      ]
     },
     "execution_count": 73,
     "metadata": {},
     "output_type": "execute_result"
    }
   ],
   "source": [
    "df_hstart_combines.info()\n",
    "df_hstart_combines.tail()"
   ]
  },
  {
   "cell_type": "markdown",
   "id": "9aa75243-a67e-4212-a3d8-b3dcb044dd8f",
   "metadata": {},
   "source": [
    "### House price index"
   ]
  },
  {
   "cell_type": "code",
   "execution_count": 74,
   "id": "baa7802b-9116-44d2-b9b4-c57e726c6b61",
   "metadata": {
    "tags": []
   },
   "outputs": [
    {
     "data": {
      "text/html": [
       "<div>\n",
       "<style scoped>\n",
       "    .dataframe tbody tr th:only-of-type {\n",
       "        vertical-align: middle;\n",
       "    }\n",
       "\n",
       "    .dataframe tbody tr th {\n",
       "        vertical-align: top;\n",
       "    }\n",
       "\n",
       "    .dataframe thead th {\n",
       "        text-align: right;\n",
       "    }\n",
       "</style>\n",
       "<table border=\"1\" class=\"dataframe\">\n",
       "  <thead>\n",
       "    <tr style=\"text-align: right;\">\n",
       "      <th></th>\n",
       "      <th>Nominal Home Price Index</th>\n",
       "      <th>Normal Date</th>\n",
       "    </tr>\n",
       "  </thead>\n",
       "  <tbody>\n",
       "    <tr>\n",
       "      <th>0</th>\n",
       "      <td>3.557296</td>\n",
       "      <td>NaT</td>\n",
       "    </tr>\n",
       "    <tr>\n",
       "      <th>1</th>\n",
       "      <td>3.209111</td>\n",
       "      <td>NaT</td>\n",
       "    </tr>\n",
       "    <tr>\n",
       "      <th>2</th>\n",
       "      <td>3.267142</td>\n",
       "      <td>NaT</td>\n",
       "    </tr>\n",
       "    <tr>\n",
       "      <th>3</th>\n",
       "      <td>3.406416</td>\n",
       "      <td>NaT</td>\n",
       "    </tr>\n",
       "    <tr>\n",
       "      <th>4</th>\n",
       "      <td>3.969316</td>\n",
       "      <td>NaT</td>\n",
       "    </tr>\n",
       "  </tbody>\n",
       "</table>\n",
       "</div>"
      ],
      "text/plain": [
       "   Nominal Home Price Index Normal Date\n",
       "0                  3.557296         NaT\n",
       "1                  3.209111         NaT\n",
       "2                  3.267142         NaT\n",
       "3                  3.406416         NaT\n",
       "4                  3.969316         NaT"
      ]
     },
     "execution_count": 74,
     "metadata": {},
     "output_type": "execute_result"
    }
   ],
   "source": [
    "df_hpi = pd.read_excel('House_Price_Index_Fig3-1_1.xls', sheet_name='Data', usecols=['Nominal Home Price Index', 'Normal Date'], header=6)\n",
    "df_hpi.head()"
   ]
  },
  {
   "cell_type": "code",
   "execution_count": 75,
   "id": "ad976c9b-f995-475d-9ef4-db66aef3f324",
   "metadata": {
    "tags": []
   },
   "outputs": [
    {
     "data": {
      "text/html": [
       "<div>\n",
       "<style scoped>\n",
       "    .dataframe tbody tr th:only-of-type {\n",
       "        vertical-align: middle;\n",
       "    }\n",
       "\n",
       "    .dataframe tbody tr th {\n",
       "        vertical-align: top;\n",
       "    }\n",
       "\n",
       "    .dataframe thead th {\n",
       "        text-align: right;\n",
       "    }\n",
       "</style>\n",
       "<table border=\"1\" class=\"dataframe\">\n",
       "  <thead>\n",
       "    <tr style=\"text-align: right;\">\n",
       "      <th></th>\n",
       "      <th>Nominal Home Price Index</th>\n",
       "      <th>Normal Date</th>\n",
       "    </tr>\n",
       "  </thead>\n",
       "  <tbody>\n",
       "    <tr>\n",
       "      <th>63</th>\n",
       "      <td>14.26056</td>\n",
       "      <td>1953-01-01</td>\n",
       "    </tr>\n",
       "  </tbody>\n",
       "</table>\n",
       "</div>"
      ],
      "text/plain": [
       "    Nominal Home Price Index Normal Date\n",
       "63                  14.26056  1953-01-01"
      ]
     },
     "execution_count": 75,
     "metadata": {},
     "output_type": "execute_result"
    },
    {
     "data": {
      "text/html": [
       "<div>\n",
       "<style scoped>\n",
       "    .dataframe tbody tr th:only-of-type {\n",
       "        vertical-align: middle;\n",
       "    }\n",
       "\n",
       "    .dataframe tbody tr th {\n",
       "        vertical-align: top;\n",
       "    }\n",
       "\n",
       "    .dataframe thead th {\n",
       "        text-align: right;\n",
       "    }\n",
       "</style>\n",
       "<table border=\"1\" class=\"dataframe\">\n",
       "  <thead>\n",
       "    <tr style=\"text-align: right;\">\n",
       "      <th></th>\n",
       "      <th>Nominal Home Price Index</th>\n",
       "      <th>Normal Date</th>\n",
       "    </tr>\n",
       "  </thead>\n",
       "  <tbody>\n",
       "    <tr>\n",
       "      <th>63</th>\n",
       "      <td>14.260560</td>\n",
       "      <td>1953-01-01</td>\n",
       "    </tr>\n",
       "    <tr>\n",
       "      <th>64</th>\n",
       "      <td>14.260560</td>\n",
       "      <td>1953-02-01</td>\n",
       "    </tr>\n",
       "    <tr>\n",
       "      <th>65</th>\n",
       "      <td>14.260560</td>\n",
       "      <td>1953-03-01</td>\n",
       "    </tr>\n",
       "    <tr>\n",
       "      <th>66</th>\n",
       "      <td>14.293686</td>\n",
       "      <td>1953-04-01</td>\n",
       "    </tr>\n",
       "    <tr>\n",
       "      <th>67</th>\n",
       "      <td>14.310249</td>\n",
       "      <td>1953-05-01</td>\n",
       "    </tr>\n",
       "  </tbody>\n",
       "</table>\n",
       "</div>"
      ],
      "text/plain": [
       "    Nominal Home Price Index Normal Date\n",
       "63                 14.260560  1953-01-01\n",
       "64                 14.260560  1953-02-01\n",
       "65                 14.260560  1953-03-01\n",
       "66                 14.293686  1953-04-01\n",
       "67                 14.310249  1953-05-01"
      ]
     },
     "execution_count": 75,
     "metadata": {},
     "output_type": "execute_result"
    }
   ],
   "source": [
    "df_hpi[df_hpi['Normal Date'] == '1953-01-01']\n",
    "df_hpi = df_hpi.iloc[63:]\n",
    "df_hpi.head()"
   ]
  },
  {
   "cell_type": "markdown",
   "id": "79fba8f0-fb2c-47ed-a1bc-c7c63270f484",
   "metadata": {},
   "source": [
    "Same as with Housing starts, there's no monthly data for the period from Jan 1948 to Mar 1953. So we need to create it the same way."
   ]
  },
  {
   "cell_type": "code",
   "execution_count": 76,
   "id": "bb3c0890-11d1-443f-a251-d63aa759f963",
   "metadata": {
    "tags": []
   },
   "outputs": [],
   "source": [
    "df_hpi_48_53 = pd.read_excel('House_Price_Index_Fig3-1_1.xls', sheet_name='Data', usecols=['Nominal Home Price Index', 'Date'], header=6)"
   ]
  },
  {
   "cell_type": "code",
   "execution_count": 77,
   "id": "7b818ead-e748-4300-8202-10e9e02b287e",
   "metadata": {
    "tags": []
   },
   "outputs": [
    {
     "data": {
      "text/html": [
       "<div>\n",
       "<style scoped>\n",
       "    .dataframe tbody tr th:only-of-type {\n",
       "        vertical-align: middle;\n",
       "    }\n",
       "\n",
       "    .dataframe tbody tr th {\n",
       "        vertical-align: top;\n",
       "    }\n",
       "\n",
       "    .dataframe thead th {\n",
       "        text-align: right;\n",
       "    }\n",
       "</style>\n",
       "<table border=\"1\" class=\"dataframe\">\n",
       "  <thead>\n",
       "    <tr style=\"text-align: right;\">\n",
       "      <th></th>\n",
       "      <th>Date</th>\n",
       "      <th>Nominal Home Price Index</th>\n",
       "    </tr>\n",
       "  </thead>\n",
       "  <tbody>\n",
       "    <tr>\n",
       "      <th>58</th>\n",
       "      <td>1948</td>\n",
       "      <td>11.211582</td>\n",
       "    </tr>\n",
       "  </tbody>\n",
       "</table>\n",
       "</div>"
      ],
      "text/plain": [
       "    Date  Nominal Home Price Index\n",
       "58  1948                 11.211582"
      ]
     },
     "execution_count": 77,
     "metadata": {},
     "output_type": "execute_result"
    },
    {
     "data": {
      "text/html": [
       "<div>\n",
       "<style scoped>\n",
       "    .dataframe tbody tr th:only-of-type {\n",
       "        vertical-align: middle;\n",
       "    }\n",
       "\n",
       "    .dataframe tbody tr th {\n",
       "        vertical-align: top;\n",
       "    }\n",
       "\n",
       "    .dataframe thead th {\n",
       "        text-align: right;\n",
       "    }\n",
       "</style>\n",
       "<table border=\"1\" class=\"dataframe\">\n",
       "  <thead>\n",
       "    <tr style=\"text-align: right;\">\n",
       "      <th></th>\n",
       "      <th>Date</th>\n",
       "      <th>Nominal Home Price Index</th>\n",
       "    </tr>\n",
       "  </thead>\n",
       "  <tbody>\n",
       "    <tr>\n",
       "      <th>63</th>\n",
       "      <td>1953</td>\n",
       "      <td>14.260560</td>\n",
       "    </tr>\n",
       "    <tr>\n",
       "      <th>64</th>\n",
       "      <td>1953</td>\n",
       "      <td>14.260560</td>\n",
       "    </tr>\n",
       "    <tr>\n",
       "      <th>65</th>\n",
       "      <td>1953</td>\n",
       "      <td>14.260560</td>\n",
       "    </tr>\n",
       "    <tr>\n",
       "      <th>66</th>\n",
       "      <td>1953</td>\n",
       "      <td>14.293686</td>\n",
       "    </tr>\n",
       "    <tr>\n",
       "      <th>67</th>\n",
       "      <td>1953</td>\n",
       "      <td>14.310249</td>\n",
       "    </tr>\n",
       "    <tr>\n",
       "      <th>68</th>\n",
       "      <td>1953</td>\n",
       "      <td>14.310249</td>\n",
       "    </tr>\n",
       "    <tr>\n",
       "      <th>69</th>\n",
       "      <td>1953</td>\n",
       "      <td>14.343374</td>\n",
       "    </tr>\n",
       "    <tr>\n",
       "      <th>70</th>\n",
       "      <td>1953</td>\n",
       "      <td>14.359937</td>\n",
       "    </tr>\n",
       "    <tr>\n",
       "      <th>71</th>\n",
       "      <td>1953</td>\n",
       "      <td>14.376500</td>\n",
       "    </tr>\n",
       "    <tr>\n",
       "      <th>72</th>\n",
       "      <td>1953</td>\n",
       "      <td>14.376500</td>\n",
       "    </tr>\n",
       "    <tr>\n",
       "      <th>73</th>\n",
       "      <td>1953</td>\n",
       "      <td>14.359937</td>\n",
       "    </tr>\n",
       "    <tr>\n",
       "      <th>74</th>\n",
       "      <td>1953</td>\n",
       "      <td>14.359937</td>\n",
       "    </tr>\n",
       "  </tbody>\n",
       "</table>\n",
       "</div>"
      ],
      "text/plain": [
       "    Date  Nominal Home Price Index\n",
       "63  1953                 14.260560\n",
       "64  1953                 14.260560\n",
       "65  1953                 14.260560\n",
       "66  1953                 14.293686\n",
       "67  1953                 14.310249\n",
       "68  1953                 14.310249\n",
       "69  1953                 14.343374\n",
       "70  1953                 14.359937\n",
       "71  1953                 14.376500\n",
       "72  1953                 14.376500\n",
       "73  1953                 14.359937\n",
       "74  1953                 14.359937"
      ]
     },
     "execution_count": 77,
     "metadata": {},
     "output_type": "execute_result"
    },
    {
     "data": {
      "text/html": [
       "<div>\n",
       "<style scoped>\n",
       "    .dataframe tbody tr th:only-of-type {\n",
       "        vertical-align: middle;\n",
       "    }\n",
       "\n",
       "    .dataframe tbody tr th {\n",
       "        vertical-align: top;\n",
       "    }\n",
       "\n",
       "    .dataframe thead th {\n",
       "        text-align: right;\n",
       "    }\n",
       "</style>\n",
       "<table border=\"1\" class=\"dataframe\">\n",
       "  <thead>\n",
       "    <tr style=\"text-align: right;\">\n",
       "      <th></th>\n",
       "      <th>Date</th>\n",
       "      <th>Nominal Home Price Index</th>\n",
       "    </tr>\n",
       "  </thead>\n",
       "  <tbody>\n",
       "    <tr>\n",
       "      <th>0</th>\n",
       "      <td>1890</td>\n",
       "      <td>3.557296</td>\n",
       "    </tr>\n",
       "    <tr>\n",
       "      <th>1</th>\n",
       "      <td>1891</td>\n",
       "      <td>3.209111</td>\n",
       "    </tr>\n",
       "    <tr>\n",
       "      <th>2</th>\n",
       "      <td>1892</td>\n",
       "      <td>3.267142</td>\n",
       "    </tr>\n",
       "    <tr>\n",
       "      <th>3</th>\n",
       "      <td>1893</td>\n",
       "      <td>3.406416</td>\n",
       "    </tr>\n",
       "    <tr>\n",
       "      <th>4</th>\n",
       "      <td>1894</td>\n",
       "      <td>3.969316</td>\n",
       "    </tr>\n",
       "  </tbody>\n",
       "</table>\n",
       "</div>"
      ],
      "text/plain": [
       "   Date  Nominal Home Price Index\n",
       "0  1890                  3.557296\n",
       "1  1891                  3.209111\n",
       "2  1892                  3.267142\n",
       "3  1893                  3.406416\n",
       "4  1894                  3.969316"
      ]
     },
     "execution_count": 77,
     "metadata": {},
     "output_type": "execute_result"
    }
   ],
   "source": [
    "df_hpi_48_53['Date'] = df_hpi_48_53['Date'].astype(int)\n",
    "df_hpi_48_53[df_hpi_48_53['Date']==1948]\n",
    "df_hpi_48_53[df_hpi_48_53['Date']==1953]\n",
    "# the indeces are 58:63\n",
    "df_hpi_48_53.head()"
   ]
  },
  {
   "cell_type": "code",
   "execution_count": 78,
   "id": "26d7efd6-88dd-4e4d-870b-b6c7ce89148a",
   "metadata": {
    "tags": []
   },
   "outputs": [],
   "source": [
    "df_hpi_48_53 = df_hpi_48_53.iloc[58:64]"
   ]
  },
  {
   "cell_type": "code",
   "execution_count": 79,
   "id": "e3bf038d-1b77-4331-8f18-a9697572c62a",
   "metadata": {
    "tags": []
   },
   "outputs": [
    {
     "data": {
      "text/html": [
       "<div>\n",
       "<style scoped>\n",
       "    .dataframe tbody tr th:only-of-type {\n",
       "        vertical-align: middle;\n",
       "    }\n",
       "\n",
       "    .dataframe tbody tr th {\n",
       "        vertical-align: top;\n",
       "    }\n",
       "\n",
       "    .dataframe thead th {\n",
       "        text-align: right;\n",
       "    }\n",
       "</style>\n",
       "<table border=\"1\" class=\"dataframe\">\n",
       "  <thead>\n",
       "    <tr style=\"text-align: right;\">\n",
       "      <th></th>\n",
       "      <th>0</th>\n",
       "    </tr>\n",
       "  </thead>\n",
       "  <tbody>\n",
       "    <tr>\n",
       "      <th>0</th>\n",
       "      <td>1948-01-01</td>\n",
       "    </tr>\n",
       "    <tr>\n",
       "      <th>1</th>\n",
       "      <td>1948-02-01</td>\n",
       "    </tr>\n",
       "    <tr>\n",
       "      <th>2</th>\n",
       "      <td>1948-03-01</td>\n",
       "    </tr>\n",
       "    <tr>\n",
       "      <th>3</th>\n",
       "      <td>1948-04-01</td>\n",
       "    </tr>\n",
       "    <tr>\n",
       "      <th>4</th>\n",
       "      <td>1948-05-01</td>\n",
       "    </tr>\n",
       "  </tbody>\n",
       "</table>\n",
       "</div>"
      ],
      "text/plain": [
       "           0\n",
       "0 1948-01-01\n",
       "1 1948-02-01\n",
       "2 1948-03-01\n",
       "3 1948-04-01\n",
       "4 1948-05-01"
      ]
     },
     "execution_count": 79,
     "metadata": {},
     "output_type": "execute_result"
    }
   ],
   "source": [
    "df_hpi_48_53_art = pd.date_range(start='1948-01-01', end='1952-12-01', freq='MS')\n",
    "df_hpi_48_53_art = pd.DataFrame(df_hpi_48_53_art)\n",
    "df_hpi_48_53_art.head()"
   ]
  },
  {
   "cell_type": "code",
   "execution_count": 80,
   "id": "38555647-c6c4-4c14-80dc-8c44273c7a29",
   "metadata": {
    "tags": []
   },
   "outputs": [],
   "source": [
    "df_hpi_48_53_art['Year'] = df_hpi_48_53_art[0].dt.year"
   ]
  },
  {
   "cell_type": "code",
   "execution_count": 81,
   "id": "5e53c365-7167-49ed-aeb4-0ba123d18e3e",
   "metadata": {
    "tags": []
   },
   "outputs": [],
   "source": [
    "df_hpi_48_53['Year'] = df_hpi_48_53['Date']"
   ]
  },
  {
   "cell_type": "code",
   "execution_count": 82,
   "id": "636033c3-e4de-4cfa-a94b-ac28de2a2e43",
   "metadata": {
    "tags": []
   },
   "outputs": [],
   "source": [
    "df_hpi_48_53_art = df_hpi_48_53_art.merge(df_hpi_48_53, on='Year', how='left')"
   ]
  },
  {
   "cell_type": "code",
   "execution_count": 83,
   "id": "bd26030f-5be3-43bc-98ab-6fa3f41328c8",
   "metadata": {
    "tags": []
   },
   "outputs": [
    {
     "data": {
      "text/plain": [
       "(60, 4)"
      ]
     },
     "execution_count": 83,
     "metadata": {},
     "output_type": "execute_result"
    },
    {
     "data": {
      "text/html": [
       "<div>\n",
       "<style scoped>\n",
       "    .dataframe tbody tr th:only-of-type {\n",
       "        vertical-align: middle;\n",
       "    }\n",
       "\n",
       "    .dataframe tbody tr th {\n",
       "        vertical-align: top;\n",
       "    }\n",
       "\n",
       "    .dataframe thead th {\n",
       "        text-align: right;\n",
       "    }\n",
       "</style>\n",
       "<table border=\"1\" class=\"dataframe\">\n",
       "  <thead>\n",
       "    <tr style=\"text-align: right;\">\n",
       "      <th></th>\n",
       "      <th>0</th>\n",
       "      <th>Year</th>\n",
       "      <th>Date</th>\n",
       "      <th>Nominal Home Price Index</th>\n",
       "    </tr>\n",
       "  </thead>\n",
       "  <tbody>\n",
       "    <tr>\n",
       "      <th>0</th>\n",
       "      <td>1948-01-01</td>\n",
       "      <td>1948</td>\n",
       "      <td>1948</td>\n",
       "      <td>11.211582</td>\n",
       "    </tr>\n",
       "    <tr>\n",
       "      <th>1</th>\n",
       "      <td>1948-02-01</td>\n",
       "      <td>1948</td>\n",
       "      <td>1948</td>\n",
       "      <td>11.211582</td>\n",
       "    </tr>\n",
       "    <tr>\n",
       "      <th>2</th>\n",
       "      <td>1948-03-01</td>\n",
       "      <td>1948</td>\n",
       "      <td>1948</td>\n",
       "      <td>11.211582</td>\n",
       "    </tr>\n",
       "    <tr>\n",
       "      <th>3</th>\n",
       "      <td>1948-04-01</td>\n",
       "      <td>1948</td>\n",
       "      <td>1948</td>\n",
       "      <td>11.211582</td>\n",
       "    </tr>\n",
       "    <tr>\n",
       "      <th>4</th>\n",
       "      <td>1948-05-01</td>\n",
       "      <td>1948</td>\n",
       "      <td>1948</td>\n",
       "      <td>11.211582</td>\n",
       "    </tr>\n",
       "  </tbody>\n",
       "</table>\n",
       "</div>"
      ],
      "text/plain": [
       "           0  Year  Date  Nominal Home Price Index\n",
       "0 1948-01-01  1948  1948                 11.211582\n",
       "1 1948-02-01  1948  1948                 11.211582\n",
       "2 1948-03-01  1948  1948                 11.211582\n",
       "3 1948-04-01  1948  1948                 11.211582\n",
       "4 1948-05-01  1948  1948                 11.211582"
      ]
     },
     "execution_count": 83,
     "metadata": {},
     "output_type": "execute_result"
    },
    {
     "data": {
      "text/html": [
       "<div>\n",
       "<style scoped>\n",
       "    .dataframe tbody tr th:only-of-type {\n",
       "        vertical-align: middle;\n",
       "    }\n",
       "\n",
       "    .dataframe tbody tr th {\n",
       "        vertical-align: top;\n",
       "    }\n",
       "\n",
       "    .dataframe thead th {\n",
       "        text-align: right;\n",
       "    }\n",
       "</style>\n",
       "<table border=\"1\" class=\"dataframe\">\n",
       "  <thead>\n",
       "    <tr style=\"text-align: right;\">\n",
       "      <th></th>\n",
       "      <th>0</th>\n",
       "      <th>Year</th>\n",
       "      <th>Date</th>\n",
       "      <th>Nominal Home Price Index</th>\n",
       "    </tr>\n",
       "  </thead>\n",
       "  <tbody>\n",
       "    <tr>\n",
       "      <th>55</th>\n",
       "      <td>1952-08-01</td>\n",
       "      <td>1952</td>\n",
       "      <td>1952</td>\n",
       "      <td>12.876954</td>\n",
       "    </tr>\n",
       "    <tr>\n",
       "      <th>56</th>\n",
       "      <td>1952-09-01</td>\n",
       "      <td>1952</td>\n",
       "      <td>1952</td>\n",
       "      <td>12.876954</td>\n",
       "    </tr>\n",
       "    <tr>\n",
       "      <th>57</th>\n",
       "      <td>1952-10-01</td>\n",
       "      <td>1952</td>\n",
       "      <td>1952</td>\n",
       "      <td>12.876954</td>\n",
       "    </tr>\n",
       "    <tr>\n",
       "      <th>58</th>\n",
       "      <td>1952-11-01</td>\n",
       "      <td>1952</td>\n",
       "      <td>1952</td>\n",
       "      <td>12.876954</td>\n",
       "    </tr>\n",
       "    <tr>\n",
       "      <th>59</th>\n",
       "      <td>1952-12-01</td>\n",
       "      <td>1952</td>\n",
       "      <td>1952</td>\n",
       "      <td>12.876954</td>\n",
       "    </tr>\n",
       "  </tbody>\n",
       "</table>\n",
       "</div>"
      ],
      "text/plain": [
       "            0  Year  Date  Nominal Home Price Index\n",
       "55 1952-08-01  1952  1952                 12.876954\n",
       "56 1952-09-01  1952  1952                 12.876954\n",
       "57 1952-10-01  1952  1952                 12.876954\n",
       "58 1952-11-01  1952  1952                 12.876954\n",
       "59 1952-12-01  1952  1952                 12.876954"
      ]
     },
     "execution_count": 83,
     "metadata": {},
     "output_type": "execute_result"
    }
   ],
   "source": [
    "df_hpi_48_53_art.shape\n",
    "df_hpi_48_53_art.head()\n",
    "df_hpi_48_53_art.tail()"
   ]
  },
  {
   "cell_type": "code",
   "execution_count": 84,
   "id": "67e8e994-582e-4b5a-a2a9-c494ca2a7c07",
   "metadata": {
    "tags": []
   },
   "outputs": [],
   "source": [
    "df_hpi_48_53_art.drop(columns=['Year', 'Date'], inplace=True)"
   ]
  },
  {
   "cell_type": "code",
   "execution_count": 85,
   "id": "d4a68fcd-1909-475e-8a20-38373fe91ef2",
   "metadata": {
    "tags": []
   },
   "outputs": [
    {
     "data": {
      "text/html": [
       "<div>\n",
       "<style scoped>\n",
       "    .dataframe tbody tr th:only-of-type {\n",
       "        vertical-align: middle;\n",
       "    }\n",
       "\n",
       "    .dataframe tbody tr th {\n",
       "        vertical-align: top;\n",
       "    }\n",
       "\n",
       "    .dataframe thead th {\n",
       "        text-align: right;\n",
       "    }\n",
       "</style>\n",
       "<table border=\"1\" class=\"dataframe\">\n",
       "  <thead>\n",
       "    <tr style=\"text-align: right;\">\n",
       "      <th></th>\n",
       "      <th>Normal Date</th>\n",
       "      <th>Nominal Home Price Index</th>\n",
       "    </tr>\n",
       "  </thead>\n",
       "  <tbody>\n",
       "    <tr>\n",
       "      <th>0</th>\n",
       "      <td>1948-01-01</td>\n",
       "      <td>11.211582</td>\n",
       "    </tr>\n",
       "    <tr>\n",
       "      <th>1</th>\n",
       "      <td>1948-02-01</td>\n",
       "      <td>11.211582</td>\n",
       "    </tr>\n",
       "    <tr>\n",
       "      <th>2</th>\n",
       "      <td>1948-03-01</td>\n",
       "      <td>11.211582</td>\n",
       "    </tr>\n",
       "    <tr>\n",
       "      <th>3</th>\n",
       "      <td>1948-04-01</td>\n",
       "      <td>11.211582</td>\n",
       "    </tr>\n",
       "    <tr>\n",
       "      <th>4</th>\n",
       "      <td>1948-05-01</td>\n",
       "      <td>11.211582</td>\n",
       "    </tr>\n",
       "  </tbody>\n",
       "</table>\n",
       "</div>"
      ],
      "text/plain": [
       "  Normal Date  Nominal Home Price Index\n",
       "0  1948-01-01                 11.211582\n",
       "1  1948-02-01                 11.211582\n",
       "2  1948-03-01                 11.211582\n",
       "3  1948-04-01                 11.211582\n",
       "4  1948-05-01                 11.211582"
      ]
     },
     "execution_count": 85,
     "metadata": {},
     "output_type": "execute_result"
    }
   ],
   "source": [
    "df_hpi_48_53_art.rename(columns = {0:'Normal Date'}, inplace=True)\n",
    "df_hpi_48_53_art.head()"
   ]
  },
  {
   "cell_type": "code",
   "execution_count": 86,
   "id": "5cf1b271-95af-4180-9fa8-75c27d56cc4d",
   "metadata": {
    "tags": []
   },
   "outputs": [],
   "source": [
    "df_hpi_combine = pd.concat([df_hpi, df_hpi_48_53_art]).sort_values(by='Normal Date').reset_index(drop=True)"
   ]
  },
  {
   "cell_type": "code",
   "execution_count": 87,
   "id": "ce44dba0-38f2-4140-8ea5-a4d5afab1e27",
   "metadata": {
    "tags": []
   },
   "outputs": [
    {
     "data": {
      "text/plain": [
       "(913, 2)"
      ]
     },
     "execution_count": 87,
     "metadata": {},
     "output_type": "execute_result"
    },
    {
     "data": {
      "text/html": [
       "<div>\n",
       "<style scoped>\n",
       "    .dataframe tbody tr th:only-of-type {\n",
       "        vertical-align: middle;\n",
       "    }\n",
       "\n",
       "    .dataframe tbody tr th {\n",
       "        vertical-align: top;\n",
       "    }\n",
       "\n",
       "    .dataframe thead th {\n",
       "        text-align: right;\n",
       "    }\n",
       "</style>\n",
       "<table border=\"1\" class=\"dataframe\">\n",
       "  <thead>\n",
       "    <tr style=\"text-align: right;\">\n",
       "      <th></th>\n",
       "      <th>Nominal Home Price Index</th>\n",
       "      <th>Normal Date</th>\n",
       "    </tr>\n",
       "  </thead>\n",
       "  <tbody>\n",
       "    <tr>\n",
       "      <th>0</th>\n",
       "      <td>11.211582</td>\n",
       "      <td>1948-01-01</td>\n",
       "    </tr>\n",
       "    <tr>\n",
       "      <th>1</th>\n",
       "      <td>11.211582</td>\n",
       "      <td>1948-02-01</td>\n",
       "    </tr>\n",
       "    <tr>\n",
       "      <th>2</th>\n",
       "      <td>11.211582</td>\n",
       "      <td>1948-03-01</td>\n",
       "    </tr>\n",
       "    <tr>\n",
       "      <th>3</th>\n",
       "      <td>11.211582</td>\n",
       "      <td>1948-04-01</td>\n",
       "    </tr>\n",
       "    <tr>\n",
       "      <th>4</th>\n",
       "      <td>11.211582</td>\n",
       "      <td>1948-05-01</td>\n",
       "    </tr>\n",
       "  </tbody>\n",
       "</table>\n",
       "</div>"
      ],
      "text/plain": [
       "   Nominal Home Price Index Normal Date\n",
       "0                 11.211582  1948-01-01\n",
       "1                 11.211582  1948-02-01\n",
       "2                 11.211582  1948-03-01\n",
       "3                 11.211582  1948-04-01\n",
       "4                 11.211582  1948-05-01"
      ]
     },
     "execution_count": 87,
     "metadata": {},
     "output_type": "execute_result"
    },
    {
     "data": {
      "text/html": [
       "<div>\n",
       "<style scoped>\n",
       "    .dataframe tbody tr th:only-of-type {\n",
       "        vertical-align: middle;\n",
       "    }\n",
       "\n",
       "    .dataframe tbody tr th {\n",
       "        vertical-align: top;\n",
       "    }\n",
       "\n",
       "    .dataframe thead th {\n",
       "        text-align: right;\n",
       "    }\n",
       "</style>\n",
       "<table border=\"1\" class=\"dataframe\">\n",
       "  <thead>\n",
       "    <tr style=\"text-align: right;\">\n",
       "      <th></th>\n",
       "      <th>Nominal Home Price Index</th>\n",
       "      <th>Normal Date</th>\n",
       "    </tr>\n",
       "  </thead>\n",
       "  <tbody>\n",
       "    <tr>\n",
       "      <th>908</th>\n",
       "      <td>312.417</td>\n",
       "      <td>2023-09-01</td>\n",
       "    </tr>\n",
       "    <tr>\n",
       "      <th>909</th>\n",
       "      <td>312.953</td>\n",
       "      <td>2023-10-01</td>\n",
       "    </tr>\n",
       "    <tr>\n",
       "      <th>910</th>\n",
       "      <td>NaN</td>\n",
       "      <td>2023-11-01</td>\n",
       "    </tr>\n",
       "    <tr>\n",
       "      <th>911</th>\n",
       "      <td>NaN</td>\n",
       "      <td>2023-12-01</td>\n",
       "    </tr>\n",
       "    <tr>\n",
       "      <th>912</th>\n",
       "      <td>NaN</td>\n",
       "      <td>2024-01-01</td>\n",
       "    </tr>\n",
       "  </tbody>\n",
       "</table>\n",
       "</div>"
      ],
      "text/plain": [
       "     Nominal Home Price Index Normal Date\n",
       "908                   312.417  2023-09-01\n",
       "909                   312.953  2023-10-01\n",
       "910                       NaN  2023-11-01\n",
       "911                       NaN  2023-12-01\n",
       "912                       NaN  2024-01-01"
      ]
     },
     "execution_count": 87,
     "metadata": {},
     "output_type": "execute_result"
    }
   ],
   "source": [
    "df_hpi_combine.shape\n",
    "df_hpi_combine.head()\n",
    "df_hpi_combine.tail()"
   ]
  },
  {
   "cell_type": "code",
   "execution_count": 88,
   "id": "3cab7d15-1498-4e1a-9a77-44287b43d52a",
   "metadata": {
    "tags": []
   },
   "outputs": [],
   "source": [
    "df_hpi_combine.dropna(inplace=True)"
   ]
  },
  {
   "cell_type": "code",
   "execution_count": 89,
   "id": "74a82a4c-27cd-4dbf-8cb0-559af4aa1540",
   "metadata": {
    "tags": []
   },
   "outputs": [],
   "source": [
    "add_data = {\n",
    "    'Normal Date': ['2023-11-01','2023-12-01','2024-01-01','2024-02-01','2024-03-01'],\n",
    "    'Nominal Home Price Index': [284.8839432, 284.2869918, 285.4357485, 288.5099601, 292.3175519]\n",
    "}\n",
    "\n",
    "df_add_data = pd.DataFrame(add_data)\n",
    "df_hpi_combine = pd.concat([df_hpi_combine, df_add_data], ignore_index=True)"
   ]
  },
  {
   "cell_type": "code",
   "execution_count": 90,
   "id": "2d3b0778-749b-45cf-8f94-0b83f0faf8ce",
   "metadata": {
    "tags": []
   },
   "outputs": [
    {
     "data": {
      "text/plain": [
       "(915, 2)"
      ]
     },
     "execution_count": 90,
     "metadata": {},
     "output_type": "execute_result"
    },
    {
     "data": {
      "text/html": [
       "<div>\n",
       "<style scoped>\n",
       "    .dataframe tbody tr th:only-of-type {\n",
       "        vertical-align: middle;\n",
       "    }\n",
       "\n",
       "    .dataframe tbody tr th {\n",
       "        vertical-align: top;\n",
       "    }\n",
       "\n",
       "    .dataframe thead th {\n",
       "        text-align: right;\n",
       "    }\n",
       "</style>\n",
       "<table border=\"1\" class=\"dataframe\">\n",
       "  <thead>\n",
       "    <tr style=\"text-align: right;\">\n",
       "      <th></th>\n",
       "      <th>Nominal Home Price Index</th>\n",
       "      <th>Normal Date</th>\n",
       "    </tr>\n",
       "  </thead>\n",
       "  <tbody>\n",
       "    <tr>\n",
       "      <th>0</th>\n",
       "      <td>11.211582</td>\n",
       "      <td>1948-01-01 00:00:00</td>\n",
       "    </tr>\n",
       "    <tr>\n",
       "      <th>1</th>\n",
       "      <td>11.211582</td>\n",
       "      <td>1948-02-01 00:00:00</td>\n",
       "    </tr>\n",
       "    <tr>\n",
       "      <th>2</th>\n",
       "      <td>11.211582</td>\n",
       "      <td>1948-03-01 00:00:00</td>\n",
       "    </tr>\n",
       "    <tr>\n",
       "      <th>3</th>\n",
       "      <td>11.211582</td>\n",
       "      <td>1948-04-01 00:00:00</td>\n",
       "    </tr>\n",
       "    <tr>\n",
       "      <th>4</th>\n",
       "      <td>11.211582</td>\n",
       "      <td>1948-05-01 00:00:00</td>\n",
       "    </tr>\n",
       "  </tbody>\n",
       "</table>\n",
       "</div>"
      ],
      "text/plain": [
       "   Nominal Home Price Index          Normal Date\n",
       "0                 11.211582  1948-01-01 00:00:00\n",
       "1                 11.211582  1948-02-01 00:00:00\n",
       "2                 11.211582  1948-03-01 00:00:00\n",
       "3                 11.211582  1948-04-01 00:00:00\n",
       "4                 11.211582  1948-05-01 00:00:00"
      ]
     },
     "execution_count": 90,
     "metadata": {},
     "output_type": "execute_result"
    },
    {
     "data": {
      "text/html": [
       "<div>\n",
       "<style scoped>\n",
       "    .dataframe tbody tr th:only-of-type {\n",
       "        vertical-align: middle;\n",
       "    }\n",
       "\n",
       "    .dataframe tbody tr th {\n",
       "        vertical-align: top;\n",
       "    }\n",
       "\n",
       "    .dataframe thead th {\n",
       "        text-align: right;\n",
       "    }\n",
       "</style>\n",
       "<table border=\"1\" class=\"dataframe\">\n",
       "  <thead>\n",
       "    <tr style=\"text-align: right;\">\n",
       "      <th></th>\n",
       "      <th>Nominal Home Price Index</th>\n",
       "      <th>Normal Date</th>\n",
       "    </tr>\n",
       "  </thead>\n",
       "  <tbody>\n",
       "    <tr>\n",
       "      <th>910</th>\n",
       "      <td>284.883943</td>\n",
       "      <td>2023-11-01</td>\n",
       "    </tr>\n",
       "    <tr>\n",
       "      <th>911</th>\n",
       "      <td>284.286992</td>\n",
       "      <td>2023-12-01</td>\n",
       "    </tr>\n",
       "    <tr>\n",
       "      <th>912</th>\n",
       "      <td>285.435748</td>\n",
       "      <td>2024-01-01</td>\n",
       "    </tr>\n",
       "    <tr>\n",
       "      <th>913</th>\n",
       "      <td>288.509960</td>\n",
       "      <td>2024-02-01</td>\n",
       "    </tr>\n",
       "    <tr>\n",
       "      <th>914</th>\n",
       "      <td>292.317552</td>\n",
       "      <td>2024-03-01</td>\n",
       "    </tr>\n",
       "  </tbody>\n",
       "</table>\n",
       "</div>"
      ],
      "text/plain": [
       "     Nominal Home Price Index Normal Date\n",
       "910                284.883943  2023-11-01\n",
       "911                284.286992  2023-12-01\n",
       "912                285.435748  2024-01-01\n",
       "913                288.509960  2024-02-01\n",
       "914                292.317552  2024-03-01"
      ]
     },
     "execution_count": 90,
     "metadata": {},
     "output_type": "execute_result"
    }
   ],
   "source": [
    "df_hpi_combine.shape\n",
    "df_hpi_combine.head()\n",
    "df_hpi_combine.tail()"
   ]
  },
  {
   "cell_type": "markdown",
   "id": "4ec78324-861b-447b-a6ff-c6cbec61d418",
   "metadata": {},
   "source": [
    "### Credit data 1: Consumer loans"
   ]
  },
  {
   "cell_type": "markdown",
   "id": "f38960f6-a9e0-4779-87c6-94e7aadecce8",
   "metadata": {},
   "source": [
    "Number of consumer loans, not SA"
   ]
  },
  {
   "cell_type": "code",
   "execution_count": 91,
   "id": "4ad8721c-b7a4-4a4a-b518-4a97a672a8b8",
   "metadata": {
    "tags": []
   },
   "outputs": [
    {
     "data": {
      "text/html": [
       "<div>\n",
       "<style scoped>\n",
       "    .dataframe tbody tr th:only-of-type {\n",
       "        vertical-align: middle;\n",
       "    }\n",
       "\n",
       "    .dataframe tbody tr th {\n",
       "        vertical-align: top;\n",
       "    }\n",
       "\n",
       "    .dataframe thead th {\n",
       "        text-align: right;\n",
       "    }\n",
       "</style>\n",
       "<table border=\"1\" class=\"dataframe\">\n",
       "  <thead>\n",
       "    <tr style=\"text-align: right;\">\n",
       "      <th></th>\n",
       "      <th>DATE</th>\n",
       "      <th>CONSUMER</th>\n",
       "    </tr>\n",
       "  </thead>\n",
       "  <tbody>\n",
       "    <tr>\n",
       "      <th>0</th>\n",
       "      <td>1947-01-01</td>\n",
       "      <td>4.1612</td>\n",
       "    </tr>\n",
       "    <tr>\n",
       "      <th>1</th>\n",
       "      <td>1947-02-01</td>\n",
       "      <td>4.2966</td>\n",
       "    </tr>\n",
       "    <tr>\n",
       "      <th>2</th>\n",
       "      <td>1947-03-01</td>\n",
       "      <td>4.4306</td>\n",
       "    </tr>\n",
       "    <tr>\n",
       "      <th>3</th>\n",
       "      <td>1947-04-01</td>\n",
       "      <td>4.5687</td>\n",
       "    </tr>\n",
       "    <tr>\n",
       "      <th>4</th>\n",
       "      <td>1947-05-01</td>\n",
       "      <td>4.7087</td>\n",
       "    </tr>\n",
       "  </tbody>\n",
       "</table>\n",
       "</div>"
      ],
      "text/plain": [
       "         DATE  CONSUMER\n",
       "0  1947-01-01    4.1612\n",
       "1  1947-02-01    4.2966\n",
       "2  1947-03-01    4.4306\n",
       "3  1947-04-01    4.5687\n",
       "4  1947-05-01    4.7087"
      ]
     },
     "execution_count": 91,
     "metadata": {},
     "output_type": "execute_result"
    },
    {
     "data": {
      "text/html": [
       "<div>\n",
       "<style scoped>\n",
       "    .dataframe tbody tr th:only-of-type {\n",
       "        vertical-align: middle;\n",
       "    }\n",
       "\n",
       "    .dataframe tbody tr th {\n",
       "        vertical-align: top;\n",
       "    }\n",
       "\n",
       "    .dataframe thead th {\n",
       "        text-align: right;\n",
       "    }\n",
       "</style>\n",
       "<table border=\"1\" class=\"dataframe\">\n",
       "  <thead>\n",
       "    <tr style=\"text-align: right;\">\n",
       "      <th></th>\n",
       "      <th>DATE</th>\n",
       "      <th>CONSUMER</th>\n",
       "    </tr>\n",
       "  </thead>\n",
       "  <tbody>\n",
       "    <tr>\n",
       "      <th>925</th>\n",
       "      <td>2024-02-01</td>\n",
       "      <td>1907.4073</td>\n",
       "    </tr>\n",
       "    <tr>\n",
       "      <th>926</th>\n",
       "      <td>2024-03-01</td>\n",
       "      <td>1914.5808</td>\n",
       "    </tr>\n",
       "    <tr>\n",
       "      <th>927</th>\n",
       "      <td>2024-04-01</td>\n",
       "      <td>1912.1212</td>\n",
       "    </tr>\n",
       "    <tr>\n",
       "      <th>928</th>\n",
       "      <td>2024-05-01</td>\n",
       "      <td>1914.6744</td>\n",
       "    </tr>\n",
       "    <tr>\n",
       "      <th>929</th>\n",
       "      <td>2024-06-01</td>\n",
       "      <td>1913.9266</td>\n",
       "    </tr>\n",
       "  </tbody>\n",
       "</table>\n",
       "</div>"
      ],
      "text/plain": [
       "           DATE   CONSUMER\n",
       "925  2024-02-01  1907.4073\n",
       "926  2024-03-01  1914.5808\n",
       "927  2024-04-01  1912.1212\n",
       "928  2024-05-01  1914.6744\n",
       "929  2024-06-01  1913.9266"
      ]
     },
     "execution_count": 91,
     "metadata": {},
     "output_type": "execute_result"
    }
   ],
   "source": [
    "df_cloans = pd.read_csv('CONSUMER.csv')\n",
    "df_cloans.head()\n",
    "df_cloans.tail()"
   ]
  },
  {
   "cell_type": "code",
   "execution_count": 92,
   "id": "29f7db8b-f96b-4682-8771-3899fee88a68",
   "metadata": {
    "tags": []
   },
   "outputs": [],
   "source": [
    "df_cloans = df_cloans.iloc[12:927]\n",
    "df_cloans.reset_index(drop=True, inplace=True)"
   ]
  },
  {
   "cell_type": "markdown",
   "id": "af385e3e-a992-4d9e-9d1d-c2b0be50880e",
   "metadata": {},
   "source": [
    "### Credit data 2: Real estates loans"
   ]
  },
  {
   "cell_type": "markdown",
   "id": "4e5edc1b-4344-4d41-9083-ddcd65c85da6",
   "metadata": {},
   "source": [
    "Number of mortgage loans"
   ]
  },
  {
   "cell_type": "code",
   "execution_count": 93,
   "id": "4f5057d6-4070-4563-b228-adbd24be8531",
   "metadata": {
    "tags": []
   },
   "outputs": [
    {
     "data": {
      "text/html": [
       "<div>\n",
       "<style scoped>\n",
       "    .dataframe tbody tr th:only-of-type {\n",
       "        vertical-align: middle;\n",
       "    }\n",
       "\n",
       "    .dataframe tbody tr th {\n",
       "        vertical-align: top;\n",
       "    }\n",
       "\n",
       "    .dataframe thead th {\n",
       "        text-align: right;\n",
       "    }\n",
       "</style>\n",
       "<table border=\"1\" class=\"dataframe\">\n",
       "  <thead>\n",
       "    <tr style=\"text-align: right;\">\n",
       "      <th></th>\n",
       "      <th>DATE</th>\n",
       "      <th>REALLN</th>\n",
       "    </tr>\n",
       "  </thead>\n",
       "  <tbody>\n",
       "    <tr>\n",
       "      <th>0</th>\n",
       "      <td>1947-01-01</td>\n",
       "      <td>6.7960</td>\n",
       "    </tr>\n",
       "    <tr>\n",
       "      <th>1</th>\n",
       "      <td>1947-02-01</td>\n",
       "      <td>6.9551</td>\n",
       "    </tr>\n",
       "    <tr>\n",
       "      <th>2</th>\n",
       "      <td>1947-03-01</td>\n",
       "      <td>7.1249</td>\n",
       "    </tr>\n",
       "    <tr>\n",
       "      <th>3</th>\n",
       "      <td>1947-04-01</td>\n",
       "      <td>7.2966</td>\n",
       "    </tr>\n",
       "    <tr>\n",
       "      <th>4</th>\n",
       "      <td>1947-05-01</td>\n",
       "      <td>7.4699</td>\n",
       "    </tr>\n",
       "  </tbody>\n",
       "</table>\n",
       "</div>"
      ],
      "text/plain": [
       "         DATE  REALLN\n",
       "0  1947-01-01  6.7960\n",
       "1  1947-02-01  6.9551\n",
       "2  1947-03-01  7.1249\n",
       "3  1947-04-01  7.2966\n",
       "4  1947-05-01  7.4699"
      ]
     },
     "execution_count": 93,
     "metadata": {},
     "output_type": "execute_result"
    },
    {
     "data": {
      "text/html": [
       "<div>\n",
       "<style scoped>\n",
       "    .dataframe tbody tr th:only-of-type {\n",
       "        vertical-align: middle;\n",
       "    }\n",
       "\n",
       "    .dataframe tbody tr th {\n",
       "        vertical-align: top;\n",
       "    }\n",
       "\n",
       "    .dataframe thead th {\n",
       "        text-align: right;\n",
       "    }\n",
       "</style>\n",
       "<table border=\"1\" class=\"dataframe\">\n",
       "  <thead>\n",
       "    <tr style=\"text-align: right;\">\n",
       "      <th></th>\n",
       "      <th>DATE</th>\n",
       "      <th>REALLN</th>\n",
       "    </tr>\n",
       "  </thead>\n",
       "  <tbody>\n",
       "    <tr>\n",
       "      <th>925</th>\n",
       "      <td>2024-02-01</td>\n",
       "      <td>5567.0833</td>\n",
       "    </tr>\n",
       "    <tr>\n",
       "      <th>926</th>\n",
       "      <td>2024-03-01</td>\n",
       "      <td>5585.3950</td>\n",
       "    </tr>\n",
       "    <tr>\n",
       "      <th>927</th>\n",
       "      <td>2024-04-01</td>\n",
       "      <td>5597.4799</td>\n",
       "    </tr>\n",
       "    <tr>\n",
       "      <th>928</th>\n",
       "      <td>2024-05-01</td>\n",
       "      <td>5598.1468</td>\n",
       "    </tr>\n",
       "    <tr>\n",
       "      <th>929</th>\n",
       "      <td>2024-06-01</td>\n",
       "      <td>5593.3485</td>\n",
       "    </tr>\n",
       "  </tbody>\n",
       "</table>\n",
       "</div>"
      ],
      "text/plain": [
       "           DATE     REALLN\n",
       "925  2024-02-01  5567.0833\n",
       "926  2024-03-01  5585.3950\n",
       "927  2024-04-01  5597.4799\n",
       "928  2024-05-01  5598.1468\n",
       "929  2024-06-01  5593.3485"
      ]
     },
     "execution_count": 93,
     "metadata": {},
     "output_type": "execute_result"
    }
   ],
   "source": [
    "df_reloans = pd.read_csv('REALLN.csv')\n",
    "df_reloans.head()\n",
    "df_reloans.tail()"
   ]
  },
  {
   "cell_type": "code",
   "execution_count": 94,
   "id": "f30dca3d-25ac-4232-b33b-848795d25f3d",
   "metadata": {
    "tags": []
   },
   "outputs": [],
   "source": [
    "df_reloans = df_reloans.iloc[12:927]\n",
    "df_reloans.reset_index(drop=True, inplace=True)"
   ]
  },
  {
   "cell_type": "code",
   "execution_count": 95,
   "id": "dbd12f51-45f1-4611-8c58-27912129477f",
   "metadata": {
    "tags": []
   },
   "outputs": [
    {
     "data": {
      "text/plain": [
       "(915, 2)"
      ]
     },
     "execution_count": 95,
     "metadata": {},
     "output_type": "execute_result"
    }
   ],
   "source": [
    "df_reloans.shape"
   ]
  },
  {
   "cell_type": "markdown",
   "id": "d069ffc8-2492-49ce-a752-3891a686da4a",
   "metadata": {
    "tags": []
   },
   "source": [
    "### Consumer price index data"
   ]
  },
  {
   "cell_type": "markdown",
   "id": "1b72930c-d69c-49c9-9530-4a3545eab62c",
   "metadata": {},
   "source": [
    "Consumer Price Index for All Urban Consumers: All Items in U.S. City Average "
   ]
  },
  {
   "cell_type": "code",
   "execution_count": 96,
   "id": "92ec4aea-e2fb-46a6-bb79-e7cca8950cdb",
   "metadata": {
    "tags": []
   },
   "outputs": [
    {
     "data": {
      "text/html": [
       "<div>\n",
       "<style scoped>\n",
       "    .dataframe tbody tr th:only-of-type {\n",
       "        vertical-align: middle;\n",
       "    }\n",
       "\n",
       "    .dataframe tbody tr th {\n",
       "        vertical-align: top;\n",
       "    }\n",
       "\n",
       "    .dataframe thead th {\n",
       "        text-align: right;\n",
       "    }\n",
       "</style>\n",
       "<table border=\"1\" class=\"dataframe\">\n",
       "  <thead>\n",
       "    <tr style=\"text-align: right;\">\n",
       "      <th></th>\n",
       "      <th>Year</th>\n",
       "      <th>Jan</th>\n",
       "      <th>Feb</th>\n",
       "      <th>Mar</th>\n",
       "      <th>Apr</th>\n",
       "      <th>May</th>\n",
       "      <th>Jun</th>\n",
       "      <th>Jul</th>\n",
       "      <th>Aug</th>\n",
       "      <th>Sep</th>\n",
       "      <th>Oct</th>\n",
       "      <th>Nov</th>\n",
       "      <th>Dec</th>\n",
       "    </tr>\n",
       "  </thead>\n",
       "  <tbody>\n",
       "    <tr>\n",
       "      <th>0</th>\n",
       "      <td>1913</td>\n",
       "      <td>9.8</td>\n",
       "      <td>9.8</td>\n",
       "      <td>9.8</td>\n",
       "      <td>9.8</td>\n",
       "      <td>9.7</td>\n",
       "      <td>9.8</td>\n",
       "      <td>9.9</td>\n",
       "      <td>9.9</td>\n",
       "      <td>10.0</td>\n",
       "      <td>10.0</td>\n",
       "      <td>10.1</td>\n",
       "      <td>10.0</td>\n",
       "    </tr>\n",
       "    <tr>\n",
       "      <th>1</th>\n",
       "      <td>1914</td>\n",
       "      <td>10.0</td>\n",
       "      <td>9.9</td>\n",
       "      <td>9.9</td>\n",
       "      <td>9.8</td>\n",
       "      <td>9.9</td>\n",
       "      <td>9.9</td>\n",
       "      <td>10.0</td>\n",
       "      <td>10.2</td>\n",
       "      <td>10.2</td>\n",
       "      <td>10.1</td>\n",
       "      <td>10.2</td>\n",
       "      <td>10.1</td>\n",
       "    </tr>\n",
       "    <tr>\n",
       "      <th>2</th>\n",
       "      <td>1915</td>\n",
       "      <td>10.1</td>\n",
       "      <td>10.0</td>\n",
       "      <td>9.9</td>\n",
       "      <td>10.0</td>\n",
       "      <td>10.1</td>\n",
       "      <td>10.1</td>\n",
       "      <td>10.1</td>\n",
       "      <td>10.1</td>\n",
       "      <td>10.1</td>\n",
       "      <td>10.2</td>\n",
       "      <td>10.3</td>\n",
       "      <td>10.3</td>\n",
       "    </tr>\n",
       "    <tr>\n",
       "      <th>3</th>\n",
       "      <td>1916</td>\n",
       "      <td>10.4</td>\n",
       "      <td>10.4</td>\n",
       "      <td>10.5</td>\n",
       "      <td>10.6</td>\n",
       "      <td>10.7</td>\n",
       "      <td>10.8</td>\n",
       "      <td>10.8</td>\n",
       "      <td>10.9</td>\n",
       "      <td>11.1</td>\n",
       "      <td>11.3</td>\n",
       "      <td>11.5</td>\n",
       "      <td>11.6</td>\n",
       "    </tr>\n",
       "    <tr>\n",
       "      <th>4</th>\n",
       "      <td>1917</td>\n",
       "      <td>11.7</td>\n",
       "      <td>12.0</td>\n",
       "      <td>12.0</td>\n",
       "      <td>12.6</td>\n",
       "      <td>12.8</td>\n",
       "      <td>13.0</td>\n",
       "      <td>12.8</td>\n",
       "      <td>13.0</td>\n",
       "      <td>13.3</td>\n",
       "      <td>13.5</td>\n",
       "      <td>13.5</td>\n",
       "      <td>13.7</td>\n",
       "    </tr>\n",
       "  </tbody>\n",
       "</table>\n",
       "</div>"
      ],
      "text/plain": [
       "   Year   Jan   Feb   Mar   Apr   May   Jun   Jul   Aug   Sep   Oct   Nov  \\\n",
       "0  1913   9.8   9.8   9.8   9.8   9.7   9.8   9.9   9.9  10.0  10.0  10.1   \n",
       "1  1914  10.0   9.9   9.9   9.8   9.9   9.9  10.0  10.2  10.2  10.1  10.2   \n",
       "2  1915  10.1  10.0   9.9  10.0  10.1  10.1  10.1  10.1  10.1  10.2  10.3   \n",
       "3  1916  10.4  10.4  10.5  10.6  10.7  10.8  10.8  10.9  11.1  11.3  11.5   \n",
       "4  1917  11.7  12.0  12.0  12.6  12.8  13.0  12.8  13.0  13.3  13.5  13.5   \n",
       "\n",
       "    Dec  \n",
       "0  10.0  \n",
       "1  10.1  \n",
       "2  10.3  \n",
       "3  11.6  \n",
       "4  13.7  "
      ]
     },
     "execution_count": 96,
     "metadata": {},
     "output_type": "execute_result"
    }
   ],
   "source": [
    "df_cpiu = pd.read_excel('Consumer_price_index.xlsx', sheet_name='Sheet2')\n",
    "df_cpiu.head()"
   ]
  },
  {
   "cell_type": "code",
   "execution_count": 97,
   "id": "a05370d3-3621-4b94-b652-345691823bbf",
   "metadata": {
    "tags": []
   },
   "outputs": [
    {
     "data": {
      "text/html": [
       "<div>\n",
       "<style scoped>\n",
       "    .dataframe tbody tr th:only-of-type {\n",
       "        vertical-align: middle;\n",
       "    }\n",
       "\n",
       "    .dataframe tbody tr th {\n",
       "        vertical-align: top;\n",
       "    }\n",
       "\n",
       "    .dataframe thead th {\n",
       "        text-align: right;\n",
       "    }\n",
       "</style>\n",
       "<table border=\"1\" class=\"dataframe\">\n",
       "  <thead>\n",
       "    <tr style=\"text-align: right;\">\n",
       "      <th></th>\n",
       "      <th>Year</th>\n",
       "      <th>Jan</th>\n",
       "      <th>Feb</th>\n",
       "      <th>Mar</th>\n",
       "      <th>Apr</th>\n",
       "      <th>May</th>\n",
       "      <th>Jun</th>\n",
       "      <th>Jul</th>\n",
       "      <th>Aug</th>\n",
       "      <th>Sep</th>\n",
       "      <th>Oct</th>\n",
       "      <th>Nov</th>\n",
       "      <th>Dec</th>\n",
       "    </tr>\n",
       "  </thead>\n",
       "  <tbody>\n",
       "    <tr>\n",
       "      <th>35</th>\n",
       "      <td>1948</td>\n",
       "      <td>23.7</td>\n",
       "      <td>23.5</td>\n",
       "      <td>23.4</td>\n",
       "      <td>23.8</td>\n",
       "      <td>23.9</td>\n",
       "      <td>24.1</td>\n",
       "      <td>24.4</td>\n",
       "      <td>24.5</td>\n",
       "      <td>24.5</td>\n",
       "      <td>24.4</td>\n",
       "      <td>24.2</td>\n",
       "      <td>24.1</td>\n",
       "    </tr>\n",
       "  </tbody>\n",
       "</table>\n",
       "</div>"
      ],
      "text/plain": [
       "    Year   Jan   Feb   Mar   Apr   May   Jun   Jul   Aug   Sep   Oct   Nov  \\\n",
       "35  1948  23.7  23.5  23.4  23.8  23.9  24.1  24.4  24.5  24.5  24.4  24.2   \n",
       "\n",
       "     Dec  \n",
       "35  24.1  "
      ]
     },
     "execution_count": 97,
     "metadata": {},
     "output_type": "execute_result"
    },
    {
     "data": {
      "text/html": [
       "<div>\n",
       "<style scoped>\n",
       "    .dataframe tbody tr th:only-of-type {\n",
       "        vertical-align: middle;\n",
       "    }\n",
       "\n",
       "    .dataframe tbody tr th {\n",
       "        vertical-align: top;\n",
       "    }\n",
       "\n",
       "    .dataframe thead th {\n",
       "        text-align: right;\n",
       "    }\n",
       "</style>\n",
       "<table border=\"1\" class=\"dataframe\">\n",
       "  <thead>\n",
       "    <tr style=\"text-align: right;\">\n",
       "      <th></th>\n",
       "      <th>Year</th>\n",
       "      <th>Jan</th>\n",
       "      <th>Feb</th>\n",
       "      <th>Mar</th>\n",
       "      <th>Apr</th>\n",
       "      <th>May</th>\n",
       "      <th>Jun</th>\n",
       "      <th>Jul</th>\n",
       "      <th>Aug</th>\n",
       "      <th>Sep</th>\n",
       "      <th>Oct</th>\n",
       "      <th>Nov</th>\n",
       "      <th>Dec</th>\n",
       "    </tr>\n",
       "  </thead>\n",
       "  <tbody>\n",
       "    <tr>\n",
       "      <th>35</th>\n",
       "      <td>1948</td>\n",
       "      <td>23.7</td>\n",
       "      <td>23.5</td>\n",
       "      <td>23.4</td>\n",
       "      <td>23.8</td>\n",
       "      <td>23.9</td>\n",
       "      <td>24.1</td>\n",
       "      <td>24.4</td>\n",
       "      <td>24.5</td>\n",
       "      <td>24.5</td>\n",
       "      <td>24.4</td>\n",
       "      <td>24.2</td>\n",
       "      <td>24.1</td>\n",
       "    </tr>\n",
       "    <tr>\n",
       "      <th>36</th>\n",
       "      <td>1949</td>\n",
       "      <td>24.0</td>\n",
       "      <td>23.8</td>\n",
       "      <td>23.8</td>\n",
       "      <td>23.9</td>\n",
       "      <td>23.8</td>\n",
       "      <td>23.9</td>\n",
       "      <td>23.7</td>\n",
       "      <td>23.8</td>\n",
       "      <td>23.9</td>\n",
       "      <td>23.7</td>\n",
       "      <td>23.8</td>\n",
       "      <td>23.6</td>\n",
       "    </tr>\n",
       "    <tr>\n",
       "      <th>37</th>\n",
       "      <td>1950</td>\n",
       "      <td>23.5</td>\n",
       "      <td>23.5</td>\n",
       "      <td>23.6</td>\n",
       "      <td>23.6</td>\n",
       "      <td>23.7</td>\n",
       "      <td>23.8</td>\n",
       "      <td>24.1</td>\n",
       "      <td>24.3</td>\n",
       "      <td>24.4</td>\n",
       "      <td>24.6</td>\n",
       "      <td>24.7</td>\n",
       "      <td>25.0</td>\n",
       "    </tr>\n",
       "    <tr>\n",
       "      <th>38</th>\n",
       "      <td>1951</td>\n",
       "      <td>25.4</td>\n",
       "      <td>25.7</td>\n",
       "      <td>25.8</td>\n",
       "      <td>25.8</td>\n",
       "      <td>25.9</td>\n",
       "      <td>25.9</td>\n",
       "      <td>25.9</td>\n",
       "      <td>25.9</td>\n",
       "      <td>26.1</td>\n",
       "      <td>26.2</td>\n",
       "      <td>26.4</td>\n",
       "      <td>26.5</td>\n",
       "    </tr>\n",
       "    <tr>\n",
       "      <th>39</th>\n",
       "      <td>1952</td>\n",
       "      <td>26.5</td>\n",
       "      <td>26.3</td>\n",
       "      <td>26.3</td>\n",
       "      <td>26.4</td>\n",
       "      <td>26.4</td>\n",
       "      <td>26.5</td>\n",
       "      <td>26.7</td>\n",
       "      <td>26.7</td>\n",
       "      <td>26.7</td>\n",
       "      <td>26.7</td>\n",
       "      <td>26.7</td>\n",
       "      <td>26.7</td>\n",
       "    </tr>\n",
       "  </tbody>\n",
       "</table>\n",
       "</div>"
      ],
      "text/plain": [
       "    Year   Jan   Feb   Mar   Apr   May   Jun   Jul   Aug   Sep   Oct   Nov  \\\n",
       "35  1948  23.7  23.5  23.4  23.8  23.9  24.1  24.4  24.5  24.5  24.4  24.2   \n",
       "36  1949  24.0  23.8  23.8  23.9  23.8  23.9  23.7  23.8  23.9  23.7  23.8   \n",
       "37  1950  23.5  23.5  23.6  23.6  23.7  23.8  24.1  24.3  24.4  24.6  24.7   \n",
       "38  1951  25.4  25.7  25.8  25.8  25.9  25.9  25.9  25.9  26.1  26.2  26.4   \n",
       "39  1952  26.5  26.3  26.3  26.4  26.4  26.5  26.7  26.7  26.7  26.7  26.7   \n",
       "\n",
       "     Dec  \n",
       "35  24.1  \n",
       "36  23.6  \n",
       "37  25.0  \n",
       "38  26.5  \n",
       "39  26.7  "
      ]
     },
     "execution_count": 97,
     "metadata": {},
     "output_type": "execute_result"
    }
   ],
   "source": [
    "df_cpiu[df_cpiu['Year']==1948]\n",
    "df_cpiu = df_cpiu.iloc[35:]\n",
    "df_cpiu.head()"
   ]
  },
  {
   "cell_type": "code",
   "execution_count": 98,
   "id": "b6fd742e-ccb1-4d0b-9ce9-ff5808f1f4e8",
   "metadata": {
    "tags": []
   },
   "outputs": [
    {
     "data": {
      "text/html": [
       "<div>\n",
       "<style scoped>\n",
       "    .dataframe tbody tr th:only-of-type {\n",
       "        vertical-align: middle;\n",
       "    }\n",
       "\n",
       "    .dataframe tbody tr th {\n",
       "        vertical-align: top;\n",
       "    }\n",
       "\n",
       "    .dataframe thead th {\n",
       "        text-align: right;\n",
       "    }\n",
       "</style>\n",
       "<table border=\"1\" class=\"dataframe\">\n",
       "  <thead>\n",
       "    <tr style=\"text-align: right;\">\n",
       "      <th></th>\n",
       "      <th>Year</th>\n",
       "      <th>Month</th>\n",
       "      <th>Inflation Index</th>\n",
       "    </tr>\n",
       "  </thead>\n",
       "  <tbody>\n",
       "    <tr>\n",
       "      <th>0</th>\n",
       "      <td>1948</td>\n",
       "      <td>Jan</td>\n",
       "      <td>23.7</td>\n",
       "    </tr>\n",
       "    <tr>\n",
       "      <th>1</th>\n",
       "      <td>1949</td>\n",
       "      <td>Jan</td>\n",
       "      <td>24.0</td>\n",
       "    </tr>\n",
       "    <tr>\n",
       "      <th>2</th>\n",
       "      <td>1950</td>\n",
       "      <td>Jan</td>\n",
       "      <td>23.5</td>\n",
       "    </tr>\n",
       "    <tr>\n",
       "      <th>3</th>\n",
       "      <td>1951</td>\n",
       "      <td>Jan</td>\n",
       "      <td>25.4</td>\n",
       "    </tr>\n",
       "    <tr>\n",
       "      <th>4</th>\n",
       "      <td>1952</td>\n",
       "      <td>Jan</td>\n",
       "      <td>26.5</td>\n",
       "    </tr>\n",
       "  </tbody>\n",
       "</table>\n",
       "</div>"
      ],
      "text/plain": [
       "   Year Month  Inflation Index\n",
       "0  1948   Jan             23.7\n",
       "1  1949   Jan             24.0\n",
       "2  1950   Jan             23.5\n",
       "3  1951   Jan             25.4\n",
       "4  1952   Jan             26.5"
      ]
     },
     "execution_count": 98,
     "metadata": {},
     "output_type": "execute_result"
    }
   ],
   "source": [
    "df_cpiu_2 = pd.melt(df_cpiu, id_vars='Year', var_name='Month', value_name='Inflation Index')\n",
    "df_cpiu_2.head()"
   ]
  },
  {
   "cell_type": "code",
   "execution_count": 99,
   "id": "a21769ca-c7e6-4a3d-ad87-748b11725286",
   "metadata": {
    "tags": []
   },
   "outputs": [],
   "source": [
    "df_cpiu_2['Date'] = df_cpiu_2['Year'].astype('str') + '-' + df_cpiu_2['Month'].astype('str') + \"-01\""
   ]
  },
  {
   "cell_type": "code",
   "execution_count": 100,
   "id": "59b9df93-a7a7-4723-b877-5fd7c28ba2b1",
   "metadata": {
    "tags": []
   },
   "outputs": [],
   "source": [
    "df_cpiu_2['Date'] = pd.to_datetime(df_cpiu_2['Date'])"
   ]
  },
  {
   "cell_type": "code",
   "execution_count": 101,
   "id": "154b5019-753b-4956-a7b9-1f0e5b660c64",
   "metadata": {
    "tags": []
   },
   "outputs": [],
   "source": [
    "df_cpiu_2.drop(columns=['Year', 'Month'], inplace=True)"
   ]
  },
  {
   "cell_type": "code",
   "execution_count": 102,
   "id": "0f871725-3a3a-452b-95b0-b38436b5d6c9",
   "metadata": {
    "tags": []
   },
   "outputs": [],
   "source": [
    "df_cpiu_2 = df_cpiu_2.sort_values('Date').reset_index(drop=True)"
   ]
  },
  {
   "cell_type": "code",
   "execution_count": 103,
   "id": "1bd5ba41-fd6e-4e21-8d5b-0d74b66effff",
   "metadata": {
    "tags": []
   },
   "outputs": [],
   "source": [
    "df_cpiu_2 = df_cpiu_2.iloc[:915]"
   ]
  },
  {
   "cell_type": "code",
   "execution_count": 104,
   "id": "5b8906a4-6c5e-49dd-bc86-db17c1938b81",
   "metadata": {
    "tags": []
   },
   "outputs": [
    {
     "data": {
      "text/plain": [
       "(915, 2)"
      ]
     },
     "execution_count": 104,
     "metadata": {},
     "output_type": "execute_result"
    },
    {
     "data": {
      "text/html": [
       "<div>\n",
       "<style scoped>\n",
       "    .dataframe tbody tr th:only-of-type {\n",
       "        vertical-align: middle;\n",
       "    }\n",
       "\n",
       "    .dataframe tbody tr th {\n",
       "        vertical-align: top;\n",
       "    }\n",
       "\n",
       "    .dataframe thead th {\n",
       "        text-align: right;\n",
       "    }\n",
       "</style>\n",
       "<table border=\"1\" class=\"dataframe\">\n",
       "  <thead>\n",
       "    <tr style=\"text-align: right;\">\n",
       "      <th></th>\n",
       "      <th>Inflation Index</th>\n",
       "      <th>Date</th>\n",
       "    </tr>\n",
       "  </thead>\n",
       "  <tbody>\n",
       "    <tr>\n",
       "      <th>0</th>\n",
       "      <td>23.7</td>\n",
       "      <td>1948-01-01</td>\n",
       "    </tr>\n",
       "    <tr>\n",
       "      <th>1</th>\n",
       "      <td>23.5</td>\n",
       "      <td>1948-02-01</td>\n",
       "    </tr>\n",
       "    <tr>\n",
       "      <th>2</th>\n",
       "      <td>23.4</td>\n",
       "      <td>1948-03-01</td>\n",
       "    </tr>\n",
       "    <tr>\n",
       "      <th>3</th>\n",
       "      <td>23.8</td>\n",
       "      <td>1948-04-01</td>\n",
       "    </tr>\n",
       "    <tr>\n",
       "      <th>4</th>\n",
       "      <td>23.9</td>\n",
       "      <td>1948-05-01</td>\n",
       "    </tr>\n",
       "  </tbody>\n",
       "</table>\n",
       "</div>"
      ],
      "text/plain": [
       "   Inflation Index       Date\n",
       "0             23.7 1948-01-01\n",
       "1             23.5 1948-02-01\n",
       "2             23.4 1948-03-01\n",
       "3             23.8 1948-04-01\n",
       "4             23.9 1948-05-01"
      ]
     },
     "execution_count": 104,
     "metadata": {},
     "output_type": "execute_result"
    },
    {
     "data": {
      "text/html": [
       "<div>\n",
       "<style scoped>\n",
       "    .dataframe tbody tr th:only-of-type {\n",
       "        vertical-align: middle;\n",
       "    }\n",
       "\n",
       "    .dataframe tbody tr th {\n",
       "        vertical-align: top;\n",
       "    }\n",
       "\n",
       "    .dataframe thead th {\n",
       "        text-align: right;\n",
       "    }\n",
       "</style>\n",
       "<table border=\"1\" class=\"dataframe\">\n",
       "  <thead>\n",
       "    <tr style=\"text-align: right;\">\n",
       "      <th></th>\n",
       "      <th>Inflation Index</th>\n",
       "      <th>Date</th>\n",
       "    </tr>\n",
       "  </thead>\n",
       "  <tbody>\n",
       "    <tr>\n",
       "      <th>910</th>\n",
       "      <td>307.051</td>\n",
       "      <td>2023-11-01</td>\n",
       "    </tr>\n",
       "    <tr>\n",
       "      <th>911</th>\n",
       "      <td>306.746</td>\n",
       "      <td>2023-12-01</td>\n",
       "    </tr>\n",
       "    <tr>\n",
       "      <th>912</th>\n",
       "      <td>308.417</td>\n",
       "      <td>2024-01-01</td>\n",
       "    </tr>\n",
       "    <tr>\n",
       "      <th>913</th>\n",
       "      <td>310.326</td>\n",
       "      <td>2024-02-01</td>\n",
       "    </tr>\n",
       "    <tr>\n",
       "      <th>914</th>\n",
       "      <td>312.332</td>\n",
       "      <td>2024-03-01</td>\n",
       "    </tr>\n",
       "  </tbody>\n",
       "</table>\n",
       "</div>"
      ],
      "text/plain": [
       "     Inflation Index       Date\n",
       "910          307.051 2023-11-01\n",
       "911          306.746 2023-12-01\n",
       "912          308.417 2024-01-01\n",
       "913          310.326 2024-02-01\n",
       "914          312.332 2024-03-01"
      ]
     },
     "execution_count": 104,
     "metadata": {},
     "output_type": "execute_result"
    }
   ],
   "source": [
    "df_cpiu_2.shape\n",
    "df_cpiu_2.head()\n",
    "df_cpiu_2.tail()"
   ]
  },
  {
   "cell_type": "markdown",
   "id": "7b39f642-6c6e-4b2f-a4a7-a598672637bf",
   "metadata": {},
   "source": [
    "### Inflation rates"
   ]
  },
  {
   "cell_type": "code",
   "execution_count": 105,
   "id": "65c52615-330c-403d-a478-1b6125d2df0f",
   "metadata": {
    "tags": []
   },
   "outputs": [
    {
     "data": {
      "text/html": [
       "<div>\n",
       "<style scoped>\n",
       "    .dataframe tbody tr th:only-of-type {\n",
       "        vertical-align: middle;\n",
       "    }\n",
       "\n",
       "    .dataframe tbody tr th {\n",
       "        vertical-align: top;\n",
       "    }\n",
       "\n",
       "    .dataframe thead th {\n",
       "        text-align: right;\n",
       "    }\n",
       "</style>\n",
       "<table border=\"1\" class=\"dataframe\">\n",
       "  <thead>\n",
       "    <tr style=\"text-align: right;\">\n",
       "      <th></th>\n",
       "      <th>Year</th>\n",
       "      <th>Jan</th>\n",
       "      <th>Feb</th>\n",
       "      <th>Mar</th>\n",
       "      <th>Apr</th>\n",
       "      <th>May</th>\n",
       "      <th>Jun</th>\n",
       "      <th>Jul</th>\n",
       "      <th>Aug</th>\n",
       "      <th>Sep</th>\n",
       "      <th>Oct</th>\n",
       "      <th>Nov</th>\n",
       "      <th>Dec</th>\n",
       "      <th>Annual</th>\n",
       "    </tr>\n",
       "  </thead>\n",
       "  <tbody>\n",
       "    <tr>\n",
       "      <th>0</th>\n",
       "      <td>2024</td>\n",
       "      <td>0.03091</td>\n",
       "      <td>0.03153</td>\n",
       "      <td>0.03477</td>\n",
       "      <td>0.03357</td>\n",
       "      <td>0.03269</td>\n",
       "      <td>0.02971</td>\n",
       "      <td>NaN</td>\n",
       "      <td>NaN</td>\n",
       "      <td>NaN</td>\n",
       "      <td>NaN</td>\n",
       "      <td>NaN</td>\n",
       "      <td>NaN</td>\n",
       "      <td>NaN</td>\n",
       "    </tr>\n",
       "    <tr>\n",
       "      <th>1</th>\n",
       "      <td>2023</td>\n",
       "      <td>0.06410</td>\n",
       "      <td>0.06036</td>\n",
       "      <td>0.04985</td>\n",
       "      <td>0.04930</td>\n",
       "      <td>0.04048</td>\n",
       "      <td>0.02969</td>\n",
       "      <td>0.03178</td>\n",
       "      <td>0.03665</td>\n",
       "      <td>0.03700</td>\n",
       "      <td>0.03241</td>\n",
       "      <td>0.03137</td>\n",
       "      <td>0.03352</td>\n",
       "      <td>0.04116</td>\n",
       "    </tr>\n",
       "    <tr>\n",
       "      <th>2</th>\n",
       "      <td>2022</td>\n",
       "      <td>0.07480</td>\n",
       "      <td>0.07871</td>\n",
       "      <td>0.08542</td>\n",
       "      <td>0.08259</td>\n",
       "      <td>0.08582</td>\n",
       "      <td>0.09060</td>\n",
       "      <td>0.08525</td>\n",
       "      <td>0.08263</td>\n",
       "      <td>0.08202</td>\n",
       "      <td>0.07745</td>\n",
       "      <td>0.07110</td>\n",
       "      <td>0.06454</td>\n",
       "      <td>0.08003</td>\n",
       "    </tr>\n",
       "    <tr>\n",
       "      <th>3</th>\n",
       "      <td>2021</td>\n",
       "      <td>0.01400</td>\n",
       "      <td>0.01676</td>\n",
       "      <td>0.02620</td>\n",
       "      <td>0.04160</td>\n",
       "      <td>0.04993</td>\n",
       "      <td>0.05391</td>\n",
       "      <td>0.05365</td>\n",
       "      <td>0.05251</td>\n",
       "      <td>0.05390</td>\n",
       "      <td>0.06222</td>\n",
       "      <td>0.06809</td>\n",
       "      <td>0.07036</td>\n",
       "      <td>0.04698</td>\n",
       "    </tr>\n",
       "    <tr>\n",
       "      <th>4</th>\n",
       "      <td>2020</td>\n",
       "      <td>0.02487</td>\n",
       "      <td>0.02335</td>\n",
       "      <td>0.01539</td>\n",
       "      <td>0.00329</td>\n",
       "      <td>0.00118</td>\n",
       "      <td>0.00646</td>\n",
       "      <td>0.00986</td>\n",
       "      <td>0.01310</td>\n",
       "      <td>0.01371</td>\n",
       "      <td>0.01182</td>\n",
       "      <td>0.01175</td>\n",
       "      <td>0.01362</td>\n",
       "      <td>0.01234</td>\n",
       "    </tr>\n",
       "  </tbody>\n",
       "</table>\n",
       "</div>"
      ],
      "text/plain": [
       "   Year      Jan      Feb      Mar      Apr      May      Jun      Jul  \\\n",
       "0  2024  0.03091  0.03153  0.03477  0.03357  0.03269  0.02971      NaN   \n",
       "1  2023  0.06410  0.06036  0.04985  0.04930  0.04048  0.02969  0.03178   \n",
       "2  2022  0.07480  0.07871  0.08542  0.08259  0.08582  0.09060  0.08525   \n",
       "3  2021  0.01400  0.01676  0.02620  0.04160  0.04993  0.05391  0.05365   \n",
       "4  2020  0.02487  0.02335  0.01539  0.00329  0.00118  0.00646  0.00986   \n",
       "\n",
       "       Aug      Sep      Oct      Nov      Dec   Annual  \n",
       "0      NaN      NaN      NaN      NaN      NaN      NaN  \n",
       "1  0.03665  0.03700  0.03241  0.03137  0.03352  0.04116  \n",
       "2  0.08263  0.08202  0.07745  0.07110  0.06454  0.08003  \n",
       "3  0.05251  0.05390  0.06222  0.06809  0.07036  0.04698  \n",
       "4  0.01310  0.01371  0.01182  0.01175  0.01362  0.01234  "
      ]
     },
     "execution_count": 105,
     "metadata": {},
     "output_type": "execute_result"
    }
   ],
   "source": [
    "df_inf = pd.read_excel('Inflation_rates.xlsx')\n",
    "df_inf.head()"
   ]
  },
  {
   "cell_type": "code",
   "execution_count": 106,
   "id": "41e7b1a5-6a26-4510-9c8d-cc874f9b1184",
   "metadata": {
    "tags": []
   },
   "outputs": [],
   "source": [
    "df_inf.drop(columns='Annual', inplace=True)"
   ]
  },
  {
   "cell_type": "code",
   "execution_count": 107,
   "id": "47028441-08cb-4b6e-a1b8-dd645978b86c",
   "metadata": {
    "tags": []
   },
   "outputs": [
    {
     "data": {
      "text/html": [
       "<div>\n",
       "<style scoped>\n",
       "    .dataframe tbody tr th:only-of-type {\n",
       "        vertical-align: middle;\n",
       "    }\n",
       "\n",
       "    .dataframe tbody tr th {\n",
       "        vertical-align: top;\n",
       "    }\n",
       "\n",
       "    .dataframe thead th {\n",
       "        text-align: right;\n",
       "    }\n",
       "</style>\n",
       "<table border=\"1\" class=\"dataframe\">\n",
       "  <thead>\n",
       "    <tr style=\"text-align: right;\">\n",
       "      <th></th>\n",
       "      <th>Year</th>\n",
       "      <th>Jan</th>\n",
       "      <th>Feb</th>\n",
       "      <th>Mar</th>\n",
       "      <th>Apr</th>\n",
       "      <th>May</th>\n",
       "      <th>Jun</th>\n",
       "      <th>Jul</th>\n",
       "      <th>Aug</th>\n",
       "      <th>Sep</th>\n",
       "      <th>Oct</th>\n",
       "      <th>Nov</th>\n",
       "      <th>Dec</th>\n",
       "    </tr>\n",
       "  </thead>\n",
       "  <tbody>\n",
       "    <tr>\n",
       "      <th>76</th>\n",
       "      <td>1948</td>\n",
       "      <td>0.10233</td>\n",
       "      <td>0.09302</td>\n",
       "      <td>0.06849</td>\n",
       "      <td>0.08676</td>\n",
       "      <td>0.09132</td>\n",
       "      <td>0.09545</td>\n",
       "      <td>0.0991</td>\n",
       "      <td>0.08889</td>\n",
       "      <td>0.06522</td>\n",
       "      <td>0.06087</td>\n",
       "      <td>0.04762</td>\n",
       "      <td>0.02991</td>\n",
       "    </tr>\n",
       "  </tbody>\n",
       "</table>\n",
       "</div>"
      ],
      "text/plain": [
       "    Year      Jan      Feb      Mar      Apr      May      Jun     Jul  \\\n",
       "76  1948  0.10233  0.09302  0.06849  0.08676  0.09132  0.09545  0.0991   \n",
       "\n",
       "        Aug      Sep      Oct      Nov      Dec  \n",
       "76  0.08889  0.06522  0.06087  0.04762  0.02991  "
      ]
     },
     "execution_count": 107,
     "metadata": {},
     "output_type": "execute_result"
    },
    {
     "data": {
      "text/html": [
       "<div>\n",
       "<style scoped>\n",
       "    .dataframe tbody tr th:only-of-type {\n",
       "        vertical-align: middle;\n",
       "    }\n",
       "\n",
       "    .dataframe tbody tr th {\n",
       "        vertical-align: top;\n",
       "    }\n",
       "\n",
       "    .dataframe thead th {\n",
       "        text-align: right;\n",
       "    }\n",
       "</style>\n",
       "<table border=\"1\" class=\"dataframe\">\n",
       "  <thead>\n",
       "    <tr style=\"text-align: right;\">\n",
       "      <th></th>\n",
       "      <th>Year</th>\n",
       "      <th>Jan</th>\n",
       "      <th>Feb</th>\n",
       "      <th>Mar</th>\n",
       "      <th>Apr</th>\n",
       "      <th>May</th>\n",
       "      <th>Jun</th>\n",
       "      <th>Jul</th>\n",
       "      <th>Aug</th>\n",
       "      <th>Sep</th>\n",
       "      <th>Oct</th>\n",
       "      <th>Nov</th>\n",
       "      <th>Dec</th>\n",
       "    </tr>\n",
       "  </thead>\n",
       "  <tbody>\n",
       "    <tr>\n",
       "      <th>72</th>\n",
       "      <td>1952</td>\n",
       "      <td>0.04331</td>\n",
       "      <td>0.02335</td>\n",
       "      <td>0.01938</td>\n",
       "      <td>0.02326</td>\n",
       "      <td>0.01931</td>\n",
       "      <td>0.02317</td>\n",
       "      <td>0.03089</td>\n",
       "      <td>0.03089</td>\n",
       "      <td>0.02299</td>\n",
       "      <td>0.01908</td>\n",
       "      <td>0.01136</td>\n",
       "      <td>0.00755</td>\n",
       "    </tr>\n",
       "    <tr>\n",
       "      <th>73</th>\n",
       "      <td>1951</td>\n",
       "      <td>0.08085</td>\n",
       "      <td>0.09362</td>\n",
       "      <td>0.09322</td>\n",
       "      <td>0.09322</td>\n",
       "      <td>0.09283</td>\n",
       "      <td>0.08824</td>\n",
       "      <td>0.07469</td>\n",
       "      <td>0.06584</td>\n",
       "      <td>0.06967</td>\n",
       "      <td>0.06504</td>\n",
       "      <td>0.06883</td>\n",
       "      <td>0.06000</td>\n",
       "    </tr>\n",
       "    <tr>\n",
       "      <th>74</th>\n",
       "      <td>1950</td>\n",
       "      <td>-0.02083</td>\n",
       "      <td>-0.01261</td>\n",
       "      <td>-0.00840</td>\n",
       "      <td>-0.01255</td>\n",
       "      <td>-0.00420</td>\n",
       "      <td>-0.00418</td>\n",
       "      <td>0.01688</td>\n",
       "      <td>0.02101</td>\n",
       "      <td>0.02092</td>\n",
       "      <td>0.03797</td>\n",
       "      <td>0.03782</td>\n",
       "      <td>0.05932</td>\n",
       "    </tr>\n",
       "    <tr>\n",
       "      <th>75</th>\n",
       "      <td>1949</td>\n",
       "      <td>0.01266</td>\n",
       "      <td>0.01277</td>\n",
       "      <td>0.01709</td>\n",
       "      <td>0.00420</td>\n",
       "      <td>-0.00418</td>\n",
       "      <td>-0.00830</td>\n",
       "      <td>-0.02869</td>\n",
       "      <td>-0.02857</td>\n",
       "      <td>-0.02449</td>\n",
       "      <td>-0.02869</td>\n",
       "      <td>-0.01653</td>\n",
       "      <td>-0.02075</td>\n",
       "    </tr>\n",
       "    <tr>\n",
       "      <th>76</th>\n",
       "      <td>1948</td>\n",
       "      <td>0.10233</td>\n",
       "      <td>0.09302</td>\n",
       "      <td>0.06849</td>\n",
       "      <td>0.08676</td>\n",
       "      <td>0.09132</td>\n",
       "      <td>0.09545</td>\n",
       "      <td>0.09910</td>\n",
       "      <td>0.08889</td>\n",
       "      <td>0.06522</td>\n",
       "      <td>0.06087</td>\n",
       "      <td>0.04762</td>\n",
       "      <td>0.02991</td>\n",
       "    </tr>\n",
       "  </tbody>\n",
       "</table>\n",
       "</div>"
      ],
      "text/plain": [
       "    Year      Jan      Feb      Mar      Apr      May      Jun      Jul  \\\n",
       "72  1952  0.04331  0.02335  0.01938  0.02326  0.01931  0.02317  0.03089   \n",
       "73  1951  0.08085  0.09362  0.09322  0.09322  0.09283  0.08824  0.07469   \n",
       "74  1950 -0.02083 -0.01261 -0.00840 -0.01255 -0.00420 -0.00418  0.01688   \n",
       "75  1949  0.01266  0.01277  0.01709  0.00420 -0.00418 -0.00830 -0.02869   \n",
       "76  1948  0.10233  0.09302  0.06849  0.08676  0.09132  0.09545  0.09910   \n",
       "\n",
       "        Aug      Sep      Oct      Nov      Dec  \n",
       "72  0.03089  0.02299  0.01908  0.01136  0.00755  \n",
       "73  0.06584  0.06967  0.06504  0.06883  0.06000  \n",
       "74  0.02101  0.02092  0.03797  0.03782  0.05932  \n",
       "75 -0.02857 -0.02449 -0.02869 -0.01653 -0.02075  \n",
       "76  0.08889  0.06522  0.06087  0.04762  0.02991  "
      ]
     },
     "execution_count": 107,
     "metadata": {},
     "output_type": "execute_result"
    }
   ],
   "source": [
    "df_inf[df_inf['Year'] == 1948]\n",
    "df_inf = df_inf.iloc[:77]\n",
    "df_inf.tail()"
   ]
  },
  {
   "cell_type": "code",
   "execution_count": 108,
   "id": "9a5c780c-5f33-4064-8b49-45d3b2382498",
   "metadata": {
    "tags": []
   },
   "outputs": [],
   "source": [
    "df_inf = df_inf.sort_values('Year')"
   ]
  },
  {
   "cell_type": "code",
   "execution_count": 109,
   "id": "9cb8a42f-d592-4fc1-a8d5-50b8dd1f87ff",
   "metadata": {
    "tags": []
   },
   "outputs": [],
   "source": [
    "df_inf_2 = pd.melt(df_inf, id_vars='Year', var_name='Month', value_name='Inflation Index')"
   ]
  },
  {
   "cell_type": "code",
   "execution_count": 110,
   "id": "1b73b1bb-1cdd-4b4f-a4c3-8ee2b58484a1",
   "metadata": {
    "tags": []
   },
   "outputs": [],
   "source": [
    "df_inf_2['Date'] = df_inf_2['Year'].astype('str') + '-' + df_inf_2['Month'].astype('str') + \"-01\""
   ]
  },
  {
   "cell_type": "code",
   "execution_count": 111,
   "id": "a2254d83-7f30-480d-9828-6a861b7ae86c",
   "metadata": {
    "tags": []
   },
   "outputs": [],
   "source": [
    "df_inf_2['Date'] = pd.to_datetime(df_inf_2['Date'])"
   ]
  },
  {
   "cell_type": "code",
   "execution_count": 112,
   "id": "40a6e0b6-275d-4959-b4fd-dea6b7a783b2",
   "metadata": {
    "tags": []
   },
   "outputs": [],
   "source": [
    "df_inf_2.drop(columns=['Year', 'Month'], inplace=True)"
   ]
  },
  {
   "cell_type": "code",
   "execution_count": 113,
   "id": "7631185f-bb31-42bb-a2d1-c53fc15c95f6",
   "metadata": {
    "tags": []
   },
   "outputs": [],
   "source": [
    "df_inf_2 = df_inf_2.sort_values('Date').reset_index(drop=True)"
   ]
  },
  {
   "cell_type": "code",
   "execution_count": null,
   "id": "91258c38-6fed-496a-bbde-e9dea2ba802c",
   "metadata": {},
   "outputs": [],
   "source": []
  },
  {
   "cell_type": "code",
   "execution_count": 114,
   "id": "7acb0f2c-1cd7-494f-ba0b-f5a9e0c09423",
   "metadata": {
    "tags": []
   },
   "outputs": [],
   "source": [
    "df_inf_2 = df_inf_2.iloc[:915]"
   ]
  },
  {
   "cell_type": "code",
   "execution_count": 115,
   "id": "7db53b8f-8f45-482e-ac01-a9e32569784f",
   "metadata": {
    "tags": []
   },
   "outputs": [
    {
     "data": {
      "text/plain": [
       "(915, 2)"
      ]
     },
     "execution_count": 115,
     "metadata": {},
     "output_type": "execute_result"
    },
    {
     "data": {
      "text/html": [
       "<div>\n",
       "<style scoped>\n",
       "    .dataframe tbody tr th:only-of-type {\n",
       "        vertical-align: middle;\n",
       "    }\n",
       "\n",
       "    .dataframe tbody tr th {\n",
       "        vertical-align: top;\n",
       "    }\n",
       "\n",
       "    .dataframe thead th {\n",
       "        text-align: right;\n",
       "    }\n",
       "</style>\n",
       "<table border=\"1\" class=\"dataframe\">\n",
       "  <thead>\n",
       "    <tr style=\"text-align: right;\">\n",
       "      <th></th>\n",
       "      <th>Inflation Index</th>\n",
       "      <th>Date</th>\n",
       "    </tr>\n",
       "  </thead>\n",
       "  <tbody>\n",
       "    <tr>\n",
       "      <th>0</th>\n",
       "      <td>0.10233</td>\n",
       "      <td>1948-01-01</td>\n",
       "    </tr>\n",
       "    <tr>\n",
       "      <th>1</th>\n",
       "      <td>0.09302</td>\n",
       "      <td>1948-02-01</td>\n",
       "    </tr>\n",
       "    <tr>\n",
       "      <th>2</th>\n",
       "      <td>0.06849</td>\n",
       "      <td>1948-03-01</td>\n",
       "    </tr>\n",
       "    <tr>\n",
       "      <th>3</th>\n",
       "      <td>0.08676</td>\n",
       "      <td>1948-04-01</td>\n",
       "    </tr>\n",
       "    <tr>\n",
       "      <th>4</th>\n",
       "      <td>0.09132</td>\n",
       "      <td>1948-05-01</td>\n",
       "    </tr>\n",
       "  </tbody>\n",
       "</table>\n",
       "</div>"
      ],
      "text/plain": [
       "   Inflation Index       Date\n",
       "0          0.10233 1948-01-01\n",
       "1          0.09302 1948-02-01\n",
       "2          0.06849 1948-03-01\n",
       "3          0.08676 1948-04-01\n",
       "4          0.09132 1948-05-01"
      ]
     },
     "execution_count": 115,
     "metadata": {},
     "output_type": "execute_result"
    },
    {
     "data": {
      "text/html": [
       "<div>\n",
       "<style scoped>\n",
       "    .dataframe tbody tr th:only-of-type {\n",
       "        vertical-align: middle;\n",
       "    }\n",
       "\n",
       "    .dataframe tbody tr th {\n",
       "        vertical-align: top;\n",
       "    }\n",
       "\n",
       "    .dataframe thead th {\n",
       "        text-align: right;\n",
       "    }\n",
       "</style>\n",
       "<table border=\"1\" class=\"dataframe\">\n",
       "  <thead>\n",
       "    <tr style=\"text-align: right;\">\n",
       "      <th></th>\n",
       "      <th>Inflation Index</th>\n",
       "      <th>Date</th>\n",
       "    </tr>\n",
       "  </thead>\n",
       "  <tbody>\n",
       "    <tr>\n",
       "      <th>910</th>\n",
       "      <td>0.03137</td>\n",
       "      <td>2023-11-01</td>\n",
       "    </tr>\n",
       "    <tr>\n",
       "      <th>911</th>\n",
       "      <td>0.03352</td>\n",
       "      <td>2023-12-01</td>\n",
       "    </tr>\n",
       "    <tr>\n",
       "      <th>912</th>\n",
       "      <td>0.03091</td>\n",
       "      <td>2024-01-01</td>\n",
       "    </tr>\n",
       "    <tr>\n",
       "      <th>913</th>\n",
       "      <td>0.03153</td>\n",
       "      <td>2024-02-01</td>\n",
       "    </tr>\n",
       "    <tr>\n",
       "      <th>914</th>\n",
       "      <td>0.03477</td>\n",
       "      <td>2024-03-01</td>\n",
       "    </tr>\n",
       "  </tbody>\n",
       "</table>\n",
       "</div>"
      ],
      "text/plain": [
       "     Inflation Index       Date\n",
       "910          0.03137 2023-11-01\n",
       "911          0.03352 2023-12-01\n",
       "912          0.03091 2024-01-01\n",
       "913          0.03153 2024-02-01\n",
       "914          0.03477 2024-03-01"
      ]
     },
     "execution_count": 115,
     "metadata": {},
     "output_type": "execute_result"
    }
   ],
   "source": [
    "df_inf_2.shape\n",
    "df_inf_2.head()\n",
    "df_inf_2.tail()"
   ]
  },
  {
   "cell_type": "markdown",
   "id": "a7a11701-5bbe-4e84-a669-fa5609a0bcda",
   "metadata": {},
   "source": [
    "### Global economic growth"
   ]
  },
  {
   "cell_type": "code",
   "execution_count": 116,
   "id": "9906e248-541f-4f08-8996-540e41313e6c",
   "metadata": {
    "tags": []
   },
   "outputs": [
    {
     "data": {
      "text/html": [
       "<div>\n",
       "<style scoped>\n",
       "    .dataframe tbody tr th:only-of-type {\n",
       "        vertical-align: middle;\n",
       "    }\n",
       "\n",
       "    .dataframe tbody tr th {\n",
       "        vertical-align: top;\n",
       "    }\n",
       "\n",
       "    .dataframe thead th {\n",
       "        text-align: right;\n",
       "    }\n",
       "</style>\n",
       "<table border=\"1\" class=\"dataframe\">\n",
       "  <thead>\n",
       "    <tr style=\"text-align: right;\">\n",
       "      <th></th>\n",
       "      <th>Year</th>\n",
       "      <th>GDP growth</th>\n",
       "    </tr>\n",
       "  </thead>\n",
       "  <tbody>\n",
       "    <tr>\n",
       "      <th>0</th>\n",
       "      <td>2022</td>\n",
       "      <td>0.0308</td>\n",
       "    </tr>\n",
       "    <tr>\n",
       "      <th>1</th>\n",
       "      <td>2021</td>\n",
       "      <td>0.0602</td>\n",
       "    </tr>\n",
       "    <tr>\n",
       "      <th>2</th>\n",
       "      <td>2020</td>\n",
       "      <td>-0.0307</td>\n",
       "    </tr>\n",
       "    <tr>\n",
       "      <th>3</th>\n",
       "      <td>2019</td>\n",
       "      <td>0.0259</td>\n",
       "    </tr>\n",
       "    <tr>\n",
       "      <th>4</th>\n",
       "      <td>2018</td>\n",
       "      <td>0.0329</td>\n",
       "    </tr>\n",
       "  </tbody>\n",
       "</table>\n",
       "</div>"
      ],
      "text/plain": [
       "   Year  GDP growth\n",
       "0  2022      0.0308\n",
       "1  2021      0.0602\n",
       "2  2020     -0.0307\n",
       "3  2019      0.0259\n",
       "4  2018      0.0329"
      ]
     },
     "execution_count": 116,
     "metadata": {},
     "output_type": "execute_result"
    }
   ],
   "source": [
    "df_global = pd.read_excel('world_gdp_population.xlsx', usecols=['Year', 'GDP growth'])\n",
    "df_global.head()"
   ]
  },
  {
   "cell_type": "code",
   "execution_count": 117,
   "id": "0338eeb1-3427-4e5a-9d4d-fcc8f4a98f37",
   "metadata": {
    "tags": []
   },
   "outputs": [],
   "source": [
    "add_data = {\n",
    "    'Year':[2023, 2024],\n",
    "    'GDP growth': [0.0280, 0.0300]\n",
    "}"
   ]
  },
  {
   "cell_type": "code",
   "execution_count": 118,
   "id": "4229a4d4-a39a-4a1c-9d44-2e0f2d3a5ffe",
   "metadata": {
    "tags": []
   },
   "outputs": [],
   "source": [
    "df_add_data = pd.DataFrame(add_data)"
   ]
  },
  {
   "cell_type": "code",
   "execution_count": 119,
   "id": "c42ec845-94dc-485b-b9c6-4d43aeb27174",
   "metadata": {
    "tags": []
   },
   "outputs": [],
   "source": [
    "df_global = pd.concat([df_global, df_add_data], ignore_index=True)"
   ]
  },
  {
   "cell_type": "code",
   "execution_count": 120,
   "id": "ab2f488c-0995-4f1a-b250-f61a3946210b",
   "metadata": {
    "tags": []
   },
   "outputs": [
    {
     "data": {
      "text/html": [
       "<div>\n",
       "<style scoped>\n",
       "    .dataframe tbody tr th:only-of-type {\n",
       "        vertical-align: middle;\n",
       "    }\n",
       "\n",
       "    .dataframe tbody tr th {\n",
       "        vertical-align: top;\n",
       "    }\n",
       "\n",
       "    .dataframe thead th {\n",
       "        text-align: right;\n",
       "    }\n",
       "</style>\n",
       "<table border=\"1\" class=\"dataframe\">\n",
       "  <thead>\n",
       "    <tr style=\"text-align: right;\">\n",
       "      <th></th>\n",
       "      <th>Year</th>\n",
       "      <th>GDP growth</th>\n",
       "    </tr>\n",
       "  </thead>\n",
       "  <tbody>\n",
       "    <tr>\n",
       "      <th>0</th>\n",
       "      <td>2022</td>\n",
       "      <td>0.0308</td>\n",
       "    </tr>\n",
       "    <tr>\n",
       "      <th>1</th>\n",
       "      <td>2021</td>\n",
       "      <td>0.0602</td>\n",
       "    </tr>\n",
       "    <tr>\n",
       "      <th>2</th>\n",
       "      <td>2020</td>\n",
       "      <td>-0.0307</td>\n",
       "    </tr>\n",
       "    <tr>\n",
       "      <th>3</th>\n",
       "      <td>2019</td>\n",
       "      <td>0.0259</td>\n",
       "    </tr>\n",
       "    <tr>\n",
       "      <th>4</th>\n",
       "      <td>2018</td>\n",
       "      <td>0.0329</td>\n",
       "    </tr>\n",
       "    <tr>\n",
       "      <th>...</th>\n",
       "      <td>...</td>\n",
       "      <td>...</td>\n",
       "    </tr>\n",
       "    <tr>\n",
       "      <th>59</th>\n",
       "      <td>1963</td>\n",
       "      <td>0.0518</td>\n",
       "    </tr>\n",
       "    <tr>\n",
       "      <th>60</th>\n",
       "      <td>1962</td>\n",
       "      <td>0.0531</td>\n",
       "    </tr>\n",
       "    <tr>\n",
       "      <th>61</th>\n",
       "      <td>1961</td>\n",
       "      <td>0.0379</td>\n",
       "    </tr>\n",
       "    <tr>\n",
       "      <th>62</th>\n",
       "      <td>2023</td>\n",
       "      <td>0.0280</td>\n",
       "    </tr>\n",
       "    <tr>\n",
       "      <th>63</th>\n",
       "      <td>2024</td>\n",
       "      <td>0.0300</td>\n",
       "    </tr>\n",
       "  </tbody>\n",
       "</table>\n",
       "<p>64 rows × 2 columns</p>\n",
       "</div>"
      ],
      "text/plain": [
       "    Year  GDP growth\n",
       "0   2022      0.0308\n",
       "1   2021      0.0602\n",
       "2   2020     -0.0307\n",
       "3   2019      0.0259\n",
       "4   2018      0.0329\n",
       "..   ...         ...\n",
       "59  1963      0.0518\n",
       "60  1962      0.0531\n",
       "61  1961      0.0379\n",
       "62  2023      0.0280\n",
       "63  2024      0.0300\n",
       "\n",
       "[64 rows x 2 columns]"
      ]
     },
     "execution_count": 120,
     "metadata": {},
     "output_type": "execute_result"
    },
    {
     "data": {
      "text/html": [
       "<div>\n",
       "<style scoped>\n",
       "    .dataframe tbody tr th:only-of-type {\n",
       "        vertical-align: middle;\n",
       "    }\n",
       "\n",
       "    .dataframe tbody tr th {\n",
       "        vertical-align: top;\n",
       "    }\n",
       "\n",
       "    .dataframe thead th {\n",
       "        text-align: right;\n",
       "    }\n",
       "</style>\n",
       "<table border=\"1\" class=\"dataframe\">\n",
       "  <thead>\n",
       "    <tr style=\"text-align: right;\">\n",
       "      <th></th>\n",
       "      <th>Year</th>\n",
       "      <th>GDP growth</th>\n",
       "    </tr>\n",
       "  </thead>\n",
       "  <tbody>\n",
       "    <tr>\n",
       "      <th>61</th>\n",
       "      <td>1961</td>\n",
       "      <td>0.0379</td>\n",
       "    </tr>\n",
       "    <tr>\n",
       "      <th>60</th>\n",
       "      <td>1962</td>\n",
       "      <td>0.0531</td>\n",
       "    </tr>\n",
       "    <tr>\n",
       "      <th>59</th>\n",
       "      <td>1963</td>\n",
       "      <td>0.0518</td>\n",
       "    </tr>\n",
       "    <tr>\n",
       "      <th>58</th>\n",
       "      <td>1964</td>\n",
       "      <td>0.0656</td>\n",
       "    </tr>\n",
       "    <tr>\n",
       "      <th>57</th>\n",
       "      <td>1965</td>\n",
       "      <td>0.0555</td>\n",
       "    </tr>\n",
       "  </tbody>\n",
       "</table>\n",
       "</div>"
      ],
      "text/plain": [
       "    Year  GDP growth\n",
       "61  1961      0.0379\n",
       "60  1962      0.0531\n",
       "59  1963      0.0518\n",
       "58  1964      0.0656\n",
       "57  1965      0.0555"
      ]
     },
     "execution_count": 120,
     "metadata": {},
     "output_type": "execute_result"
    },
    {
     "data": {
      "text/html": [
       "<div>\n",
       "<style scoped>\n",
       "    .dataframe tbody tr th:only-of-type {\n",
       "        vertical-align: middle;\n",
       "    }\n",
       "\n",
       "    .dataframe tbody tr th {\n",
       "        vertical-align: top;\n",
       "    }\n",
       "\n",
       "    .dataframe thead th {\n",
       "        text-align: right;\n",
       "    }\n",
       "</style>\n",
       "<table border=\"1\" class=\"dataframe\">\n",
       "  <thead>\n",
       "    <tr style=\"text-align: right;\">\n",
       "      <th></th>\n",
       "      <th>Year</th>\n",
       "      <th>GDP growth</th>\n",
       "    </tr>\n",
       "  </thead>\n",
       "  <tbody>\n",
       "    <tr>\n",
       "      <th>2</th>\n",
       "      <td>2020</td>\n",
       "      <td>-0.0307</td>\n",
       "    </tr>\n",
       "    <tr>\n",
       "      <th>1</th>\n",
       "      <td>2021</td>\n",
       "      <td>0.0602</td>\n",
       "    </tr>\n",
       "    <tr>\n",
       "      <th>0</th>\n",
       "      <td>2022</td>\n",
       "      <td>0.0308</td>\n",
       "    </tr>\n",
       "    <tr>\n",
       "      <th>62</th>\n",
       "      <td>2023</td>\n",
       "      <td>0.0280</td>\n",
       "    </tr>\n",
       "    <tr>\n",
       "      <th>63</th>\n",
       "      <td>2024</td>\n",
       "      <td>0.0300</td>\n",
       "    </tr>\n",
       "  </tbody>\n",
       "</table>\n",
       "</div>"
      ],
      "text/plain": [
       "    Year  GDP growth\n",
       "2   2020     -0.0307\n",
       "1   2021      0.0602\n",
       "0   2022      0.0308\n",
       "62  2023      0.0280\n",
       "63  2024      0.0300"
      ]
     },
     "execution_count": 120,
     "metadata": {},
     "output_type": "execute_result"
    }
   ],
   "source": [
    "df_global.reset_index(drop=True)\n",
    "df_global = df_global.sort_values(by='Year')\n",
    "df_global.head()\n",
    "df_global.tail()"
   ]
  },
  {
   "cell_type": "markdown",
   "id": "7a1672fd-d4f6-4d41-8781-cc3c92441686",
   "metadata": {},
   "source": [
    "Add data from 1948 to 1960"
   ]
  },
  {
   "cell_type": "code",
   "execution_count": 121,
   "id": "ea72fd00-3fb8-4bbc-8a72-fc33f82231c3",
   "metadata": {
    "tags": []
   },
   "outputs": [
    {
     "data": {
      "text/html": [
       "<div>\n",
       "<style scoped>\n",
       "    .dataframe tbody tr th:only-of-type {\n",
       "        vertical-align: middle;\n",
       "    }\n",
       "\n",
       "    .dataframe tbody tr th {\n",
       "        vertical-align: top;\n",
       "    }\n",
       "\n",
       "    .dataframe thead th {\n",
       "        text-align: right;\n",
       "    }\n",
       "</style>\n",
       "<table border=\"1\" class=\"dataframe\">\n",
       "  <thead>\n",
       "    <tr style=\"text-align: right;\">\n",
       "      <th></th>\n",
       "      <th>Year</th>\n",
       "      <th>GDP growth</th>\n",
       "    </tr>\n",
       "  </thead>\n",
       "  <tbody>\n",
       "    <tr>\n",
       "      <th>0</th>\n",
       "      <td>1948</td>\n",
       "      <td>0.0484</td>\n",
       "    </tr>\n",
       "    <tr>\n",
       "      <th>1</th>\n",
       "      <td>1949</td>\n",
       "      <td>0.0484</td>\n",
       "    </tr>\n",
       "    <tr>\n",
       "      <th>2</th>\n",
       "      <td>1950</td>\n",
       "      <td>0.0484</td>\n",
       "    </tr>\n",
       "    <tr>\n",
       "      <th>3</th>\n",
       "      <td>1951</td>\n",
       "      <td>0.0484</td>\n",
       "    </tr>\n",
       "    <tr>\n",
       "      <th>4</th>\n",
       "      <td>1952</td>\n",
       "      <td>0.0484</td>\n",
       "    </tr>\n",
       "  </tbody>\n",
       "</table>\n",
       "</div>"
      ],
      "text/plain": [
       "   Year  GDP growth\n",
       "0  1948      0.0484\n",
       "1  1949      0.0484\n",
       "2  1950      0.0484\n",
       "3  1951      0.0484\n",
       "4  1952      0.0484"
      ]
     },
     "execution_count": 121,
     "metadata": {},
     "output_type": "execute_result"
    }
   ],
   "source": [
    "gdp_48_60 = pd.DataFrame({'Year': range(1948, 1961), 'GDP growth': [0.0484] * (1960 - 1948 + 1)})\n",
    "gdp_48_60.head()"
   ]
  },
  {
   "cell_type": "code",
   "execution_count": 122,
   "id": "33d181f7-22ee-4cad-a80d-463a584a9174",
   "metadata": {
    "tags": []
   },
   "outputs": [],
   "source": [
    "df_global = pd.concat([gdp_48_60, df_global], ignore_index=True)"
   ]
  },
  {
   "cell_type": "markdown",
   "id": "1b8611be-4c37-4b9d-872e-1d926c374b18",
   "metadata": {},
   "source": [
    "Transform into monthly data"
   ]
  },
  {
   "cell_type": "code",
   "execution_count": 123,
   "id": "2d8cbbab-db88-4a9d-878d-cc12f6862540",
   "metadata": {
    "tags": []
   },
   "outputs": [],
   "source": [
    "df_globa_2 = pd.DataFrame({'Date': pd.date_range(start=f\"{df_global['Year'].min()}-01-01\", end=f\"{df_global['Year'].max()}-12-01\", freq='MS')})"
   ]
  },
  {
   "cell_type": "code",
   "execution_count": 124,
   "id": "f31bf3ea-ce61-46ad-bc63-bb77680c4b6d",
   "metadata": {
    "tags": []
   },
   "outputs": [],
   "source": [
    "df_globa_2['Year'] = df_globa_2['Date'].dt.year\n",
    "df_globa_2 = df_globa_2.merge(df_global, on='Year', how='left')"
   ]
  },
  {
   "cell_type": "code",
   "execution_count": 125,
   "id": "fa44e6c2-7230-413a-a681-2ce86c7c5445",
   "metadata": {
    "tags": []
   },
   "outputs": [],
   "source": [
    "df_globa_2 = df_globa_2.drop(columns=['Year'])"
   ]
  },
  {
   "cell_type": "code",
   "execution_count": 126,
   "id": "3786fb7f-9747-4863-a95d-3cba85b072ca",
   "metadata": {
    "tags": []
   },
   "outputs": [],
   "source": [
    "df_globa_2 = df_globa_2.iloc[:915]"
   ]
  },
  {
   "cell_type": "code",
   "execution_count": 127,
   "id": "bf80ec6f-1c12-4571-97e0-18954598ae02",
   "metadata": {
    "tags": []
   },
   "outputs": [
    {
     "data": {
      "text/plain": [
       "(915, 2)"
      ]
     },
     "execution_count": 127,
     "metadata": {},
     "output_type": "execute_result"
    },
    {
     "data": {
      "text/html": [
       "<div>\n",
       "<style scoped>\n",
       "    .dataframe tbody tr th:only-of-type {\n",
       "        vertical-align: middle;\n",
       "    }\n",
       "\n",
       "    .dataframe tbody tr th {\n",
       "        vertical-align: top;\n",
       "    }\n",
       "\n",
       "    .dataframe thead th {\n",
       "        text-align: right;\n",
       "    }\n",
       "</style>\n",
       "<table border=\"1\" class=\"dataframe\">\n",
       "  <thead>\n",
       "    <tr style=\"text-align: right;\">\n",
       "      <th></th>\n",
       "      <th>Date</th>\n",
       "      <th>GDP growth</th>\n",
       "    </tr>\n",
       "  </thead>\n",
       "  <tbody>\n",
       "    <tr>\n",
       "      <th>0</th>\n",
       "      <td>1948-01-01</td>\n",
       "      <td>0.0484</td>\n",
       "    </tr>\n",
       "    <tr>\n",
       "      <th>1</th>\n",
       "      <td>1948-02-01</td>\n",
       "      <td>0.0484</td>\n",
       "    </tr>\n",
       "    <tr>\n",
       "      <th>2</th>\n",
       "      <td>1948-03-01</td>\n",
       "      <td>0.0484</td>\n",
       "    </tr>\n",
       "    <tr>\n",
       "      <th>3</th>\n",
       "      <td>1948-04-01</td>\n",
       "      <td>0.0484</td>\n",
       "    </tr>\n",
       "    <tr>\n",
       "      <th>4</th>\n",
       "      <td>1948-05-01</td>\n",
       "      <td>0.0484</td>\n",
       "    </tr>\n",
       "  </tbody>\n",
       "</table>\n",
       "</div>"
      ],
      "text/plain": [
       "        Date  GDP growth\n",
       "0 1948-01-01      0.0484\n",
       "1 1948-02-01      0.0484\n",
       "2 1948-03-01      0.0484\n",
       "3 1948-04-01      0.0484\n",
       "4 1948-05-01      0.0484"
      ]
     },
     "execution_count": 127,
     "metadata": {},
     "output_type": "execute_result"
    },
    {
     "data": {
      "text/html": [
       "<div>\n",
       "<style scoped>\n",
       "    .dataframe tbody tr th:only-of-type {\n",
       "        vertical-align: middle;\n",
       "    }\n",
       "\n",
       "    .dataframe tbody tr th {\n",
       "        vertical-align: top;\n",
       "    }\n",
       "\n",
       "    .dataframe thead th {\n",
       "        text-align: right;\n",
       "    }\n",
       "</style>\n",
       "<table border=\"1\" class=\"dataframe\">\n",
       "  <thead>\n",
       "    <tr style=\"text-align: right;\">\n",
       "      <th></th>\n",
       "      <th>Date</th>\n",
       "      <th>GDP growth</th>\n",
       "    </tr>\n",
       "  </thead>\n",
       "  <tbody>\n",
       "    <tr>\n",
       "      <th>910</th>\n",
       "      <td>2023-11-01</td>\n",
       "      <td>0.028</td>\n",
       "    </tr>\n",
       "    <tr>\n",
       "      <th>911</th>\n",
       "      <td>2023-12-01</td>\n",
       "      <td>0.028</td>\n",
       "    </tr>\n",
       "    <tr>\n",
       "      <th>912</th>\n",
       "      <td>2024-01-01</td>\n",
       "      <td>0.030</td>\n",
       "    </tr>\n",
       "    <tr>\n",
       "      <th>913</th>\n",
       "      <td>2024-02-01</td>\n",
       "      <td>0.030</td>\n",
       "    </tr>\n",
       "    <tr>\n",
       "      <th>914</th>\n",
       "      <td>2024-03-01</td>\n",
       "      <td>0.030</td>\n",
       "    </tr>\n",
       "  </tbody>\n",
       "</table>\n",
       "</div>"
      ],
      "text/plain": [
       "          Date  GDP growth\n",
       "910 2023-11-01       0.028\n",
       "911 2023-12-01       0.028\n",
       "912 2024-01-01       0.030\n",
       "913 2024-02-01       0.030\n",
       "914 2024-03-01       0.030"
      ]
     },
     "execution_count": 127,
     "metadata": {},
     "output_type": "execute_result"
    }
   ],
   "source": [
    "df_globa_2.shape\n",
    "df_globa_2.head()\n",
    "df_globa_2.tail()"
   ]
  },
  {
   "cell_type": "markdown",
   "id": "ebdf6135-911e-4b94-98db-7a1b422e2cf8",
   "metadata": {},
   "source": [
    "### S&P500"
   ]
  },
  {
   "cell_type": "code",
   "execution_count": 128,
   "id": "e230b500-301a-472d-bf19-b30d3b1a450a",
   "metadata": {
    "tags": []
   },
   "outputs": [],
   "source": [
    "df_snp = pd.read_html('https://www.multpl.com/s-p-500-historical-prices/table/by-month')[0]"
   ]
  },
  {
   "cell_type": "code",
   "execution_count": 129,
   "id": "85069cdb-72e4-4f07-96a2-7aa148c03630",
   "metadata": {
    "tags": []
   },
   "outputs": [
    {
     "data": {
      "text/plain": [
       "(1844, 2)"
      ]
     },
     "execution_count": 129,
     "metadata": {},
     "output_type": "execute_result"
    },
    {
     "data": {
      "text/html": [
       "<div>\n",
       "<style scoped>\n",
       "    .dataframe tbody tr th:only-of-type {\n",
       "        vertical-align: middle;\n",
       "    }\n",
       "\n",
       "    .dataframe tbody tr th {\n",
       "        vertical-align: top;\n",
       "    }\n",
       "\n",
       "    .dataframe thead th {\n",
       "        text-align: right;\n",
       "    }\n",
       "</style>\n",
       "<table border=\"1\" class=\"dataframe\">\n",
       "  <thead>\n",
       "    <tr style=\"text-align: right;\">\n",
       "      <th></th>\n",
       "      <th>Date</th>\n",
       "      <th>Value</th>\n",
       "    </tr>\n",
       "  </thead>\n",
       "  <tbody>\n",
       "    <tr>\n",
       "      <th>0</th>\n",
       "      <td>Aug 27, 2024</td>\n",
       "      <td>5627.75</td>\n",
       "    </tr>\n",
       "    <tr>\n",
       "      <th>1</th>\n",
       "      <td>Jul 1, 2024</td>\n",
       "      <td>5553.15</td>\n",
       "    </tr>\n",
       "    <tr>\n",
       "      <th>2</th>\n",
       "      <td>Jun 1, 2024</td>\n",
       "      <td>5451.14</td>\n",
       "    </tr>\n",
       "    <tr>\n",
       "      <th>3</th>\n",
       "      <td>May 1, 2024</td>\n",
       "      <td>5235.22</td>\n",
       "    </tr>\n",
       "    <tr>\n",
       "      <th>4</th>\n",
       "      <td>Apr 1, 2024</td>\n",
       "      <td>5112.49</td>\n",
       "    </tr>\n",
       "  </tbody>\n",
       "</table>\n",
       "</div>"
      ],
      "text/plain": [
       "           Date    Value\n",
       "0  Aug 27, 2024  5627.75\n",
       "1   Jul 1, 2024  5553.15\n",
       "2   Jun 1, 2024  5451.14\n",
       "3   May 1, 2024  5235.22\n",
       "4   Apr 1, 2024  5112.49"
      ]
     },
     "execution_count": 129,
     "metadata": {},
     "output_type": "execute_result"
    },
    {
     "data": {
      "text/html": [
       "<div>\n",
       "<style scoped>\n",
       "    .dataframe tbody tr th:only-of-type {\n",
       "        vertical-align: middle;\n",
       "    }\n",
       "\n",
       "    .dataframe tbody tr th {\n",
       "        vertical-align: top;\n",
       "    }\n",
       "\n",
       "    .dataframe thead th {\n",
       "        text-align: right;\n",
       "    }\n",
       "</style>\n",
       "<table border=\"1\" class=\"dataframe\">\n",
       "  <thead>\n",
       "    <tr style=\"text-align: right;\">\n",
       "      <th></th>\n",
       "      <th>Date</th>\n",
       "      <th>Value</th>\n",
       "    </tr>\n",
       "  </thead>\n",
       "  <tbody>\n",
       "    <tr>\n",
       "      <th>1839</th>\n",
       "      <td>May 1, 1871</td>\n",
       "      <td>4.86</td>\n",
       "    </tr>\n",
       "    <tr>\n",
       "      <th>1840</th>\n",
       "      <td>Apr 1, 1871</td>\n",
       "      <td>4.74</td>\n",
       "    </tr>\n",
       "    <tr>\n",
       "      <th>1841</th>\n",
       "      <td>Mar 1, 1871</td>\n",
       "      <td>4.61</td>\n",
       "    </tr>\n",
       "    <tr>\n",
       "      <th>1842</th>\n",
       "      <td>Feb 1, 1871</td>\n",
       "      <td>4.50</td>\n",
       "    </tr>\n",
       "    <tr>\n",
       "      <th>1843</th>\n",
       "      <td>Jan 1, 1871</td>\n",
       "      <td>4.44</td>\n",
       "    </tr>\n",
       "  </tbody>\n",
       "</table>\n",
       "</div>"
      ],
      "text/plain": [
       "             Date  Value\n",
       "1839  May 1, 1871   4.86\n",
       "1840  Apr 1, 1871   4.74\n",
       "1841  Mar 1, 1871   4.61\n",
       "1842  Feb 1, 1871   4.50\n",
       "1843  Jan 1, 1871   4.44"
      ]
     },
     "execution_count": 129,
     "metadata": {},
     "output_type": "execute_result"
    }
   ],
   "source": [
    "df_snp.shape\n",
    "df_snp.head()\n",
    "df_snp.tail()"
   ]
  },
  {
   "cell_type": "code",
   "execution_count": 130,
   "id": "ef63afe6-9992-4967-a242-3fe6f0542138",
   "metadata": {
    "tags": []
   },
   "outputs": [],
   "source": [
    "df_snp = df_snp.sort_index(ascending=False).reset_index(drop=True)"
   ]
  },
  {
   "cell_type": "code",
   "execution_count": 131,
   "id": "eb64d9a1-70fe-4a0c-92af-2773976abd63",
   "metadata": {
    "tags": []
   },
   "outputs": [],
   "source": [
    "df_snp['Date'] = pd.to_datetime(df_snp['Date'])"
   ]
  },
  {
   "cell_type": "code",
   "execution_count": 132,
   "id": "5e7d9ca3-8d85-41ac-ab9d-440fbe19de3b",
   "metadata": {
    "tags": []
   },
   "outputs": [
    {
     "data": {
      "text/html": [
       "<div>\n",
       "<style scoped>\n",
       "    .dataframe tbody tr th:only-of-type {\n",
       "        vertical-align: middle;\n",
       "    }\n",
       "\n",
       "    .dataframe tbody tr th {\n",
       "        vertical-align: top;\n",
       "    }\n",
       "\n",
       "    .dataframe thead th {\n",
       "        text-align: right;\n",
       "    }\n",
       "</style>\n",
       "<table border=\"1\" class=\"dataframe\">\n",
       "  <thead>\n",
       "    <tr style=\"text-align: right;\">\n",
       "      <th></th>\n",
       "      <th>Date</th>\n",
       "      <th>Value</th>\n",
       "    </tr>\n",
       "  </thead>\n",
       "  <tbody>\n",
       "    <tr>\n",
       "      <th>924</th>\n",
       "      <td>1948-01-01</td>\n",
       "      <td>14.83</td>\n",
       "    </tr>\n",
       "  </tbody>\n",
       "</table>\n",
       "</div>"
      ],
      "text/plain": [
       "          Date  Value\n",
       "924 1948-01-01  14.83"
      ]
     },
     "execution_count": 132,
     "metadata": {},
     "output_type": "execute_result"
    },
    {
     "data": {
      "text/html": [
       "<div>\n",
       "<style scoped>\n",
       "    .dataframe tbody tr th:only-of-type {\n",
       "        vertical-align: middle;\n",
       "    }\n",
       "\n",
       "    .dataframe tbody tr th {\n",
       "        vertical-align: top;\n",
       "    }\n",
       "\n",
       "    .dataframe thead th {\n",
       "        text-align: right;\n",
       "    }\n",
       "</style>\n",
       "<table border=\"1\" class=\"dataframe\">\n",
       "  <thead>\n",
       "    <tr style=\"text-align: right;\">\n",
       "      <th></th>\n",
       "      <th>Date</th>\n",
       "      <th>Value</th>\n",
       "    </tr>\n",
       "  </thead>\n",
       "  <tbody>\n",
       "    <tr>\n",
       "      <th>1838</th>\n",
       "      <td>2024-03-01</td>\n",
       "      <td>5170.57</td>\n",
       "    </tr>\n",
       "  </tbody>\n",
       "</table>\n",
       "</div>"
      ],
      "text/plain": [
       "           Date    Value\n",
       "1838 2024-03-01  5170.57"
      ]
     },
     "execution_count": 132,
     "metadata": {},
     "output_type": "execute_result"
    }
   ],
   "source": [
    "df_snp.loc[df_snp['Date'] == '1948-01-01']\n",
    "df_snp.loc[df_snp['Date'] == '2024-03-01']"
   ]
  },
  {
   "cell_type": "code",
   "execution_count": 133,
   "id": "b46d18a1-ee5b-4ce4-9595-01b71546bb71",
   "metadata": {
    "tags": []
   },
   "outputs": [],
   "source": [
    "df_snp500 = df_snp.iloc[924:1839].reset_index(drop=True)"
   ]
  },
  {
   "cell_type": "code",
   "execution_count": 134,
   "id": "4322577e-4396-4760-9736-1367994e3e66",
   "metadata": {
    "tags": []
   },
   "outputs": [
    {
     "data": {
      "text/html": [
       "<div>\n",
       "<style scoped>\n",
       "    .dataframe tbody tr th:only-of-type {\n",
       "        vertical-align: middle;\n",
       "    }\n",
       "\n",
       "    .dataframe tbody tr th {\n",
       "        vertical-align: top;\n",
       "    }\n",
       "\n",
       "    .dataframe thead th {\n",
       "        text-align: right;\n",
       "    }\n",
       "</style>\n",
       "<table border=\"1\" class=\"dataframe\">\n",
       "  <thead>\n",
       "    <tr style=\"text-align: right;\">\n",
       "      <th></th>\n",
       "      <th>Date</th>\n",
       "      <th>Value</th>\n",
       "    </tr>\n",
       "  </thead>\n",
       "  <tbody>\n",
       "    <tr>\n",
       "      <th>0</th>\n",
       "      <td>1948-01-01</td>\n",
       "      <td>14.83</td>\n",
       "    </tr>\n",
       "    <tr>\n",
       "      <th>1</th>\n",
       "      <td>1948-02-01</td>\n",
       "      <td>14.10</td>\n",
       "    </tr>\n",
       "    <tr>\n",
       "      <th>2</th>\n",
       "      <td>1948-03-01</td>\n",
       "      <td>14.30</td>\n",
       "    </tr>\n",
       "    <tr>\n",
       "      <th>3</th>\n",
       "      <td>1948-04-01</td>\n",
       "      <td>15.40</td>\n",
       "    </tr>\n",
       "    <tr>\n",
       "      <th>4</th>\n",
       "      <td>1948-05-01</td>\n",
       "      <td>16.15</td>\n",
       "    </tr>\n",
       "  </tbody>\n",
       "</table>\n",
       "</div>"
      ],
      "text/plain": [
       "        Date  Value\n",
       "0 1948-01-01  14.83\n",
       "1 1948-02-01  14.10\n",
       "2 1948-03-01  14.30\n",
       "3 1948-04-01  15.40\n",
       "4 1948-05-01  16.15"
      ]
     },
     "execution_count": 134,
     "metadata": {},
     "output_type": "execute_result"
    }
   ],
   "source": [
    "df_snp500.head()"
   ]
  },
  {
   "cell_type": "markdown",
   "id": "cf930788-7888-4fe4-be04-feee9dadc955",
   "metadata": {},
   "source": [
    "### Merge tables"
   ]
  },
  {
   "cell_type": "markdown",
   "id": "bb77058c-93ad-4a39-ad69-e7c72d8c3da0",
   "metadata": {},
   "source": [
    "Merge Recession data"
   ]
  },
  {
   "cell_type": "code",
   "execution_count": 135,
   "id": "3d7b9926-9ab5-4706-92e0-45f98a2b34c4",
   "metadata": {
    "tags": []
   },
   "outputs": [
    {
     "data": {
      "text/html": [
       "<div>\n",
       "<style scoped>\n",
       "    .dataframe tbody tr th:only-of-type {\n",
       "        vertical-align: middle;\n",
       "    }\n",
       "\n",
       "    .dataframe tbody tr th {\n",
       "        vertical-align: top;\n",
       "    }\n",
       "\n",
       "    .dataframe thead th {\n",
       "        text-align: right;\n",
       "    }\n",
       "</style>\n",
       "<table border=\"1\" class=\"dataframe\">\n",
       "  <thead>\n",
       "    <tr style=\"text-align: right;\">\n",
       "      <th></th>\n",
       "      <th>Recession</th>\n",
       "      <th>Date</th>\n",
       "    </tr>\n",
       "  </thead>\n",
       "  <tbody>\n",
       "    <tr>\n",
       "      <th>1105</th>\n",
       "      <td>0</td>\n",
       "      <td>1947-01-01</td>\n",
       "    </tr>\n",
       "  </tbody>\n",
       "</table>\n",
       "</div>"
      ],
      "text/plain": [
       "      Recession       Date\n",
       "1105          0 1947-01-01"
      ]
     },
     "execution_count": 135,
     "metadata": {},
     "output_type": "execute_result"
    },
    {
     "data": {
      "text/html": [
       "<div>\n",
       "<style scoped>\n",
       "    .dataframe tbody tr th:only-of-type {\n",
       "        vertical-align: middle;\n",
       "    }\n",
       "\n",
       "    .dataframe tbody tr th {\n",
       "        vertical-align: top;\n",
       "    }\n",
       "\n",
       "    .dataframe thead th {\n",
       "        text-align: right;\n",
       "    }\n",
       "</style>\n",
       "<table border=\"1\" class=\"dataframe\">\n",
       "  <thead>\n",
       "    <tr style=\"text-align: right;\">\n",
       "      <th></th>\n",
       "      <th>index</th>\n",
       "      <th>Recession</th>\n",
       "      <th>Date</th>\n",
       "    </tr>\n",
       "  </thead>\n",
       "  <tbody>\n",
       "    <tr>\n",
       "      <th>0</th>\n",
       "      <td>1105</td>\n",
       "      <td>0</td>\n",
       "      <td>1947-01-01</td>\n",
       "    </tr>\n",
       "  </tbody>\n",
       "</table>\n",
       "</div>"
      ],
      "text/plain": [
       "   index  Recession       Date\n",
       "0   1105          0 1947-01-01"
      ]
     },
     "execution_count": 135,
     "metadata": {},
     "output_type": "execute_result"
    },
    {
     "data": {
      "text/html": [
       "<div>\n",
       "<style scoped>\n",
       "    .dataframe tbody tr th:only-of-type {\n",
       "        vertical-align: middle;\n",
       "    }\n",
       "\n",
       "    .dataframe tbody tr th {\n",
       "        vertical-align: top;\n",
       "    }\n",
       "\n",
       "    .dataframe thead th {\n",
       "        text-align: right;\n",
       "    }\n",
       "</style>\n",
       "<table border=\"1\" class=\"dataframe\">\n",
       "  <thead>\n",
       "    <tr style=\"text-align: right;\">\n",
       "      <th></th>\n",
       "      <th>index</th>\n",
       "      <th>Recession</th>\n",
       "      <th>Date</th>\n",
       "    </tr>\n",
       "  </thead>\n",
       "  <tbody>\n",
       "    <tr>\n",
       "      <th>926</th>\n",
       "      <td>2031</td>\n",
       "      <td>0</td>\n",
       "      <td>2024-03-01</td>\n",
       "    </tr>\n",
       "  </tbody>\n",
       "</table>\n",
       "</div>"
      ],
      "text/plain": [
       "     index  Recession       Date\n",
       "926   2031          0 2024-03-01"
      ]
     },
     "execution_count": 135,
     "metadata": {},
     "output_type": "execute_result"
    }
   ],
   "source": [
    "df_rec.loc[df_rec['Date'] == '1947-01-01']\n",
    "df_to_append = df_rec.iloc[1105:2032]\n",
    "df_to_append = df_to_append.reset_index()\n",
    "df_to_append.head(1)\n",
    "df_to_append.tail(1)"
   ]
  },
  {
   "cell_type": "code",
   "execution_count": 136,
   "id": "83483b97-0dd6-4f93-abf3-470a61902def",
   "metadata": {
    "tags": []
   },
   "outputs": [
    {
     "data": {
      "text/html": [
       "<div>\n",
       "<style scoped>\n",
       "    .dataframe tbody tr th:only-of-type {\n",
       "        vertical-align: middle;\n",
       "    }\n",
       "\n",
       "    .dataframe tbody tr th {\n",
       "        vertical-align: top;\n",
       "    }\n",
       "\n",
       "    .dataframe thead th {\n",
       "        text-align: right;\n",
       "    }\n",
       "</style>\n",
       "<table border=\"1\" class=\"dataframe\">\n",
       "  <thead>\n",
       "    <tr style=\"text-align: right;\">\n",
       "      <th></th>\n",
       "      <th>Date</th>\n",
       "      <th>GDP</th>\n",
       "      <th>GDP rate</th>\n",
       "      <th>Recession dates</th>\n",
       "    </tr>\n",
       "  </thead>\n",
       "  <tbody>\n",
       "    <tr>\n",
       "      <th>0</th>\n",
       "      <td>1947-01-01</td>\n",
       "      <td>2182.681</td>\n",
       "      <td>0.0</td>\n",
       "      <td>0</td>\n",
       "    </tr>\n",
       "    <tr>\n",
       "      <th>1</th>\n",
       "      <td>1947-02-01</td>\n",
       "      <td>2182.681</td>\n",
       "      <td>0.0</td>\n",
       "      <td>0</td>\n",
       "    </tr>\n",
       "    <tr>\n",
       "      <th>2</th>\n",
       "      <td>1947-03-01</td>\n",
       "      <td>2182.681</td>\n",
       "      <td>0.0</td>\n",
       "      <td>0</td>\n",
       "    </tr>\n",
       "    <tr>\n",
       "      <th>3</th>\n",
       "      <td>1947-04-01</td>\n",
       "      <td>2176.892</td>\n",
       "      <td>-1.0</td>\n",
       "      <td>0</td>\n",
       "    </tr>\n",
       "    <tr>\n",
       "      <th>4</th>\n",
       "      <td>1947-05-01</td>\n",
       "      <td>2176.892</td>\n",
       "      <td>-1.0</td>\n",
       "      <td>0</td>\n",
       "    </tr>\n",
       "  </tbody>\n",
       "</table>\n",
       "</div>"
      ],
      "text/plain": [
       "        Date       GDP  GDP rate  Recession dates\n",
       "0 1947-01-01  2182.681       0.0                0\n",
       "1 1947-02-01  2182.681       0.0                0\n",
       "2 1947-03-01  2182.681       0.0                0\n",
       "3 1947-04-01  2176.892      -1.0                0\n",
       "4 1947-05-01  2176.892      -1.0                0"
      ]
     },
     "execution_count": 136,
     "metadata": {},
     "output_type": "execute_result"
    }
   ],
   "source": [
    "df['Recession dates'] = df_to_append['Recession']\n",
    "df.head()"
   ]
  },
  {
   "cell_type": "markdown",
   "id": "c27ebe5a-2888-49b4-a617-d3f1670bcf90",
   "metadata": {},
   "source": [
    "Merge Unemployment data. It starts with Jan 1948, so our final dataset becomes 1 year shorter."
   ]
  },
  {
   "cell_type": "code",
   "execution_count": 137,
   "id": "1da8919c-c52d-4e1b-b2e0-cdbf23478418",
   "metadata": {
    "tags": []
   },
   "outputs": [],
   "source": [
    "df_copy = df.copy()"
   ]
  },
  {
   "cell_type": "code",
   "execution_count": 138,
   "id": "d6748cfd-06f9-459c-ac71-9bd72035cadb",
   "metadata": {
    "tags": []
   },
   "outputs": [],
   "source": [
    "df = df.iloc[12:]\n",
    "df = df.reset_index(drop=True)"
   ]
  },
  {
   "cell_type": "code",
   "execution_count": 139,
   "id": "2149fa43-f6c3-422e-ae48-d442dd7e6326",
   "metadata": {
    "tags": []
   },
   "outputs": [
    {
     "data": {
      "text/html": [
       "<div>\n",
       "<style scoped>\n",
       "    .dataframe tbody tr th:only-of-type {\n",
       "        vertical-align: middle;\n",
       "    }\n",
       "\n",
       "    .dataframe tbody tr th {\n",
       "        vertical-align: top;\n",
       "    }\n",
       "\n",
       "    .dataframe thead th {\n",
       "        text-align: right;\n",
       "    }\n",
       "</style>\n",
       "<table border=\"1\" class=\"dataframe\">\n",
       "  <thead>\n",
       "    <tr style=\"text-align: right;\">\n",
       "      <th></th>\n",
       "      <th>Date</th>\n",
       "      <th>GDP</th>\n",
       "      <th>GDP rate</th>\n",
       "      <th>Recession dates</th>\n",
       "    </tr>\n",
       "  </thead>\n",
       "  <tbody>\n",
       "    <tr>\n",
       "      <th>0</th>\n",
       "      <td>1948-01-01</td>\n",
       "      <td>2239.682</td>\n",
       "      <td>6.2</td>\n",
       "      <td>0</td>\n",
       "    </tr>\n",
       "  </tbody>\n",
       "</table>\n",
       "</div>"
      ],
      "text/plain": [
       "        Date       GDP  GDP rate  Recession dates\n",
       "0 1948-01-01  2239.682       6.2                0"
      ]
     },
     "execution_count": 139,
     "metadata": {},
     "output_type": "execute_result"
    },
    {
     "data": {
      "text/html": [
       "<div>\n",
       "<style scoped>\n",
       "    .dataframe tbody tr th:only-of-type {\n",
       "        vertical-align: middle;\n",
       "    }\n",
       "\n",
       "    .dataframe tbody tr th {\n",
       "        vertical-align: top;\n",
       "    }\n",
       "\n",
       "    .dataframe thead th {\n",
       "        text-align: right;\n",
       "    }\n",
       "</style>\n",
       "<table border=\"1\" class=\"dataframe\">\n",
       "  <thead>\n",
       "    <tr style=\"text-align: right;\">\n",
       "      <th></th>\n",
       "      <th>Date</th>\n",
       "      <th>GDP</th>\n",
       "      <th>GDP rate</th>\n",
       "      <th>Recession dates</th>\n",
       "    </tr>\n",
       "  </thead>\n",
       "  <tbody>\n",
       "    <tr>\n",
       "      <th>914</th>\n",
       "      <td>2024-03-01</td>\n",
       "      <td>22758.752</td>\n",
       "      <td>1.4</td>\n",
       "      <td>0</td>\n",
       "    </tr>\n",
       "  </tbody>\n",
       "</table>\n",
       "</div>"
      ],
      "text/plain": [
       "          Date        GDP  GDP rate  Recession dates\n",
       "914 2024-03-01  22758.752       1.4                0"
      ]
     },
     "execution_count": 139,
     "metadata": {},
     "output_type": "execute_result"
    },
    {
     "data": {
      "text/plain": [
       "(915, 4)"
      ]
     },
     "execution_count": 139,
     "metadata": {},
     "output_type": "execute_result"
    }
   ],
   "source": [
    "df.head(1)\n",
    "df.tail(1)\n",
    "df.shape"
   ]
  },
  {
   "cell_type": "code",
   "execution_count": 140,
   "id": "554c9b1c-7442-4d9a-8056-b23d42f24289",
   "metadata": {
    "tags": []
   },
   "outputs": [
    {
     "data": {
      "text/html": [
       "<div>\n",
       "<style scoped>\n",
       "    .dataframe tbody tr th:only-of-type {\n",
       "        vertical-align: middle;\n",
       "    }\n",
       "\n",
       "    .dataframe tbody tr th {\n",
       "        vertical-align: top;\n",
       "    }\n",
       "\n",
       "    .dataframe thead th {\n",
       "        text-align: right;\n",
       "    }\n",
       "</style>\n",
       "<table border=\"1\" class=\"dataframe\">\n",
       "  <thead>\n",
       "    <tr style=\"text-align: right;\">\n",
       "      <th></th>\n",
       "      <th>Date</th>\n",
       "      <th>GDP</th>\n",
       "      <th>GDP rate</th>\n",
       "      <th>Recession dates</th>\n",
       "      <th>Unemployment</th>\n",
       "    </tr>\n",
       "  </thead>\n",
       "  <tbody>\n",
       "    <tr>\n",
       "      <th>0</th>\n",
       "      <td>1948-01-01</td>\n",
       "      <td>2239.682</td>\n",
       "      <td>6.2</td>\n",
       "      <td>0</td>\n",
       "      <td>3.4</td>\n",
       "    </tr>\n",
       "    <tr>\n",
       "      <th>1</th>\n",
       "      <td>1948-02-01</td>\n",
       "      <td>2239.682</td>\n",
       "      <td>6.2</td>\n",
       "      <td>0</td>\n",
       "      <td>3.8</td>\n",
       "    </tr>\n",
       "    <tr>\n",
       "      <th>2</th>\n",
       "      <td>1948-03-01</td>\n",
       "      <td>2239.682</td>\n",
       "      <td>6.2</td>\n",
       "      <td>0</td>\n",
       "      <td>4.0</td>\n",
       "    </tr>\n",
       "    <tr>\n",
       "      <th>3</th>\n",
       "      <td>1948-04-01</td>\n",
       "      <td>2276.690</td>\n",
       "      <td>6.8</td>\n",
       "      <td>0</td>\n",
       "      <td>3.9</td>\n",
       "    </tr>\n",
       "    <tr>\n",
       "      <th>4</th>\n",
       "      <td>1948-05-01</td>\n",
       "      <td>2276.690</td>\n",
       "      <td>6.8</td>\n",
       "      <td>0</td>\n",
       "      <td>3.5</td>\n",
       "    </tr>\n",
       "  </tbody>\n",
       "</table>\n",
       "</div>"
      ],
      "text/plain": [
       "        Date       GDP  GDP rate  Recession dates  Unemployment\n",
       "0 1948-01-01  2239.682       6.2                0           3.4\n",
       "1 1948-02-01  2239.682       6.2                0           3.8\n",
       "2 1948-03-01  2239.682       6.2                0           4.0\n",
       "3 1948-04-01  2276.690       6.8                0           3.9\n",
       "4 1948-05-01  2276.690       6.8                0           3.5"
      ]
     },
     "execution_count": 140,
     "metadata": {},
     "output_type": "execute_result"
    },
    {
     "data": {
      "text/html": [
       "<div>\n",
       "<style scoped>\n",
       "    .dataframe tbody tr th:only-of-type {\n",
       "        vertical-align: middle;\n",
       "    }\n",
       "\n",
       "    .dataframe tbody tr th {\n",
       "        vertical-align: top;\n",
       "    }\n",
       "\n",
       "    .dataframe thead th {\n",
       "        text-align: right;\n",
       "    }\n",
       "</style>\n",
       "<table border=\"1\" class=\"dataframe\">\n",
       "  <thead>\n",
       "    <tr style=\"text-align: right;\">\n",
       "      <th></th>\n",
       "      <th>Date</th>\n",
       "      <th>GDP</th>\n",
       "      <th>GDP rate</th>\n",
       "      <th>Recession dates</th>\n",
       "      <th>Unemployment</th>\n",
       "    </tr>\n",
       "  </thead>\n",
       "  <tbody>\n",
       "    <tr>\n",
       "      <th>910</th>\n",
       "      <td>2023-11-01</td>\n",
       "      <td>22679.255</td>\n",
       "      <td>3.4</td>\n",
       "      <td>0</td>\n",
       "      <td>3.7</td>\n",
       "    </tr>\n",
       "    <tr>\n",
       "      <th>911</th>\n",
       "      <td>2023-12-01</td>\n",
       "      <td>22679.255</td>\n",
       "      <td>3.4</td>\n",
       "      <td>0</td>\n",
       "      <td>3.7</td>\n",
       "    </tr>\n",
       "    <tr>\n",
       "      <th>912</th>\n",
       "      <td>2024-01-01</td>\n",
       "      <td>22758.752</td>\n",
       "      <td>1.4</td>\n",
       "      <td>0</td>\n",
       "      <td>3.7</td>\n",
       "    </tr>\n",
       "    <tr>\n",
       "      <th>913</th>\n",
       "      <td>2024-02-01</td>\n",
       "      <td>22758.752</td>\n",
       "      <td>1.4</td>\n",
       "      <td>0</td>\n",
       "      <td>3.9</td>\n",
       "    </tr>\n",
       "    <tr>\n",
       "      <th>914</th>\n",
       "      <td>2024-03-01</td>\n",
       "      <td>22758.752</td>\n",
       "      <td>1.4</td>\n",
       "      <td>0</td>\n",
       "      <td>3.8</td>\n",
       "    </tr>\n",
       "  </tbody>\n",
       "</table>\n",
       "</div>"
      ],
      "text/plain": [
       "          Date        GDP  GDP rate  Recession dates  Unemployment\n",
       "910 2023-11-01  22679.255       3.4                0           3.7\n",
       "911 2023-12-01  22679.255       3.4                0           3.7\n",
       "912 2024-01-01  22758.752       1.4                0           3.7\n",
       "913 2024-02-01  22758.752       1.4                0           3.9\n",
       "914 2024-03-01  22758.752       1.4                0           3.8"
      ]
     },
     "execution_count": 140,
     "metadata": {},
     "output_type": "execute_result"
    },
    {
     "data": {
      "text/plain": [
       "(915, 5)"
      ]
     },
     "execution_count": 140,
     "metadata": {},
     "output_type": "execute_result"
    }
   ],
   "source": [
    "df['Unemployment'] = df_unempl['Percentage']\n",
    "df.head()\n",
    "df.tail()\n",
    "df.shape"
   ]
  },
  {
   "cell_type": "markdown",
   "id": "8060dafd-524c-42d0-a6c8-49b6e39e298f",
   "metadata": {},
   "source": [
    "Merge Industrial production index"
   ]
  },
  {
   "cell_type": "code",
   "execution_count": 141,
   "id": "471e970f-f932-4eeb-ad66-a991527674af",
   "metadata": {
    "tags": []
   },
   "outputs": [
    {
     "data": {
      "text/html": [
       "<div>\n",
       "<style scoped>\n",
       "    .dataframe tbody tr th:only-of-type {\n",
       "        vertical-align: middle;\n",
       "    }\n",
       "\n",
       "    .dataframe tbody tr th {\n",
       "        vertical-align: top;\n",
       "    }\n",
       "\n",
       "    .dataframe thead th {\n",
       "        text-align: right;\n",
       "    }\n",
       "</style>\n",
       "<table border=\"1\" class=\"dataframe\">\n",
       "  <thead>\n",
       "    <tr style=\"text-align: right;\">\n",
       "      <th></th>\n",
       "      <th>IP Index</th>\n",
       "      <th>Date</th>\n",
       "    </tr>\n",
       "  </thead>\n",
       "  <tbody>\n",
       "    <tr>\n",
       "      <th>348</th>\n",
       "      <td>14.3274</td>\n",
       "      <td>1948-01-01</td>\n",
       "    </tr>\n",
       "  </tbody>\n",
       "</table>\n",
       "</div>"
      ],
      "text/plain": [
       "     IP Index       Date\n",
       "348   14.3274 1948-01-01"
      ]
     },
     "execution_count": 141,
     "metadata": {},
     "output_type": "execute_result"
    }
   ],
   "source": [
    "df_ind_2.loc[df_ind_2['Date'] == '1948-01-01']"
   ]
  },
  {
   "cell_type": "code",
   "execution_count": 142,
   "id": "ae8b1cd5-66bf-4050-8208-968e17a83d42",
   "metadata": {
    "tags": []
   },
   "outputs": [
    {
     "data": {
      "text/html": [
       "<div>\n",
       "<style scoped>\n",
       "    .dataframe tbody tr th:only-of-type {\n",
       "        vertical-align: middle;\n",
       "    }\n",
       "\n",
       "    .dataframe tbody tr th {\n",
       "        vertical-align: top;\n",
       "    }\n",
       "\n",
       "    .dataframe thead th {\n",
       "        text-align: right;\n",
       "    }\n",
       "</style>\n",
       "<table border=\"1\" class=\"dataframe\">\n",
       "  <thead>\n",
       "    <tr style=\"text-align: right;\">\n",
       "      <th></th>\n",
       "      <th>IP Index</th>\n",
       "      <th>Date</th>\n",
       "    </tr>\n",
       "  </thead>\n",
       "  <tbody>\n",
       "    <tr>\n",
       "      <th>348</th>\n",
       "      <td>14.3274</td>\n",
       "      <td>1948-01-01</td>\n",
       "    </tr>\n",
       "    <tr>\n",
       "      <th>349</th>\n",
       "      <td>14.3543</td>\n",
       "      <td>1948-02-01</td>\n",
       "    </tr>\n",
       "    <tr>\n",
       "      <th>350</th>\n",
       "      <td>14.1931</td>\n",
       "      <td>1948-03-01</td>\n",
       "    </tr>\n",
       "    <tr>\n",
       "      <th>351</th>\n",
       "      <td>14.2199</td>\n",
       "      <td>1948-04-01</td>\n",
       "    </tr>\n",
       "    <tr>\n",
       "      <th>352</th>\n",
       "      <td>14.4618</td>\n",
       "      <td>1948-05-01</td>\n",
       "    </tr>\n",
       "    <tr>\n",
       "      <th>...</th>\n",
       "      <td>...</td>\n",
       "      <td>...</td>\n",
       "    </tr>\n",
       "    <tr>\n",
       "      <th>1258</th>\n",
       "      <td>102.8868</td>\n",
       "      <td>2023-11-01</td>\n",
       "    </tr>\n",
       "    <tr>\n",
       "      <th>1259</th>\n",
       "      <td>102.6309</td>\n",
       "      <td>2023-12-01</td>\n",
       "    </tr>\n",
       "    <tr>\n",
       "      <th>1260</th>\n",
       "      <td>101.4830</td>\n",
       "      <td>2024-01-01</td>\n",
       "    </tr>\n",
       "    <tr>\n",
       "      <th>1261</th>\n",
       "      <td>102.6045</td>\n",
       "      <td>2024-02-01</td>\n",
       "    </tr>\n",
       "    <tr>\n",
       "      <th>1262</th>\n",
       "      <td>102.4062</td>\n",
       "      <td>2024-03-01</td>\n",
       "    </tr>\n",
       "  </tbody>\n",
       "</table>\n",
       "<p>915 rows × 2 columns</p>\n",
       "</div>"
      ],
      "text/plain": [
       "      IP Index       Date\n",
       "348    14.3274 1948-01-01\n",
       "349    14.3543 1948-02-01\n",
       "350    14.1931 1948-03-01\n",
       "351    14.2199 1948-04-01\n",
       "352    14.4618 1948-05-01\n",
       "...        ...        ...\n",
       "1258  102.8868 2023-11-01\n",
       "1259  102.6309 2023-12-01\n",
       "1260  101.4830 2024-01-01\n",
       "1261  102.6045 2024-02-01\n",
       "1262  102.4062 2024-03-01\n",
       "\n",
       "[915 rows x 2 columns]"
      ]
     },
     "execution_count": 142,
     "metadata": {},
     "output_type": "execute_result"
    }
   ],
   "source": [
    "df_ind_2.iloc[348:-3]"
   ]
  },
  {
   "cell_type": "code",
   "execution_count": 143,
   "id": "116d887a-cd03-4cf4-a998-c23e6994fe31",
   "metadata": {
    "tags": []
   },
   "outputs": [],
   "source": [
    "df_copy = df.copy()"
   ]
  },
  {
   "cell_type": "code",
   "execution_count": 144,
   "id": "bcb6b3b3-3be4-495b-8882-3dcc7dc6080e",
   "metadata": {
    "tags": []
   },
   "outputs": [],
   "source": [
    "df['Ind.Prod. index'] = df_ind_2['IP Index']"
   ]
  },
  {
   "cell_type": "code",
   "execution_count": 145,
   "id": "a3ae3714-2aa7-44bb-b67e-110652cc3544",
   "metadata": {
    "tags": []
   },
   "outputs": [
    {
     "data": {
      "text/html": [
       "<div>\n",
       "<style scoped>\n",
       "    .dataframe tbody tr th:only-of-type {\n",
       "        vertical-align: middle;\n",
       "    }\n",
       "\n",
       "    .dataframe tbody tr th {\n",
       "        vertical-align: top;\n",
       "    }\n",
       "\n",
       "    .dataframe thead th {\n",
       "        text-align: right;\n",
       "    }\n",
       "</style>\n",
       "<table border=\"1\" class=\"dataframe\">\n",
       "  <thead>\n",
       "    <tr style=\"text-align: right;\">\n",
       "      <th></th>\n",
       "      <th>Date</th>\n",
       "      <th>GDP</th>\n",
       "      <th>GDP rate</th>\n",
       "      <th>Recession dates</th>\n",
       "      <th>Unemployment</th>\n",
       "      <th>Ind.Prod. index</th>\n",
       "    </tr>\n",
       "  </thead>\n",
       "  <tbody>\n",
       "    <tr>\n",
       "      <th>0</th>\n",
       "      <td>1948-01-01</td>\n",
       "      <td>2239.682</td>\n",
       "      <td>6.2</td>\n",
       "      <td>0</td>\n",
       "      <td>3.4</td>\n",
       "      <td>4.8654</td>\n",
       "    </tr>\n",
       "    <tr>\n",
       "      <th>1</th>\n",
       "      <td>1948-02-01</td>\n",
       "      <td>2239.682</td>\n",
       "      <td>6.2</td>\n",
       "      <td>0</td>\n",
       "      <td>3.8</td>\n",
       "      <td>4.6504</td>\n",
       "    </tr>\n",
       "    <tr>\n",
       "      <th>2</th>\n",
       "      <td>1948-03-01</td>\n",
       "      <td>2239.682</td>\n",
       "      <td>6.2</td>\n",
       "      <td>0</td>\n",
       "      <td>4.0</td>\n",
       "      <td>4.5160</td>\n",
       "    </tr>\n",
       "    <tr>\n",
       "      <th>3</th>\n",
       "      <td>1948-04-01</td>\n",
       "      <td>2276.690</td>\n",
       "      <td>6.8</td>\n",
       "      <td>0</td>\n",
       "      <td>3.9</td>\n",
       "      <td>4.5966</td>\n",
       "    </tr>\n",
       "    <tr>\n",
       "      <th>4</th>\n",
       "      <td>1948-05-01</td>\n",
       "      <td>2276.690</td>\n",
       "      <td>6.8</td>\n",
       "      <td>0</td>\n",
       "      <td>3.5</td>\n",
       "      <td>4.6235</td>\n",
       "    </tr>\n",
       "  </tbody>\n",
       "</table>\n",
       "</div>"
      ],
      "text/plain": [
       "        Date       GDP  GDP rate  Recession dates  Unemployment  \\\n",
       "0 1948-01-01  2239.682       6.2                0           3.4   \n",
       "1 1948-02-01  2239.682       6.2                0           3.8   \n",
       "2 1948-03-01  2239.682       6.2                0           4.0   \n",
       "3 1948-04-01  2276.690       6.8                0           3.9   \n",
       "4 1948-05-01  2276.690       6.8                0           3.5   \n",
       "\n",
       "   Ind.Prod. index  \n",
       "0           4.8654  \n",
       "1           4.6504  \n",
       "2           4.5160  \n",
       "3           4.5966  \n",
       "4           4.6235  "
      ]
     },
     "execution_count": 145,
     "metadata": {},
     "output_type": "execute_result"
    }
   ],
   "source": [
    "df.head()"
   ]
  },
  {
   "cell_type": "markdown",
   "id": "ce0d41e1-77e1-4c68-862a-a94be0955be2",
   "metadata": {},
   "source": [
    "Merge Dow Jones"
   ]
  },
  {
   "cell_type": "code",
   "execution_count": 146,
   "id": "4eff02cc-5c90-4b60-b74c-da34d89a46a4",
   "metadata": {
    "tags": []
   },
   "outputs": [],
   "source": [
    "df_copy = df.copy()"
   ]
  },
  {
   "cell_type": "code",
   "execution_count": 147,
   "id": "9159e08e-ba23-4aa5-abb4-1b317b7be387",
   "metadata": {
    "tags": []
   },
   "outputs": [
    {
     "data": {
      "text/html": [
       "<div>\n",
       "<style scoped>\n",
       "    .dataframe tbody tr th:only-of-type {\n",
       "        vertical-align: middle;\n",
       "    }\n",
       "\n",
       "    .dataframe tbody tr th {\n",
       "        vertical-align: top;\n",
       "    }\n",
       "\n",
       "    .dataframe thead th {\n",
       "        text-align: right;\n",
       "    }\n",
       "</style>\n",
       "<table border=\"1\" class=\"dataframe\">\n",
       "  <thead>\n",
       "    <tr style=\"text-align: right;\">\n",
       "      <th></th>\n",
       "      <th>Date</th>\n",
       "      <th>GDP</th>\n",
       "      <th>GDP rate</th>\n",
       "      <th>Recession dates</th>\n",
       "      <th>Unemployment</th>\n",
       "      <th>Ind.Prod. index</th>\n",
       "      <th>DJI</th>\n",
       "    </tr>\n",
       "  </thead>\n",
       "  <tbody>\n",
       "    <tr>\n",
       "      <th>0</th>\n",
       "      <td>1948-01-01</td>\n",
       "      <td>2239.682</td>\n",
       "      <td>6.2</td>\n",
       "      <td>0</td>\n",
       "      <td>3.4</td>\n",
       "      <td>4.8654</td>\n",
       "      <td>176.26</td>\n",
       "    </tr>\n",
       "    <tr>\n",
       "      <th>1</th>\n",
       "      <td>1948-02-01</td>\n",
       "      <td>2239.682</td>\n",
       "      <td>6.2</td>\n",
       "      <td>0</td>\n",
       "      <td>3.8</td>\n",
       "      <td>4.6504</td>\n",
       "      <td>168.47</td>\n",
       "    </tr>\n",
       "    <tr>\n",
       "      <th>2</th>\n",
       "      <td>1948-03-01</td>\n",
       "      <td>2239.682</td>\n",
       "      <td>6.2</td>\n",
       "      <td>0</td>\n",
       "      <td>4.0</td>\n",
       "      <td>4.5160</td>\n",
       "      <td>169.94</td>\n",
       "    </tr>\n",
       "    <tr>\n",
       "      <th>3</th>\n",
       "      <td>1948-04-01</td>\n",
       "      <td>2276.690</td>\n",
       "      <td>6.8</td>\n",
       "      <td>0</td>\n",
       "      <td>3.9</td>\n",
       "      <td>4.5966</td>\n",
       "      <td>180.05</td>\n",
       "    </tr>\n",
       "    <tr>\n",
       "      <th>4</th>\n",
       "      <td>1948-05-01</td>\n",
       "      <td>2276.690</td>\n",
       "      <td>6.8</td>\n",
       "      <td>0</td>\n",
       "      <td>3.5</td>\n",
       "      <td>4.6235</td>\n",
       "      <td>186.38</td>\n",
       "    </tr>\n",
       "  </tbody>\n",
       "</table>\n",
       "</div>"
      ],
      "text/plain": [
       "        Date       GDP  GDP rate  Recession dates  Unemployment  \\\n",
       "0 1948-01-01  2239.682       6.2                0           3.4   \n",
       "1 1948-02-01  2239.682       6.2                0           3.8   \n",
       "2 1948-03-01  2239.682       6.2                0           4.0   \n",
       "3 1948-04-01  2276.690       6.8                0           3.9   \n",
       "4 1948-05-01  2276.690       6.8                0           3.5   \n",
       "\n",
       "   Ind.Prod. index     DJI  \n",
       "0           4.8654  176.26  \n",
       "1           4.6504  168.47  \n",
       "2           4.5160  169.94  \n",
       "3           4.5966  180.05  \n",
       "4           4.6235  186.38  "
      ]
     },
     "execution_count": 147,
     "metadata": {},
     "output_type": "execute_result"
    }
   ],
   "source": [
    "df['DJI'] = d['DJI']\n",
    "df.head()"
   ]
  },
  {
   "cell_type": "markdown",
   "id": "5432d4c1-9404-455f-8f0d-34b024e2dfca",
   "metadata": {
    "tags": []
   },
   "source": [
    "Yield curve data"
   ]
  },
  {
   "cell_type": "code",
   "execution_count": 148,
   "id": "95126704-d332-43ff-b482-a0db32a17d28",
   "metadata": {
    "tags": []
   },
   "outputs": [],
   "source": [
    "df_copy = df.copy()"
   ]
  },
  {
   "cell_type": "code",
   "execution_count": 149,
   "id": "8ee117fb-6a59-466f-9ce2-99da34533da9",
   "metadata": {
    "tags": []
   },
   "outputs": [
    {
     "data": {
      "text/html": [
       "<div>\n",
       "<style scoped>\n",
       "    .dataframe tbody tr th:only-of-type {\n",
       "        vertical-align: middle;\n",
       "    }\n",
       "\n",
       "    .dataframe tbody tr th {\n",
       "        vertical-align: top;\n",
       "    }\n",
       "\n",
       "    .dataframe thead th {\n",
       "        text-align: right;\n",
       "    }\n",
       "</style>\n",
       "<table border=\"1\" class=\"dataframe\">\n",
       "  <thead>\n",
       "    <tr style=\"text-align: right;\">\n",
       "      <th></th>\n",
       "      <th>Date</th>\n",
       "      <th>GDP</th>\n",
       "      <th>GDP rate</th>\n",
       "      <th>Recession dates</th>\n",
       "      <th>Unemployment</th>\n",
       "      <th>Ind.Prod. index</th>\n",
       "      <th>DJI</th>\n",
       "      <th>T-bill</th>\n",
       "    </tr>\n",
       "  </thead>\n",
       "  <tbody>\n",
       "    <tr>\n",
       "      <th>0</th>\n",
       "      <td>1948-01-01</td>\n",
       "      <td>2239.682</td>\n",
       "      <td>6.2</td>\n",
       "      <td>0</td>\n",
       "      <td>3.4</td>\n",
       "      <td>4.8654</td>\n",
       "      <td>176.26</td>\n",
       "      <td>0.97</td>\n",
       "    </tr>\n",
       "    <tr>\n",
       "      <th>1</th>\n",
       "      <td>1948-02-01</td>\n",
       "      <td>2239.682</td>\n",
       "      <td>6.2</td>\n",
       "      <td>0</td>\n",
       "      <td>3.8</td>\n",
       "      <td>4.6504</td>\n",
       "      <td>168.47</td>\n",
       "      <td>1.00</td>\n",
       "    </tr>\n",
       "    <tr>\n",
       "      <th>2</th>\n",
       "      <td>1948-03-01</td>\n",
       "      <td>2239.682</td>\n",
       "      <td>6.2</td>\n",
       "      <td>0</td>\n",
       "      <td>4.0</td>\n",
       "      <td>4.5160</td>\n",
       "      <td>169.94</td>\n",
       "      <td>1.00</td>\n",
       "    </tr>\n",
       "    <tr>\n",
       "      <th>3</th>\n",
       "      <td>1948-04-01</td>\n",
       "      <td>2276.690</td>\n",
       "      <td>6.8</td>\n",
       "      <td>0</td>\n",
       "      <td>3.9</td>\n",
       "      <td>4.5966</td>\n",
       "      <td>180.05</td>\n",
       "      <td>1.00</td>\n",
       "    </tr>\n",
       "    <tr>\n",
       "      <th>4</th>\n",
       "      <td>1948-05-01</td>\n",
       "      <td>2276.690</td>\n",
       "      <td>6.8</td>\n",
       "      <td>0</td>\n",
       "      <td>3.5</td>\n",
       "      <td>4.6235</td>\n",
       "      <td>186.38</td>\n",
       "      <td>1.00</td>\n",
       "    </tr>\n",
       "  </tbody>\n",
       "</table>\n",
       "</div>"
      ],
      "text/plain": [
       "        Date       GDP  GDP rate  Recession dates  Unemployment  \\\n",
       "0 1948-01-01  2239.682       6.2                0           3.4   \n",
       "1 1948-02-01  2239.682       6.2                0           3.8   \n",
       "2 1948-03-01  2239.682       6.2                0           4.0   \n",
       "3 1948-04-01  2276.690       6.8                0           3.9   \n",
       "4 1948-05-01  2276.690       6.8                0           3.5   \n",
       "\n",
       "   Ind.Prod. index     DJI  T-bill  \n",
       "0           4.8654  176.26    0.97  \n",
       "1           4.6504  168.47    1.00  \n",
       "2           4.5160  169.94    1.00  \n",
       "3           4.5966  180.05    1.00  \n",
       "4           4.6235  186.38    1.00  "
      ]
     },
     "execution_count": 149,
     "metadata": {},
     "output_type": "execute_result"
    }
   ],
   "source": [
    "df['T-bill'] = df_yield['TB3MS']\n",
    "df.head()"
   ]
  },
  {
   "cell_type": "markdown",
   "id": "b4ab98cf-80b4-456f-a288-f2f0c0dc2db9",
   "metadata": {},
   "source": [
    "Merge the Housing started data"
   ]
  },
  {
   "cell_type": "code",
   "execution_count": 150,
   "id": "2d77a384-9b6c-4764-961a-8cacfc1334a3",
   "metadata": {
    "tags": []
   },
   "outputs": [],
   "source": [
    "df_copy = df.copy()"
   ]
  },
  {
   "cell_type": "code",
   "execution_count": 151,
   "id": "c4ebdab5-1f92-4143-bbb8-1c5302c4549c",
   "metadata": {
    "tags": []
   },
   "outputs": [
    {
     "data": {
      "text/html": [
       "<div>\n",
       "<style scoped>\n",
       "    .dataframe tbody tr th:only-of-type {\n",
       "        vertical-align: middle;\n",
       "    }\n",
       "\n",
       "    .dataframe tbody tr th {\n",
       "        vertical-align: top;\n",
       "    }\n",
       "\n",
       "    .dataframe thead th {\n",
       "        text-align: right;\n",
       "    }\n",
       "</style>\n",
       "<table border=\"1\" class=\"dataframe\">\n",
       "  <thead>\n",
       "    <tr style=\"text-align: right;\">\n",
       "      <th></th>\n",
       "      <th>Date</th>\n",
       "      <th>GDP</th>\n",
       "      <th>GDP rate</th>\n",
       "      <th>Recession dates</th>\n",
       "      <th>Unemployment</th>\n",
       "      <th>Ind.Prod. index</th>\n",
       "      <th>DJI</th>\n",
       "      <th>T-bill</th>\n",
       "      <th>Housing starts</th>\n",
       "    </tr>\n",
       "  </thead>\n",
       "  <tbody>\n",
       "    <tr>\n",
       "      <th>0</th>\n",
       "      <td>1948-01-01</td>\n",
       "      <td>2239.682</td>\n",
       "      <td>6.2</td>\n",
       "      <td>0</td>\n",
       "      <td>3.4</td>\n",
       "      <td>4.8654</td>\n",
       "      <td>176.26</td>\n",
       "      <td>0.97</td>\n",
       "      <td>1362.0</td>\n",
       "    </tr>\n",
       "    <tr>\n",
       "      <th>1</th>\n",
       "      <td>1948-02-01</td>\n",
       "      <td>2239.682</td>\n",
       "      <td>6.2</td>\n",
       "      <td>0</td>\n",
       "      <td>3.8</td>\n",
       "      <td>4.6504</td>\n",
       "      <td>168.47</td>\n",
       "      <td>1.00</td>\n",
       "      <td>1362.0</td>\n",
       "    </tr>\n",
       "    <tr>\n",
       "      <th>2</th>\n",
       "      <td>1948-03-01</td>\n",
       "      <td>2239.682</td>\n",
       "      <td>6.2</td>\n",
       "      <td>0</td>\n",
       "      <td>4.0</td>\n",
       "      <td>4.5160</td>\n",
       "      <td>169.94</td>\n",
       "      <td>1.00</td>\n",
       "      <td>1362.0</td>\n",
       "    </tr>\n",
       "    <tr>\n",
       "      <th>3</th>\n",
       "      <td>1948-04-01</td>\n",
       "      <td>2276.690</td>\n",
       "      <td>6.8</td>\n",
       "      <td>0</td>\n",
       "      <td>3.9</td>\n",
       "      <td>4.5966</td>\n",
       "      <td>180.05</td>\n",
       "      <td>1.00</td>\n",
       "      <td>1362.0</td>\n",
       "    </tr>\n",
       "    <tr>\n",
       "      <th>4</th>\n",
       "      <td>1948-05-01</td>\n",
       "      <td>2276.690</td>\n",
       "      <td>6.8</td>\n",
       "      <td>0</td>\n",
       "      <td>3.5</td>\n",
       "      <td>4.6235</td>\n",
       "      <td>186.38</td>\n",
       "      <td>1.00</td>\n",
       "      <td>1362.0</td>\n",
       "    </tr>\n",
       "  </tbody>\n",
       "</table>\n",
       "</div>"
      ],
      "text/plain": [
       "        Date       GDP  GDP rate  Recession dates  Unemployment  \\\n",
       "0 1948-01-01  2239.682       6.2                0           3.4   \n",
       "1 1948-02-01  2239.682       6.2                0           3.8   \n",
       "2 1948-03-01  2239.682       6.2                0           4.0   \n",
       "3 1948-04-01  2276.690       6.8                0           3.9   \n",
       "4 1948-05-01  2276.690       6.8                0           3.5   \n",
       "\n",
       "   Ind.Prod. index     DJI  T-bill  Housing starts  \n",
       "0           4.8654  176.26    0.97          1362.0  \n",
       "1           4.6504  168.47    1.00          1362.0  \n",
       "2           4.5160  169.94    1.00          1362.0  \n",
       "3           4.5966  180.05    1.00          1362.0  \n",
       "4           4.6235  186.38    1.00          1362.0  "
      ]
     },
     "execution_count": 151,
     "metadata": {},
     "output_type": "execute_result"
    }
   ],
   "source": [
    "df['Housing starts'] = df_hstart_combines['Total']\n",
    "df.head()"
   ]
  },
  {
   "cell_type": "markdown",
   "id": "360ef479-5993-40a5-9664-f618d1d5650e",
   "metadata": {},
   "source": [
    "Merge House price index"
   ]
  },
  {
   "cell_type": "code",
   "execution_count": 152,
   "id": "0bce6444-6448-4554-b0a5-f98a788354e1",
   "metadata": {
    "tags": []
   },
   "outputs": [],
   "source": [
    "df_copy = df.copy()"
   ]
  },
  {
   "cell_type": "code",
   "execution_count": 153,
   "id": "ee15770f-a070-4ca3-8767-dc9a911d088f",
   "metadata": {
    "tags": []
   },
   "outputs": [
    {
     "data": {
      "text/html": [
       "<div>\n",
       "<style scoped>\n",
       "    .dataframe tbody tr th:only-of-type {\n",
       "        vertical-align: middle;\n",
       "    }\n",
       "\n",
       "    .dataframe tbody tr th {\n",
       "        vertical-align: top;\n",
       "    }\n",
       "\n",
       "    .dataframe thead th {\n",
       "        text-align: right;\n",
       "    }\n",
       "</style>\n",
       "<table border=\"1\" class=\"dataframe\">\n",
       "  <thead>\n",
       "    <tr style=\"text-align: right;\">\n",
       "      <th></th>\n",
       "      <th>Date</th>\n",
       "      <th>GDP</th>\n",
       "      <th>GDP rate</th>\n",
       "      <th>Recession dates</th>\n",
       "      <th>Unemployment</th>\n",
       "      <th>Ind.Prod. index</th>\n",
       "      <th>DJI</th>\n",
       "      <th>T-bill</th>\n",
       "      <th>Housing starts</th>\n",
       "      <th>House price index</th>\n",
       "    </tr>\n",
       "  </thead>\n",
       "  <tbody>\n",
       "    <tr>\n",
       "      <th>0</th>\n",
       "      <td>1948-01-01</td>\n",
       "      <td>2239.682</td>\n",
       "      <td>6.2</td>\n",
       "      <td>0</td>\n",
       "      <td>3.4</td>\n",
       "      <td>4.8654</td>\n",
       "      <td>176.26</td>\n",
       "      <td>0.97</td>\n",
       "      <td>1362.0</td>\n",
       "      <td>11.211582</td>\n",
       "    </tr>\n",
       "    <tr>\n",
       "      <th>1</th>\n",
       "      <td>1948-02-01</td>\n",
       "      <td>2239.682</td>\n",
       "      <td>6.2</td>\n",
       "      <td>0</td>\n",
       "      <td>3.8</td>\n",
       "      <td>4.6504</td>\n",
       "      <td>168.47</td>\n",
       "      <td>1.00</td>\n",
       "      <td>1362.0</td>\n",
       "      <td>11.211582</td>\n",
       "    </tr>\n",
       "    <tr>\n",
       "      <th>2</th>\n",
       "      <td>1948-03-01</td>\n",
       "      <td>2239.682</td>\n",
       "      <td>6.2</td>\n",
       "      <td>0</td>\n",
       "      <td>4.0</td>\n",
       "      <td>4.5160</td>\n",
       "      <td>169.94</td>\n",
       "      <td>1.00</td>\n",
       "      <td>1362.0</td>\n",
       "      <td>11.211582</td>\n",
       "    </tr>\n",
       "    <tr>\n",
       "      <th>3</th>\n",
       "      <td>1948-04-01</td>\n",
       "      <td>2276.690</td>\n",
       "      <td>6.8</td>\n",
       "      <td>0</td>\n",
       "      <td>3.9</td>\n",
       "      <td>4.5966</td>\n",
       "      <td>180.05</td>\n",
       "      <td>1.00</td>\n",
       "      <td>1362.0</td>\n",
       "      <td>11.211582</td>\n",
       "    </tr>\n",
       "    <tr>\n",
       "      <th>4</th>\n",
       "      <td>1948-05-01</td>\n",
       "      <td>2276.690</td>\n",
       "      <td>6.8</td>\n",
       "      <td>0</td>\n",
       "      <td>3.5</td>\n",
       "      <td>4.6235</td>\n",
       "      <td>186.38</td>\n",
       "      <td>1.00</td>\n",
       "      <td>1362.0</td>\n",
       "      <td>11.211582</td>\n",
       "    </tr>\n",
       "  </tbody>\n",
       "</table>\n",
       "</div>"
      ],
      "text/plain": [
       "        Date       GDP  GDP rate  Recession dates  Unemployment  \\\n",
       "0 1948-01-01  2239.682       6.2                0           3.4   \n",
       "1 1948-02-01  2239.682       6.2                0           3.8   \n",
       "2 1948-03-01  2239.682       6.2                0           4.0   \n",
       "3 1948-04-01  2276.690       6.8                0           3.9   \n",
       "4 1948-05-01  2276.690       6.8                0           3.5   \n",
       "\n",
       "   Ind.Prod. index     DJI  T-bill  Housing starts  House price index  \n",
       "0           4.8654  176.26    0.97          1362.0          11.211582  \n",
       "1           4.6504  168.47    1.00          1362.0          11.211582  \n",
       "2           4.5160  169.94    1.00          1362.0          11.211582  \n",
       "3           4.5966  180.05    1.00          1362.0          11.211582  \n",
       "4           4.6235  186.38    1.00          1362.0          11.211582  "
      ]
     },
     "execution_count": 153,
     "metadata": {},
     "output_type": "execute_result"
    }
   ],
   "source": [
    "df['House price index'] = df_hpi_combine['Nominal Home Price Index']\n",
    "df.head()"
   ]
  },
  {
   "cell_type": "markdown",
   "id": "1a94526c-8f52-4109-b92f-1b753d4ee4f1",
   "metadata": {
    "tags": []
   },
   "source": [
    "Merge credit data, consumer loans"
   ]
  },
  {
   "cell_type": "code",
   "execution_count": 154,
   "id": "89ddddb8-3a1b-49ae-be75-8742aeb85318",
   "metadata": {
    "tags": []
   },
   "outputs": [],
   "source": [
    "df_copy = df.copy()"
   ]
  },
  {
   "cell_type": "code",
   "execution_count": 155,
   "id": "8a999f35-8eca-43e9-bbde-ecb1f55cb698",
   "metadata": {
    "tags": []
   },
   "outputs": [
    {
     "data": {
      "text/html": [
       "<div>\n",
       "<style scoped>\n",
       "    .dataframe tbody tr th:only-of-type {\n",
       "        vertical-align: middle;\n",
       "    }\n",
       "\n",
       "    .dataframe tbody tr th {\n",
       "        vertical-align: top;\n",
       "    }\n",
       "\n",
       "    .dataframe thead th {\n",
       "        text-align: right;\n",
       "    }\n",
       "</style>\n",
       "<table border=\"1\" class=\"dataframe\">\n",
       "  <thead>\n",
       "    <tr style=\"text-align: right;\">\n",
       "      <th></th>\n",
       "      <th>Date</th>\n",
       "      <th>GDP</th>\n",
       "      <th>GDP rate</th>\n",
       "      <th>Recession dates</th>\n",
       "      <th>Unemployment</th>\n",
       "      <th>Ind.Prod. index</th>\n",
       "      <th>DJI</th>\n",
       "      <th>T-bill</th>\n",
       "      <th>Housing starts</th>\n",
       "      <th>House price index</th>\n",
       "      <th>Consumer loans</th>\n",
       "    </tr>\n",
       "  </thead>\n",
       "  <tbody>\n",
       "    <tr>\n",
       "      <th>0</th>\n",
       "      <td>1948-01-01</td>\n",
       "      <td>2239.682</td>\n",
       "      <td>6.2</td>\n",
       "      <td>0</td>\n",
       "      <td>3.4</td>\n",
       "      <td>4.8654</td>\n",
       "      <td>176.26</td>\n",
       "      <td>0.97</td>\n",
       "      <td>1362.0</td>\n",
       "      <td>11.211582</td>\n",
       "      <td>5.7786</td>\n",
       "    </tr>\n",
       "    <tr>\n",
       "      <th>1</th>\n",
       "      <td>1948-02-01</td>\n",
       "      <td>2239.682</td>\n",
       "      <td>6.2</td>\n",
       "      <td>0</td>\n",
       "      <td>3.8</td>\n",
       "      <td>4.6504</td>\n",
       "      <td>168.47</td>\n",
       "      <td>1.00</td>\n",
       "      <td>1362.0</td>\n",
       "      <td>11.211582</td>\n",
       "      <td>5.9030</td>\n",
       "    </tr>\n",
       "    <tr>\n",
       "      <th>2</th>\n",
       "      <td>1948-03-01</td>\n",
       "      <td>2239.682</td>\n",
       "      <td>6.2</td>\n",
       "      <td>0</td>\n",
       "      <td>4.0</td>\n",
       "      <td>4.5160</td>\n",
       "      <td>169.94</td>\n",
       "      <td>1.00</td>\n",
       "      <td>1362.0</td>\n",
       "      <td>11.211582</td>\n",
       "      <td>6.0272</td>\n",
       "    </tr>\n",
       "    <tr>\n",
       "      <th>3</th>\n",
       "      <td>1948-04-01</td>\n",
       "      <td>2276.690</td>\n",
       "      <td>6.8</td>\n",
       "      <td>0</td>\n",
       "      <td>3.9</td>\n",
       "      <td>4.5966</td>\n",
       "      <td>180.05</td>\n",
       "      <td>1.00</td>\n",
       "      <td>1362.0</td>\n",
       "      <td>11.211582</td>\n",
       "      <td>6.1559</td>\n",
       "    </tr>\n",
       "    <tr>\n",
       "      <th>4</th>\n",
       "      <td>1948-05-01</td>\n",
       "      <td>2276.690</td>\n",
       "      <td>6.8</td>\n",
       "      <td>0</td>\n",
       "      <td>3.5</td>\n",
       "      <td>4.6235</td>\n",
       "      <td>186.38</td>\n",
       "      <td>1.00</td>\n",
       "      <td>1362.0</td>\n",
       "      <td>11.211582</td>\n",
       "      <td>6.2822</td>\n",
       "    </tr>\n",
       "  </tbody>\n",
       "</table>\n",
       "</div>"
      ],
      "text/plain": [
       "        Date       GDP  GDP rate  Recession dates  Unemployment  \\\n",
       "0 1948-01-01  2239.682       6.2                0           3.4   \n",
       "1 1948-02-01  2239.682       6.2                0           3.8   \n",
       "2 1948-03-01  2239.682       6.2                0           4.0   \n",
       "3 1948-04-01  2276.690       6.8                0           3.9   \n",
       "4 1948-05-01  2276.690       6.8                0           3.5   \n",
       "\n",
       "   Ind.Prod. index     DJI  T-bill  Housing starts  House price index  \\\n",
       "0           4.8654  176.26    0.97          1362.0          11.211582   \n",
       "1           4.6504  168.47    1.00          1362.0          11.211582   \n",
       "2           4.5160  169.94    1.00          1362.0          11.211582   \n",
       "3           4.5966  180.05    1.00          1362.0          11.211582   \n",
       "4           4.6235  186.38    1.00          1362.0          11.211582   \n",
       "\n",
       "   Consumer loans  \n",
       "0          5.7786  \n",
       "1          5.9030  \n",
       "2          6.0272  \n",
       "3          6.1559  \n",
       "4          6.2822  "
      ]
     },
     "execution_count": 155,
     "metadata": {},
     "output_type": "execute_result"
    }
   ],
   "source": [
    "df['Consumer loans'] = df_cloans['CONSUMER']\n",
    "df.head()"
   ]
  },
  {
   "cell_type": "markdown",
   "id": "af9045e8-601a-4ec5-a827-721d51b56ea9",
   "metadata": {
    "tags": []
   },
   "source": [
    "Merge credit data, mortgage loans"
   ]
  },
  {
   "cell_type": "code",
   "execution_count": 156,
   "id": "8092dd53-bb4e-47a4-a7a7-5e494505081c",
   "metadata": {
    "tags": []
   },
   "outputs": [],
   "source": [
    "df_copy = df.copy()"
   ]
  },
  {
   "cell_type": "code",
   "execution_count": 157,
   "id": "ddb749da-0ac8-48c5-ae15-890dc6f6bacc",
   "metadata": {
    "tags": []
   },
   "outputs": [
    {
     "data": {
      "text/html": [
       "<div>\n",
       "<style scoped>\n",
       "    .dataframe tbody tr th:only-of-type {\n",
       "        vertical-align: middle;\n",
       "    }\n",
       "\n",
       "    .dataframe tbody tr th {\n",
       "        vertical-align: top;\n",
       "    }\n",
       "\n",
       "    .dataframe thead th {\n",
       "        text-align: right;\n",
       "    }\n",
       "</style>\n",
       "<table border=\"1\" class=\"dataframe\">\n",
       "  <thead>\n",
       "    <tr style=\"text-align: right;\">\n",
       "      <th></th>\n",
       "      <th>Date</th>\n",
       "      <th>GDP</th>\n",
       "      <th>GDP rate</th>\n",
       "      <th>Recession dates</th>\n",
       "      <th>Unemployment</th>\n",
       "      <th>Ind.Prod. index</th>\n",
       "      <th>DJI</th>\n",
       "      <th>T-bill</th>\n",
       "      <th>Housing starts</th>\n",
       "      <th>House price index</th>\n",
       "      <th>Consumer loans</th>\n",
       "      <th>Mortgage loans</th>\n",
       "    </tr>\n",
       "  </thead>\n",
       "  <tbody>\n",
       "    <tr>\n",
       "      <th>0</th>\n",
       "      <td>1948-01-01</td>\n",
       "      <td>2239.682</td>\n",
       "      <td>6.2</td>\n",
       "      <td>0</td>\n",
       "      <td>3.4</td>\n",
       "      <td>4.8654</td>\n",
       "      <td>176.26</td>\n",
       "      <td>0.97</td>\n",
       "      <td>1362.0</td>\n",
       "      <td>11.211582</td>\n",
       "      <td>5.7786</td>\n",
       "      <td>8.8194</td>\n",
       "    </tr>\n",
       "    <tr>\n",
       "      <th>1</th>\n",
       "      <td>1948-02-01</td>\n",
       "      <td>2239.682</td>\n",
       "      <td>6.2</td>\n",
       "      <td>0</td>\n",
       "      <td>3.8</td>\n",
       "      <td>4.6504</td>\n",
       "      <td>168.47</td>\n",
       "      <td>1.00</td>\n",
       "      <td>1362.0</td>\n",
       "      <td>11.211582</td>\n",
       "      <td>5.9030</td>\n",
       "      <td>8.9518</td>\n",
       "    </tr>\n",
       "    <tr>\n",
       "      <th>2</th>\n",
       "      <td>1948-03-01</td>\n",
       "      <td>2239.682</td>\n",
       "      <td>6.2</td>\n",
       "      <td>0</td>\n",
       "      <td>4.0</td>\n",
       "      <td>4.5160</td>\n",
       "      <td>169.94</td>\n",
       "      <td>1.00</td>\n",
       "      <td>1362.0</td>\n",
       "      <td>11.211582</td>\n",
       "      <td>6.0272</td>\n",
       "      <td>9.0946</td>\n",
       "    </tr>\n",
       "    <tr>\n",
       "      <th>3</th>\n",
       "      <td>1948-04-01</td>\n",
       "      <td>2276.690</td>\n",
       "      <td>6.8</td>\n",
       "      <td>0</td>\n",
       "      <td>3.9</td>\n",
       "      <td>4.5966</td>\n",
       "      <td>180.05</td>\n",
       "      <td>1.00</td>\n",
       "      <td>1362.0</td>\n",
       "      <td>11.211582</td>\n",
       "      <td>6.1559</td>\n",
       "      <td>9.2382</td>\n",
       "    </tr>\n",
       "    <tr>\n",
       "      <th>4</th>\n",
       "      <td>1948-05-01</td>\n",
       "      <td>2276.690</td>\n",
       "      <td>6.8</td>\n",
       "      <td>0</td>\n",
       "      <td>3.5</td>\n",
       "      <td>4.6235</td>\n",
       "      <td>186.38</td>\n",
       "      <td>1.00</td>\n",
       "      <td>1362.0</td>\n",
       "      <td>11.211582</td>\n",
       "      <td>6.2822</td>\n",
       "      <td>9.3782</td>\n",
       "    </tr>\n",
       "  </tbody>\n",
       "</table>\n",
       "</div>"
      ],
      "text/plain": [
       "        Date       GDP  GDP rate  Recession dates  Unemployment  \\\n",
       "0 1948-01-01  2239.682       6.2                0           3.4   \n",
       "1 1948-02-01  2239.682       6.2                0           3.8   \n",
       "2 1948-03-01  2239.682       6.2                0           4.0   \n",
       "3 1948-04-01  2276.690       6.8                0           3.9   \n",
       "4 1948-05-01  2276.690       6.8                0           3.5   \n",
       "\n",
       "   Ind.Prod. index     DJI  T-bill  Housing starts  House price index  \\\n",
       "0           4.8654  176.26    0.97          1362.0          11.211582   \n",
       "1           4.6504  168.47    1.00          1362.0          11.211582   \n",
       "2           4.5160  169.94    1.00          1362.0          11.211582   \n",
       "3           4.5966  180.05    1.00          1362.0          11.211582   \n",
       "4           4.6235  186.38    1.00          1362.0          11.211582   \n",
       "\n",
       "   Consumer loans  Mortgage loans  \n",
       "0          5.7786          8.8194  \n",
       "1          5.9030          8.9518  \n",
       "2          6.0272          9.0946  \n",
       "3          6.1559          9.2382  \n",
       "4          6.2822          9.3782  "
      ]
     },
     "execution_count": 157,
     "metadata": {},
     "output_type": "execute_result"
    }
   ],
   "source": [
    "df['Mortgage loans'] = df_reloans['REALLN']\n",
    "df.head()"
   ]
  },
  {
   "cell_type": "markdown",
   "id": "d3d8d657-b1d7-4eb2-adab-4c2aa2e94a82",
   "metadata": {},
   "source": [
    "Merge Consumer price index"
   ]
  },
  {
   "cell_type": "code",
   "execution_count": 158,
   "id": "bd57fde9-7bac-4244-a58e-1a233c1cabce",
   "metadata": {
    "tags": []
   },
   "outputs": [],
   "source": [
    "df_copy = df.copy()"
   ]
  },
  {
   "cell_type": "code",
   "execution_count": 159,
   "id": "539e05a7-834f-472e-aea4-e735771941f8",
   "metadata": {
    "tags": []
   },
   "outputs": [
    {
     "data": {
      "text/html": [
       "<div>\n",
       "<style scoped>\n",
       "    .dataframe tbody tr th:only-of-type {\n",
       "        vertical-align: middle;\n",
       "    }\n",
       "\n",
       "    .dataframe tbody tr th {\n",
       "        vertical-align: top;\n",
       "    }\n",
       "\n",
       "    .dataframe thead th {\n",
       "        text-align: right;\n",
       "    }\n",
       "</style>\n",
       "<table border=\"1\" class=\"dataframe\">\n",
       "  <thead>\n",
       "    <tr style=\"text-align: right;\">\n",
       "      <th></th>\n",
       "      <th>Date</th>\n",
       "      <th>GDP</th>\n",
       "      <th>GDP rate</th>\n",
       "      <th>Recession dates</th>\n",
       "      <th>Unemployment</th>\n",
       "      <th>Ind.Prod. index</th>\n",
       "      <th>DJI</th>\n",
       "      <th>T-bill</th>\n",
       "      <th>Housing starts</th>\n",
       "      <th>House price index</th>\n",
       "      <th>Consumer loans</th>\n",
       "      <th>Mortgage loans</th>\n",
       "      <th>CPI-U</th>\n",
       "    </tr>\n",
       "  </thead>\n",
       "  <tbody>\n",
       "    <tr>\n",
       "      <th>0</th>\n",
       "      <td>1948-01-01</td>\n",
       "      <td>2239.682</td>\n",
       "      <td>6.2</td>\n",
       "      <td>0</td>\n",
       "      <td>3.4</td>\n",
       "      <td>4.8654</td>\n",
       "      <td>176.26</td>\n",
       "      <td>0.97</td>\n",
       "      <td>1362.0</td>\n",
       "      <td>11.211582</td>\n",
       "      <td>5.7786</td>\n",
       "      <td>8.8194</td>\n",
       "      <td>23.7</td>\n",
       "    </tr>\n",
       "    <tr>\n",
       "      <th>1</th>\n",
       "      <td>1948-02-01</td>\n",
       "      <td>2239.682</td>\n",
       "      <td>6.2</td>\n",
       "      <td>0</td>\n",
       "      <td>3.8</td>\n",
       "      <td>4.6504</td>\n",
       "      <td>168.47</td>\n",
       "      <td>1.00</td>\n",
       "      <td>1362.0</td>\n",
       "      <td>11.211582</td>\n",
       "      <td>5.9030</td>\n",
       "      <td>8.9518</td>\n",
       "      <td>23.5</td>\n",
       "    </tr>\n",
       "    <tr>\n",
       "      <th>2</th>\n",
       "      <td>1948-03-01</td>\n",
       "      <td>2239.682</td>\n",
       "      <td>6.2</td>\n",
       "      <td>0</td>\n",
       "      <td>4.0</td>\n",
       "      <td>4.5160</td>\n",
       "      <td>169.94</td>\n",
       "      <td>1.00</td>\n",
       "      <td>1362.0</td>\n",
       "      <td>11.211582</td>\n",
       "      <td>6.0272</td>\n",
       "      <td>9.0946</td>\n",
       "      <td>23.4</td>\n",
       "    </tr>\n",
       "    <tr>\n",
       "      <th>3</th>\n",
       "      <td>1948-04-01</td>\n",
       "      <td>2276.690</td>\n",
       "      <td>6.8</td>\n",
       "      <td>0</td>\n",
       "      <td>3.9</td>\n",
       "      <td>4.5966</td>\n",
       "      <td>180.05</td>\n",
       "      <td>1.00</td>\n",
       "      <td>1362.0</td>\n",
       "      <td>11.211582</td>\n",
       "      <td>6.1559</td>\n",
       "      <td>9.2382</td>\n",
       "      <td>23.8</td>\n",
       "    </tr>\n",
       "    <tr>\n",
       "      <th>4</th>\n",
       "      <td>1948-05-01</td>\n",
       "      <td>2276.690</td>\n",
       "      <td>6.8</td>\n",
       "      <td>0</td>\n",
       "      <td>3.5</td>\n",
       "      <td>4.6235</td>\n",
       "      <td>186.38</td>\n",
       "      <td>1.00</td>\n",
       "      <td>1362.0</td>\n",
       "      <td>11.211582</td>\n",
       "      <td>6.2822</td>\n",
       "      <td>9.3782</td>\n",
       "      <td>23.9</td>\n",
       "    </tr>\n",
       "  </tbody>\n",
       "</table>\n",
       "</div>"
      ],
      "text/plain": [
       "        Date       GDP  GDP rate  Recession dates  Unemployment  \\\n",
       "0 1948-01-01  2239.682       6.2                0           3.4   \n",
       "1 1948-02-01  2239.682       6.2                0           3.8   \n",
       "2 1948-03-01  2239.682       6.2                0           4.0   \n",
       "3 1948-04-01  2276.690       6.8                0           3.9   \n",
       "4 1948-05-01  2276.690       6.8                0           3.5   \n",
       "\n",
       "   Ind.Prod. index     DJI  T-bill  Housing starts  House price index  \\\n",
       "0           4.8654  176.26    0.97          1362.0          11.211582   \n",
       "1           4.6504  168.47    1.00          1362.0          11.211582   \n",
       "2           4.5160  169.94    1.00          1362.0          11.211582   \n",
       "3           4.5966  180.05    1.00          1362.0          11.211582   \n",
       "4           4.6235  186.38    1.00          1362.0          11.211582   \n",
       "\n",
       "   Consumer loans  Mortgage loans  CPI-U  \n",
       "0          5.7786          8.8194   23.7  \n",
       "1          5.9030          8.9518   23.5  \n",
       "2          6.0272          9.0946   23.4  \n",
       "3          6.1559          9.2382   23.8  \n",
       "4          6.2822          9.3782   23.9  "
      ]
     },
     "execution_count": 159,
     "metadata": {},
     "output_type": "execute_result"
    }
   ],
   "source": [
    "df['CPI-U'] = df_cpiu_2['Inflation Index']\n",
    "df.head()"
   ]
  },
  {
   "cell_type": "markdown",
   "id": "c40b71d2-16b1-457e-8ab4-c42494d7f144",
   "metadata": {},
   "source": [
    "Merge inflation rates"
   ]
  },
  {
   "cell_type": "code",
   "execution_count": 160,
   "id": "7129f374-76e0-47f0-aa21-6c03b52eab63",
   "metadata": {
    "tags": []
   },
   "outputs": [],
   "source": [
    "df_copy = df.copy()"
   ]
  },
  {
   "cell_type": "code",
   "execution_count": 161,
   "id": "0ed615d7-63a6-4a2d-8881-beb65a2110dd",
   "metadata": {
    "tags": []
   },
   "outputs": [
    {
     "data": {
      "text/html": [
       "<div>\n",
       "<style scoped>\n",
       "    .dataframe tbody tr th:only-of-type {\n",
       "        vertical-align: middle;\n",
       "    }\n",
       "\n",
       "    .dataframe tbody tr th {\n",
       "        vertical-align: top;\n",
       "    }\n",
       "\n",
       "    .dataframe thead th {\n",
       "        text-align: right;\n",
       "    }\n",
       "</style>\n",
       "<table border=\"1\" class=\"dataframe\">\n",
       "  <thead>\n",
       "    <tr style=\"text-align: right;\">\n",
       "      <th></th>\n",
       "      <th>Date</th>\n",
       "      <th>GDP</th>\n",
       "      <th>GDP rate</th>\n",
       "      <th>Recession dates</th>\n",
       "      <th>Unemployment</th>\n",
       "      <th>Ind.Prod. index</th>\n",
       "      <th>DJI</th>\n",
       "      <th>T-bill</th>\n",
       "      <th>Housing starts</th>\n",
       "      <th>House price index</th>\n",
       "      <th>Consumer loans</th>\n",
       "      <th>Mortgage loans</th>\n",
       "      <th>CPI-U</th>\n",
       "      <th>Inflation rate</th>\n",
       "    </tr>\n",
       "  </thead>\n",
       "  <tbody>\n",
       "    <tr>\n",
       "      <th>0</th>\n",
       "      <td>1948-01-01</td>\n",
       "      <td>2239.682</td>\n",
       "      <td>6.2</td>\n",
       "      <td>0</td>\n",
       "      <td>3.4</td>\n",
       "      <td>4.8654</td>\n",
       "      <td>176.26</td>\n",
       "      <td>0.97</td>\n",
       "      <td>1362.0</td>\n",
       "      <td>11.211582</td>\n",
       "      <td>5.7786</td>\n",
       "      <td>8.8194</td>\n",
       "      <td>23.7</td>\n",
       "      <td>0.10233</td>\n",
       "    </tr>\n",
       "    <tr>\n",
       "      <th>1</th>\n",
       "      <td>1948-02-01</td>\n",
       "      <td>2239.682</td>\n",
       "      <td>6.2</td>\n",
       "      <td>0</td>\n",
       "      <td>3.8</td>\n",
       "      <td>4.6504</td>\n",
       "      <td>168.47</td>\n",
       "      <td>1.00</td>\n",
       "      <td>1362.0</td>\n",
       "      <td>11.211582</td>\n",
       "      <td>5.9030</td>\n",
       "      <td>8.9518</td>\n",
       "      <td>23.5</td>\n",
       "      <td>0.09302</td>\n",
       "    </tr>\n",
       "    <tr>\n",
       "      <th>2</th>\n",
       "      <td>1948-03-01</td>\n",
       "      <td>2239.682</td>\n",
       "      <td>6.2</td>\n",
       "      <td>0</td>\n",
       "      <td>4.0</td>\n",
       "      <td>4.5160</td>\n",
       "      <td>169.94</td>\n",
       "      <td>1.00</td>\n",
       "      <td>1362.0</td>\n",
       "      <td>11.211582</td>\n",
       "      <td>6.0272</td>\n",
       "      <td>9.0946</td>\n",
       "      <td>23.4</td>\n",
       "      <td>0.06849</td>\n",
       "    </tr>\n",
       "    <tr>\n",
       "      <th>3</th>\n",
       "      <td>1948-04-01</td>\n",
       "      <td>2276.690</td>\n",
       "      <td>6.8</td>\n",
       "      <td>0</td>\n",
       "      <td>3.9</td>\n",
       "      <td>4.5966</td>\n",
       "      <td>180.05</td>\n",
       "      <td>1.00</td>\n",
       "      <td>1362.0</td>\n",
       "      <td>11.211582</td>\n",
       "      <td>6.1559</td>\n",
       "      <td>9.2382</td>\n",
       "      <td>23.8</td>\n",
       "      <td>0.08676</td>\n",
       "    </tr>\n",
       "    <tr>\n",
       "      <th>4</th>\n",
       "      <td>1948-05-01</td>\n",
       "      <td>2276.690</td>\n",
       "      <td>6.8</td>\n",
       "      <td>0</td>\n",
       "      <td>3.5</td>\n",
       "      <td>4.6235</td>\n",
       "      <td>186.38</td>\n",
       "      <td>1.00</td>\n",
       "      <td>1362.0</td>\n",
       "      <td>11.211582</td>\n",
       "      <td>6.2822</td>\n",
       "      <td>9.3782</td>\n",
       "      <td>23.9</td>\n",
       "      <td>0.09132</td>\n",
       "    </tr>\n",
       "  </tbody>\n",
       "</table>\n",
       "</div>"
      ],
      "text/plain": [
       "        Date       GDP  GDP rate  Recession dates  Unemployment  \\\n",
       "0 1948-01-01  2239.682       6.2                0           3.4   \n",
       "1 1948-02-01  2239.682       6.2                0           3.8   \n",
       "2 1948-03-01  2239.682       6.2                0           4.0   \n",
       "3 1948-04-01  2276.690       6.8                0           3.9   \n",
       "4 1948-05-01  2276.690       6.8                0           3.5   \n",
       "\n",
       "   Ind.Prod. index     DJI  T-bill  Housing starts  House price index  \\\n",
       "0           4.8654  176.26    0.97          1362.0          11.211582   \n",
       "1           4.6504  168.47    1.00          1362.0          11.211582   \n",
       "2           4.5160  169.94    1.00          1362.0          11.211582   \n",
       "3           4.5966  180.05    1.00          1362.0          11.211582   \n",
       "4           4.6235  186.38    1.00          1362.0          11.211582   \n",
       "\n",
       "   Consumer loans  Mortgage loans  CPI-U  Inflation rate  \n",
       "0          5.7786          8.8194   23.7         0.10233  \n",
       "1          5.9030          8.9518   23.5         0.09302  \n",
       "2          6.0272          9.0946   23.4         0.06849  \n",
       "3          6.1559          9.2382   23.8         0.08676  \n",
       "4          6.2822          9.3782   23.9         0.09132  "
      ]
     },
     "execution_count": 161,
     "metadata": {},
     "output_type": "execute_result"
    }
   ],
   "source": [
    "df['Inflation rate'] = df_inf_2['Inflation Index']\n",
    "df.head()"
   ]
  },
  {
   "cell_type": "markdown",
   "id": "eaa53e67-4f3c-4962-817c-a09e13ffac4f",
   "metadata": {},
   "source": [
    "Merge Global Economic Growth data "
   ]
  },
  {
   "cell_type": "code",
   "execution_count": 162,
   "id": "517bd660-5c2b-4b1f-8f5e-9e7133041424",
   "metadata": {
    "tags": []
   },
   "outputs": [],
   "source": [
    "df_copy = df.copy()"
   ]
  },
  {
   "cell_type": "code",
   "execution_count": 163,
   "id": "1cceac88-a274-46da-9eae-ad2c99709327",
   "metadata": {
    "tags": []
   },
   "outputs": [
    {
     "data": {
      "text/html": [
       "<div>\n",
       "<style scoped>\n",
       "    .dataframe tbody tr th:only-of-type {\n",
       "        vertical-align: middle;\n",
       "    }\n",
       "\n",
       "    .dataframe tbody tr th {\n",
       "        vertical-align: top;\n",
       "    }\n",
       "\n",
       "    .dataframe thead th {\n",
       "        text-align: right;\n",
       "    }\n",
       "</style>\n",
       "<table border=\"1\" class=\"dataframe\">\n",
       "  <thead>\n",
       "    <tr style=\"text-align: right;\">\n",
       "      <th></th>\n",
       "      <th>Date</th>\n",
       "      <th>GDP</th>\n",
       "      <th>GDP rate</th>\n",
       "      <th>Recession dates</th>\n",
       "      <th>Unemployment</th>\n",
       "      <th>Ind.Prod. index</th>\n",
       "      <th>DJI</th>\n",
       "      <th>T-bill</th>\n",
       "      <th>Housing starts</th>\n",
       "      <th>House price index</th>\n",
       "      <th>Consumer loans</th>\n",
       "      <th>Mortgage loans</th>\n",
       "      <th>CPI-U</th>\n",
       "      <th>Inflation rate</th>\n",
       "      <th>World GDP growth</th>\n",
       "    </tr>\n",
       "  </thead>\n",
       "  <tbody>\n",
       "    <tr>\n",
       "      <th>0</th>\n",
       "      <td>1948-01-01</td>\n",
       "      <td>2239.682</td>\n",
       "      <td>6.2</td>\n",
       "      <td>0</td>\n",
       "      <td>3.4</td>\n",
       "      <td>4.8654</td>\n",
       "      <td>176.26</td>\n",
       "      <td>0.97</td>\n",
       "      <td>1362.0</td>\n",
       "      <td>11.211582</td>\n",
       "      <td>5.7786</td>\n",
       "      <td>8.8194</td>\n",
       "      <td>23.7</td>\n",
       "      <td>0.10233</td>\n",
       "      <td>0.0484</td>\n",
       "    </tr>\n",
       "    <tr>\n",
       "      <th>1</th>\n",
       "      <td>1948-02-01</td>\n",
       "      <td>2239.682</td>\n",
       "      <td>6.2</td>\n",
       "      <td>0</td>\n",
       "      <td>3.8</td>\n",
       "      <td>4.6504</td>\n",
       "      <td>168.47</td>\n",
       "      <td>1.00</td>\n",
       "      <td>1362.0</td>\n",
       "      <td>11.211582</td>\n",
       "      <td>5.9030</td>\n",
       "      <td>8.9518</td>\n",
       "      <td>23.5</td>\n",
       "      <td>0.09302</td>\n",
       "      <td>0.0484</td>\n",
       "    </tr>\n",
       "    <tr>\n",
       "      <th>2</th>\n",
       "      <td>1948-03-01</td>\n",
       "      <td>2239.682</td>\n",
       "      <td>6.2</td>\n",
       "      <td>0</td>\n",
       "      <td>4.0</td>\n",
       "      <td>4.5160</td>\n",
       "      <td>169.94</td>\n",
       "      <td>1.00</td>\n",
       "      <td>1362.0</td>\n",
       "      <td>11.211582</td>\n",
       "      <td>6.0272</td>\n",
       "      <td>9.0946</td>\n",
       "      <td>23.4</td>\n",
       "      <td>0.06849</td>\n",
       "      <td>0.0484</td>\n",
       "    </tr>\n",
       "    <tr>\n",
       "      <th>3</th>\n",
       "      <td>1948-04-01</td>\n",
       "      <td>2276.690</td>\n",
       "      <td>6.8</td>\n",
       "      <td>0</td>\n",
       "      <td>3.9</td>\n",
       "      <td>4.5966</td>\n",
       "      <td>180.05</td>\n",
       "      <td>1.00</td>\n",
       "      <td>1362.0</td>\n",
       "      <td>11.211582</td>\n",
       "      <td>6.1559</td>\n",
       "      <td>9.2382</td>\n",
       "      <td>23.8</td>\n",
       "      <td>0.08676</td>\n",
       "      <td>0.0484</td>\n",
       "    </tr>\n",
       "    <tr>\n",
       "      <th>4</th>\n",
       "      <td>1948-05-01</td>\n",
       "      <td>2276.690</td>\n",
       "      <td>6.8</td>\n",
       "      <td>0</td>\n",
       "      <td>3.5</td>\n",
       "      <td>4.6235</td>\n",
       "      <td>186.38</td>\n",
       "      <td>1.00</td>\n",
       "      <td>1362.0</td>\n",
       "      <td>11.211582</td>\n",
       "      <td>6.2822</td>\n",
       "      <td>9.3782</td>\n",
       "      <td>23.9</td>\n",
       "      <td>0.09132</td>\n",
       "      <td>0.0484</td>\n",
       "    </tr>\n",
       "  </tbody>\n",
       "</table>\n",
       "</div>"
      ],
      "text/plain": [
       "        Date       GDP  GDP rate  Recession dates  Unemployment  \\\n",
       "0 1948-01-01  2239.682       6.2                0           3.4   \n",
       "1 1948-02-01  2239.682       6.2                0           3.8   \n",
       "2 1948-03-01  2239.682       6.2                0           4.0   \n",
       "3 1948-04-01  2276.690       6.8                0           3.9   \n",
       "4 1948-05-01  2276.690       6.8                0           3.5   \n",
       "\n",
       "   Ind.Prod. index     DJI  T-bill  Housing starts  House price index  \\\n",
       "0           4.8654  176.26    0.97          1362.0          11.211582   \n",
       "1           4.6504  168.47    1.00          1362.0          11.211582   \n",
       "2           4.5160  169.94    1.00          1362.0          11.211582   \n",
       "3           4.5966  180.05    1.00          1362.0          11.211582   \n",
       "4           4.6235  186.38    1.00          1362.0          11.211582   \n",
       "\n",
       "   Consumer loans  Mortgage loans  CPI-U  Inflation rate  World GDP growth  \n",
       "0          5.7786          8.8194   23.7         0.10233            0.0484  \n",
       "1          5.9030          8.9518   23.5         0.09302            0.0484  \n",
       "2          6.0272          9.0946   23.4         0.06849            0.0484  \n",
       "3          6.1559          9.2382   23.8         0.08676            0.0484  \n",
       "4          6.2822          9.3782   23.9         0.09132            0.0484  "
      ]
     },
     "execution_count": 163,
     "metadata": {},
     "output_type": "execute_result"
    }
   ],
   "source": [
    "df['World GDP growth'] = df_globa_2['GDP growth']\n",
    "df.head()"
   ]
  },
  {
   "cell_type": "markdown",
   "id": "a0f571c0-5afd-487b-b7d9-0664c2db90e8",
   "metadata": {},
   "source": [
    "Merge S&P500"
   ]
  },
  {
   "cell_type": "code",
   "execution_count": 164,
   "id": "2788b89c-103a-4ad0-ad48-6e4ad9a21d38",
   "metadata": {
    "tags": []
   },
   "outputs": [],
   "source": [
    "df_copy = df.copy()"
   ]
  },
  {
   "cell_type": "code",
   "execution_count": 165,
   "id": "30b7b6a1-5bff-4f65-88a3-9a1435e6b122",
   "metadata": {
    "tags": []
   },
   "outputs": [
    {
     "data": {
      "text/html": [
       "<div>\n",
       "<style scoped>\n",
       "    .dataframe tbody tr th:only-of-type {\n",
       "        vertical-align: middle;\n",
       "    }\n",
       "\n",
       "    .dataframe tbody tr th {\n",
       "        vertical-align: top;\n",
       "    }\n",
       "\n",
       "    .dataframe thead th {\n",
       "        text-align: right;\n",
       "    }\n",
       "</style>\n",
       "<table border=\"1\" class=\"dataframe\">\n",
       "  <thead>\n",
       "    <tr style=\"text-align: right;\">\n",
       "      <th></th>\n",
       "      <th>Date</th>\n",
       "      <th>GDP</th>\n",
       "      <th>GDP rate</th>\n",
       "      <th>Recession dates</th>\n",
       "      <th>Unemployment</th>\n",
       "      <th>Ind.Prod. index</th>\n",
       "      <th>DJI</th>\n",
       "      <th>T-bill</th>\n",
       "      <th>Housing starts</th>\n",
       "      <th>House price index</th>\n",
       "      <th>Consumer loans</th>\n",
       "      <th>Mortgage loans</th>\n",
       "      <th>CPI-U</th>\n",
       "      <th>Inflation rate</th>\n",
       "      <th>World GDP growth</th>\n",
       "      <th>SP500</th>\n",
       "    </tr>\n",
       "  </thead>\n",
       "  <tbody>\n",
       "    <tr>\n",
       "      <th>0</th>\n",
       "      <td>1948-01-01</td>\n",
       "      <td>2239.682</td>\n",
       "      <td>6.2</td>\n",
       "      <td>0</td>\n",
       "      <td>3.4</td>\n",
       "      <td>4.8654</td>\n",
       "      <td>176.26</td>\n",
       "      <td>0.97</td>\n",
       "      <td>1362.0</td>\n",
       "      <td>11.211582</td>\n",
       "      <td>5.7786</td>\n",
       "      <td>8.8194</td>\n",
       "      <td>23.7</td>\n",
       "      <td>0.10233</td>\n",
       "      <td>0.0484</td>\n",
       "      <td>14.83</td>\n",
       "    </tr>\n",
       "    <tr>\n",
       "      <th>1</th>\n",
       "      <td>1948-02-01</td>\n",
       "      <td>2239.682</td>\n",
       "      <td>6.2</td>\n",
       "      <td>0</td>\n",
       "      <td>3.8</td>\n",
       "      <td>4.6504</td>\n",
       "      <td>168.47</td>\n",
       "      <td>1.00</td>\n",
       "      <td>1362.0</td>\n",
       "      <td>11.211582</td>\n",
       "      <td>5.9030</td>\n",
       "      <td>8.9518</td>\n",
       "      <td>23.5</td>\n",
       "      <td>0.09302</td>\n",
       "      <td>0.0484</td>\n",
       "      <td>14.10</td>\n",
       "    </tr>\n",
       "    <tr>\n",
       "      <th>2</th>\n",
       "      <td>1948-03-01</td>\n",
       "      <td>2239.682</td>\n",
       "      <td>6.2</td>\n",
       "      <td>0</td>\n",
       "      <td>4.0</td>\n",
       "      <td>4.5160</td>\n",
       "      <td>169.94</td>\n",
       "      <td>1.00</td>\n",
       "      <td>1362.0</td>\n",
       "      <td>11.211582</td>\n",
       "      <td>6.0272</td>\n",
       "      <td>9.0946</td>\n",
       "      <td>23.4</td>\n",
       "      <td>0.06849</td>\n",
       "      <td>0.0484</td>\n",
       "      <td>14.30</td>\n",
       "    </tr>\n",
       "    <tr>\n",
       "      <th>3</th>\n",
       "      <td>1948-04-01</td>\n",
       "      <td>2276.690</td>\n",
       "      <td>6.8</td>\n",
       "      <td>0</td>\n",
       "      <td>3.9</td>\n",
       "      <td>4.5966</td>\n",
       "      <td>180.05</td>\n",
       "      <td>1.00</td>\n",
       "      <td>1362.0</td>\n",
       "      <td>11.211582</td>\n",
       "      <td>6.1559</td>\n",
       "      <td>9.2382</td>\n",
       "      <td>23.8</td>\n",
       "      <td>0.08676</td>\n",
       "      <td>0.0484</td>\n",
       "      <td>15.40</td>\n",
       "    </tr>\n",
       "    <tr>\n",
       "      <th>4</th>\n",
       "      <td>1948-05-01</td>\n",
       "      <td>2276.690</td>\n",
       "      <td>6.8</td>\n",
       "      <td>0</td>\n",
       "      <td>3.5</td>\n",
       "      <td>4.6235</td>\n",
       "      <td>186.38</td>\n",
       "      <td>1.00</td>\n",
       "      <td>1362.0</td>\n",
       "      <td>11.211582</td>\n",
       "      <td>6.2822</td>\n",
       "      <td>9.3782</td>\n",
       "      <td>23.9</td>\n",
       "      <td>0.09132</td>\n",
       "      <td>0.0484</td>\n",
       "      <td>16.15</td>\n",
       "    </tr>\n",
       "  </tbody>\n",
       "</table>\n",
       "</div>"
      ],
      "text/plain": [
       "        Date       GDP  GDP rate  Recession dates  Unemployment  \\\n",
       "0 1948-01-01  2239.682       6.2                0           3.4   \n",
       "1 1948-02-01  2239.682       6.2                0           3.8   \n",
       "2 1948-03-01  2239.682       6.2                0           4.0   \n",
       "3 1948-04-01  2276.690       6.8                0           3.9   \n",
       "4 1948-05-01  2276.690       6.8                0           3.5   \n",
       "\n",
       "   Ind.Prod. index     DJI  T-bill  Housing starts  House price index  \\\n",
       "0           4.8654  176.26    0.97          1362.0          11.211582   \n",
       "1           4.6504  168.47    1.00          1362.0          11.211582   \n",
       "2           4.5160  169.94    1.00          1362.0          11.211582   \n",
       "3           4.5966  180.05    1.00          1362.0          11.211582   \n",
       "4           4.6235  186.38    1.00          1362.0          11.211582   \n",
       "\n",
       "   Consumer loans  Mortgage loans  CPI-U  Inflation rate  World GDP growth  \\\n",
       "0          5.7786          8.8194   23.7         0.10233            0.0484   \n",
       "1          5.9030          8.9518   23.5         0.09302            0.0484   \n",
       "2          6.0272          9.0946   23.4         0.06849            0.0484   \n",
       "3          6.1559          9.2382   23.8         0.08676            0.0484   \n",
       "4          6.2822          9.3782   23.9         0.09132            0.0484   \n",
       "\n",
       "   SP500  \n",
       "0  14.83  \n",
       "1  14.10  \n",
       "2  14.30  \n",
       "3  15.40  \n",
       "4  16.15  "
      ]
     },
     "execution_count": 165,
     "metadata": {},
     "output_type": "execute_result"
    }
   ],
   "source": [
    "df['SP500'] = df_snp500['Value']\n",
    "df.head()"
   ]
  },
  {
   "cell_type": "code",
   "execution_count": 166,
   "id": "eaf353fa-0327-483e-9873-5aad3ac75328",
   "metadata": {
    "tags": []
   },
   "outputs": [],
   "source": [
    "col_list = df.columns.to_list()\n",
    "dfo = df[['Date', 'GDP', 'GDP rate', 'Recession dates', 'Unemployment', 'Ind.Prod. index', 'DJI', 'SP500', 'T-bill', 'Housing starts', 'House price index', 'Consumer loans', 'Mortgage loans', 'CPI-U', 'Inflation rate', 'World GDP growth']]"
   ]
  },
  {
   "cell_type": "code",
   "execution_count": 167,
   "id": "b09ffe3d-4c88-4583-b435-9987f449e1f8",
   "metadata": {
    "tags": []
   },
   "outputs": [],
   "source": [
    "df = dfo"
   ]
  },
  {
   "cell_type": "code",
   "execution_count": 168,
   "id": "0ef011ad-a252-4487-94c0-0c4af87229af",
   "metadata": {
    "tags": []
   },
   "outputs": [
    {
     "data": {
      "text/plain": [
       "14640"
      ]
     },
     "execution_count": 168,
     "metadata": {},
     "output_type": "execute_result"
    }
   ],
   "source": [
    "df.size"
   ]
  },
  {
   "cell_type": "code",
   "execution_count": 169,
   "id": "80cdd9ae-640b-4fb4-94f2-f3b20fa2de50",
   "metadata": {
    "tags": []
   },
   "outputs": [
    {
     "data": {
      "text/plain": [
       "Index(['Date', 'GDP', 'GDP rate', 'Recession dates', 'Unemployment',\n",
       "       'Ind.Prod. index', 'DJI', 'SP500', 'T-bill', 'Housing starts',\n",
       "       'House price index', 'Consumer loans', 'Mortgage loans', 'CPI-U',\n",
       "       'Inflation rate', 'World GDP growth'],\n",
       "      dtype='object')"
      ]
     },
     "execution_count": 169,
     "metadata": {},
     "output_type": "execute_result"
    }
   ],
   "source": [
    "df.columns"
   ]
  },
  {
   "cell_type": "markdown",
   "id": "fcf13ec9-0c90-44da-9b17-a5867b1e3139",
   "metadata": {},
   "source": [
    "Add FEDFUNDS, AAA_corb_bonds"
   ]
  },
  {
   "cell_type": "code",
   "execution_count": null,
   "id": "d92c163e-bf18-4c8a-a777-40d5da3bb689",
   "metadata": {},
   "outputs": [],
   "source": []
  },
  {
   "cell_type": "code",
   "execution_count": null,
   "id": "10d9b727-0a10-45aa-bd78-0266e02cfd9e",
   "metadata": {},
   "outputs": [],
   "source": []
  },
  {
   "cell_type": "code",
   "execution_count": null,
   "id": "de1529cc-3616-4a64-87a9-544525880cea",
   "metadata": {},
   "outputs": [],
   "source": []
  },
  {
   "cell_type": "code",
   "execution_count": null,
   "id": "b307c17d-9f0c-4b34-a4e4-717d152b97ad",
   "metadata": {},
   "outputs": [],
   "source": []
  },
  {
   "cell_type": "code",
   "execution_count": 170,
   "id": "7d95c480-5c0e-42b8-8d7b-5b54dfd2bee6",
   "metadata": {
    "tags": []
   },
   "outputs": [],
   "source": [
    "df.to_csv('recession_dataset.csv', index=False)"
   ]
  }
 ],
 "metadata": {
  "kernelspec": {
   "display_name": "Python 3 (ipykernel)",
   "language": "python",
   "name": "python3"
  },
  "language_info": {
   "codemirror_mode": {
    "name": "ipython",
    "version": 3
   },
   "file_extension": ".py",
   "mimetype": "text/x-python",
   "name": "python",
   "nbconvert_exporter": "python",
   "pygments_lexer": "ipython3",
   "version": "3.11.0"
  }
 },
 "nbformat": 4,
 "nbformat_minor": 5
}
